{
 "cells": [
  {
   "cell_type": "markdown",
   "metadata": {},
   "source": [
    "# cooking the best possible web search result\n",
    "\n",
    "We currently have a nice web search report capability, that generates a rich Markdown document containing the search results.\n",
    "\n",
    "But what if we just want a simple answer to a given query? say \"give me the ticker symbol of the leading cie in yoghurts\"\n",
    "\n",
    "We'd need another workflow for that. The algorithm would be the following:\n",
    "\n",
    "**main loop**\n",
    "\n",
    "- start with a graph state having keys:\n",
    "  - `attempts_count`\n",
    "  - `num_web_search_queries`\n",
    "  - `searches_summary`\n",
    "  - `searched_queries`\n",
    "  - `searched_urls`\n",
    "- generate x queries with the initial query\n",
    "- update the state: \n",
    "  - add the queries to the `searched_queries` list\n",
    "  - add the urls to the `searched_urls` list\n",
    "- search the web using each of the queries and concatenate the results\n",
    "  - skip any url that has already been searched without making less searches\n",
    "- write a summary of the search results `searches_summary` using a LLM\n",
    "  - should show the query, the results and the sources of the results\n",
    "- attempt to derive the information we need from the concatenated results\n",
    "- increment the `attempts_count`\n",
    "\n",
    "**if success**\n",
    "\n",
    "- return the answer as a JSON having key `answer`\n",
    "\n",
    "**if failure**\n",
    "\n",
    "- return the answer as a JSON having key `answer` with value `null`\n",
    "- generate x new queries:\n",
    "  - tell the LLM which query is the original query\n",
    "  - tell the LLM which queries have already been tried, and should not be tried again\n",
    "  - give the LLM the `searches_summary`\n",
    "  - tell the LLM to generate x new queries\n",
    "- re do the main loop with the new queries until we succeed or run out of attempts\n"
   ]
  },
  {
   "cell_type": "markdown",
   "metadata": {},
   "source": [
    "## Initialize graph state\n",
    "\n",
    "- start with a graph state having keys:\n",
    "  - `attempts_count`\n",
    "  - `num_web_search_queries`\n",
    "  - `searches_summary`\n",
    "  - `searched_queries`\n",
    "  - `searched_urls`"
   ]
  },
  {
   "cell_type": "code",
   "execution_count": 1,
   "metadata": {},
   "outputs": [],
   "source": [
    "user_query = \"give me the ticker symbol of the leading company in yoghurts\""
   ]
  },
  {
   "cell_type": "code",
   "execution_count": 2,
   "metadata": {},
   "outputs": [],
   "source": [
    "from langgraph.graph import MessagesState\n",
    "\n",
    "\n",
    "# remember that `MessagesState` has a built-in `messages` key\n",
    "class State(MessagesState):\n",
    "    attempts_count: int\n",
    "    num_web_search_queries: int\n",
    "    searches_summary: str\n",
    "    searched_queries: list[str]\n",
    "    searched_urls: list[str]"
   ]
  },
  {
   "cell_type": "markdown",
   "metadata": {},
   "source": [
    "## generate x queries with the initial query"
   ]
  },
  {
   "cell_type": "code",
   "execution_count": 3,
   "metadata": {},
   "outputs": [
    {
     "data": {
      "text/plain": [
       "{'queries': ['leading yogurt company stock symbol',\n",
       "  'largest dairy company by market cap ticker',\n",
       "  'top yogurt brand market share and stock symbol']}"
      ]
     },
     "execution_count": 3,
     "metadata": {},
     "output_type": "execute_result"
    }
   ],
   "source": [
    "from agentic_search.chains.web import get_web_search_queries_chain\n",
    "\n",
    "queries_generation_res = get_web_search_queries_chain().invoke({\"query\": user_query, \"x\": 3})\n",
    "queries_generation_res\n"
   ]
  },
  {
   "cell_type": "markdown",
   "metadata": {},
   "source": [
    "## TODO: update the state: add the queries to the `searched_queries` list and the urls to the `searched_urls` list"
   ]
  },
  {
   "cell_type": "code",
   "execution_count": 4,
   "metadata": {},
   "outputs": [],
   "source": [
    "def generate_web_search_queries_node(state: State):\n",
    "    user_query_message = state[\"messages\"][-1]\n",
    "    res = get_web_search_queries_chain().invoke({\"query\": user_query_message, \"x\": state[\"num_web_search_queries\"]})\n",
    "    return {\n",
    "        \"searched_queries\": state[\"searched_queries\"] + res[\"queries\"],\n",
    "    }"
   ]
  },
  {
   "cell_type": "code",
   "execution_count": 5,
   "metadata": {},
   "outputs": [
    {
     "data": {
      "image/jpeg": "[encoded data removed]",
      "text/plain": [
       "<IPython.core.display.Image object>"
      ]
     },
     "metadata": {},
     "output_type": "display_data"
    }
   ],
   "source": [
    "from IPython.display import Image, display\n",
    "from langgraph.checkpoint.memory import MemorySaver\n",
    "from langgraph.graph import END, StateGraph, START\n",
    "\n",
    "\n",
    "def get_web_search_graph_v1(display_graph: bool = False):\n",
    "    # Define a new graph\n",
    "    workflow = StateGraph(State)\n",
    "    workflow.add_node(\"gen_web_search_queries\", generate_web_search_queries_node)\n",
    "\n",
    "    # Set the entrypoint as conversation\n",
    "    workflow.add_edge(START, \"gen_web_search_queries\")\n",
    "    workflow.add_edge(\"gen_web_search_queries\", END)\n",
    "\n",
    "    # Compile\n",
    "    memory = MemorySaver()\n",
    "    graph = workflow.compile(checkpointer=memory)\n",
    "    if display_graph:\n",
    "        display(Image(graph.get_graph().draw_mermaid_png()))\n",
    "    return graph\n",
    "\n",
    "graph = get_web_search_graph_v1(True)"
   ]
  },
  {
   "cell_type": "code",
   "execution_count": 6,
   "metadata": {},
   "outputs": [
    {
     "data": {
      "text/plain": [
       "['leading yoghurt company stock symbol',\n",
       " 'largest yoghurt manufacturer ticker symbol',\n",
       " 'top yoghurt brand stock symbol']"
      ]
     },
     "execution_count": 6,
     "metadata": {},
     "output_type": "execute_result"
    }
   ],
   "source": [
    "from langchain_core.messages import HumanMessage\n",
    "\n",
    "def get_web_search_capability_v1(q: str, thread_id: str = \"1\"):\n",
    "    g = get_web_search_graph_v1()\n",
    "    # create a thread\n",
    "    config = {\"configurable\": {\"thread_id\": thread_id}}\n",
    "    # start conversation\n",
    "    input_message = HumanMessage(content=q)\n",
    "    output = g.invoke({\n",
    "        \"attempts_count\": 0,\n",
    "        \"messages\": [input_message], \n",
    "        \"num_web_search_queries\": 3,\n",
    "        \"searches_summary\": \"\",\n",
    "        \"searched_queries\": []\n",
    "    }, config) \n",
    "    return output[\"searched_queries\"]\n",
    "\n",
    "res = get_web_search_capability_v1(user_query)\n",
    "res\n"
   ]
  },
  {
   "cell_type": "markdown",
   "metadata": {},
   "source": [
    "## search the web using each of the queries"
   ]
  },
  {
   "cell_type": "code",
   "execution_count": 7,
   "metadata": {},
   "outputs": [],
   "source": [
    "from agentic_search.capabilities.web import get_scrape_and_summarize_webpages_from_single_query\n",
    "from langchain_core.runnables import RunnableConfig\n",
    "\n",
    "# you can use the `config` to pass the `thread_id` and other parameters to the node\n",
    "def get_search_the_web_using_queries_node(state: State, config: RunnableConfig):\n",
    "    queries = state[\"searched_queries\"]\n",
    "    res = \"\"\n",
    "    for query in queries:\n",
    "        res += f\"\"\"\\n\\n{get_scrape_and_summarize_webpages_from_single_query(query)}\"\"\"\n",
    "    return {\"searches_summary\": res}\n"
   ]
  },
  {
   "cell_type": "code",
   "execution_count": 8,
   "metadata": {},
   "outputs": [
    {
     "data": {
      "image/jpeg": "[encoded data removed]",
      "text/plain": [
       "<IPython.core.display.Image object>"
      ]
     },
     "metadata": {},
     "output_type": "display_data"
    }
   ],
   "source": [
    "def get_web_search_graph_v2(display_graph: bool = False):\n",
    "    # Define a new graph\n",
    "    workflow = StateGraph(State)\n",
    "    workflow.add_node(\"gen_web_search_queries\", generate_web_search_queries_node)\n",
    "    workflow.add_node(\"search_the_web_using_queries\", get_search_the_web_using_queries_node)\n",
    "\n",
    "    # Set the entrypoint as conversation\n",
    "    workflow.add_edge(START, \"gen_web_search_queries\")\n",
    "    workflow.add_edge(\"gen_web_search_queries\", \"search_the_web_using_queries\")\n",
    "    workflow.add_edge(\"search_the_web_using_queries\", END)\n",
    "\n",
    "    # Compile\n",
    "    memory = MemorySaver()\n",
    "    graph = workflow.compile(checkpointer=memory)\n",
    "    if display_graph:\n",
    "        display(Image(graph.get_graph().draw_mermaid_png()))\n",
    "    return graph\n",
    "\n",
    "graph = get_web_search_graph_v2(True)"
   ]
  },
  {
   "cell_type": "code",
   "execution_count": 9,
   "metadata": {},
   "outputs": [
    {
     "name": "stdout",
     "output_type": "stream",
     "text": [
      "\u001b[36m[DEBUG] \n",
      "serp results for query leading yoghurt company stock symbol: [{'snippet': 'Chobani, LLC (the \"Company\" and, together with Chobani Finance Corporation, Inc., \"Chobani\"), a next generation food and beverage company originally known for its high-quality Greek yogurt, today ...', 'title': 'Chobani Announces Pricing of its $500 Million Private Offering of ...', 'link': 'https://finance.yahoo.com/news/chobani-announces-pricing-500-million-230400064.html'}, {'snippet': 'General Mills will sell its North American yogurt business to French dairy firms Groupe Lactalis and Sodiaal in a $2.1 billion deal, the Cheerios maker said on Thursday.', 'title': 'General Mills sells North American yogurt operations in $2 ... - CNN', 'link': 'https://www.cnn.com/2024/09/12/business/general-mills-yogurt-lactalis/index.html'}, {'snippet': 'General Mills, Inc. (NYSE: GIS) today announced that it has entered into definitive agreements to sell its North American Yogurt business to Lactalis and Sodiaal, two leading French dairy companies, in cash transactions valued at an aggregate $2.1 billion USD. Following the completion of the transactions, the U.S. and Canadian businesses will operate independently, with Lactalis acquiring the ...', 'title': 'General Mills Announces Agreements to Sell Its North American Yogurt ...', 'link': 'https://investors.generalmills.com/press-releases/press-release-details/2024/General-Mills-Announces-Agreements-to-Sell-Its-North-American-Yogurt-Business-to-Lactalis-and-Sodiaal/'}]\n",
      "\u001b[0m\n",
      "\u001b[36m[DEBUG] \n",
      "scraping webpage https://finance.yahoo.com/news/chobani-announces-pricing-500-million-230400064.html\n",
      "\u001b[0m\n",
      "\u001b[36m[DEBUG] \n",
      "scraping webpage https://www.cnn.com/2024/09/12/business/general-mills-yogurt-lactalis/index.html\n",
      "\u001b[0m\n",
      "\u001b[36m[DEBUG] \n",
      "scraping webpage https://investors.generalmills.com/press-releases/press-release-details/2024/General-Mills-Announces-Agreements-to-Sell-Its-North-American-Yogurt-Business-to-Lactalis-and-Sodiaal/\n",
      "\u001b[0m\n",
      "\u001b[36m[DEBUG] \n",
      "error scraping webpage https://investors.generalmills.com/press-releases/press-release-details/2024/General-Mills-Announces-Agreements-to-Sell-Its-North-American-Yogurt-Business-to-Lactalis-and-Sodiaal/: failed to scrape webpage with status: 403\n",
      "\u001b[0m\n",
      "\u001b[36m[DEBUG] \n",
      "error scraping webpage https://finance.yahoo.com/news/chobani-announces-pricing-500-million-230400064.html: failed to scrape webpage with status: 404\n",
      "\u001b[0m\n",
      "\u001b[36m[DEBUG] \n",
      "Web search result: {'content': 'INITIAL QUERY: leading yoghurt company stock symbol\\nSOURCE: https://finance.yahoo.com/news/chobani-announces-pricing-500-million-230400064.html\\nSUMMARY: ---\\n\\n---\\n\\nINITIAL QUERY: leading yoghurt company stock symbol\\nSOURCE: https://www.cnn.com/2024/09/12/business/general-mills-yogurt-lactalis/index.html\\nSUMMARY: ---\\n# General Mills sells North American yogurt operations in $2 billion deal to focus on stronger brands\\n## By Reuters, 2 minute read\\nPublished 9:15 AM EDT, Thu September 12, 2024\\nGeneral Mills Inc. will sell its North American yogurt business to French dairy firms Groupe Lactalis and Sodiaal in a $2.1 billion deal.\\nLactalis will acquire the U.S. business and Sodiaal will buy the Canadian unit.\\nThe divestiture will help sharpen focus on key brands that have stronger margins, Chief Executive Officer Jeff Harmening said in a statement.\\nYoplait is facing tough competition in the U.S. from privately held yogurt brand Chobani, as well as Danone’s Dannon brand.\\nThe North American yogurt business contributed about $1.5 billion to General Mills’ fiscal 2024 net sales.\\nThe Golden Valley, Minnesota-based company expects the deals to close in 2025, and will dilute adjusted earnings per share by about 3% in the first 12 months after the close.\\nBloomberg News earlier on Thursday reported that General Mills was in talks to sell the North America yogurt operations to Groupe Lactalis and Sodiaal.\\nYoplait was started by a group of French dairy farmers in 1964. It partnered with General Mills in 1977 through a franchise agreement giving the maker of Bisquick pancake mix exclusive rights to market the brand in the U.S.\\nThen in 2011, General Mills acquired a 51% stake worth $1.2 billion in Yoplait from private equity firm PAI Partners and French dairy cooperative Sodiaal, which retained the remaining stake.\\nIn 2021, General Mills sold the European operations of Yoplait to Sodiaal.\\n---\\n\\nINITIAL QUERY: leading yoghurt company stock symbol\\nSOURCE: https://investors.generalmills.com/press-releases/press-release-details/2024/General-Mills-Announces-Agreements-to-Sell-Its-North-American-Yogurt-Business-to-Lactalis-and-Sodiaal/\\nSUMMARY: ---\\n\\n---'}\n",
      "\u001b[0m\n",
      "\u001b[36m[DEBUG] \n",
      "serp results for query largest yoghurt manufacturer ticker symbol: [{'snippet': \"Get the latest Danone S.A. (EPA: BN) stock price quote with financials, statistics, dividends, charts and more. Skip to main content. Log In Sign Up. Home. ... Ticker Symbol BN. Full Company Profile. Financial Performance. In 2023, Danone's revenue was 27.62 billion, a decrease of -0.15% compared to the previous year's 27.66 billion ...\", 'title': 'Danone S.A. (EPA: BN) Stock Price & Overview - Stock Analysis', 'link': 'https://stockanalysis.com/quote/epa/BN/'}, {'snippet': 'With immediate interest in the product, Hamdi hired four more people, who still work for us today. A lot has changed since then. Chobani team is now made up of nearly 3000 innovative, hardworking, fun-loving people. Their newest home in Twin Falls, ID, is the largest yogurt manufacturing facility in the world.', 'title': 'Invest In Chobani Stock | Buy Pre-IPO Shares | EquityZen', 'link': 'https://equityzen.com/company/chobani/'}, {'snippet': 'Chobani Inc. is a consumer-packaged goods company. The Company is engaged in producing nutritious, and natural portfolio of yogurt, oat milk, coffee creamer, ready-to-drink coffee, and non-dairy ...', 'title': 'CHO.O - | Stock Price & Latest News | Reuters', 'link': 'https://www.reuters.com/markets/companies/CHO.O'}]\n",
      "\u001b[0m\n",
      "\u001b[36m[DEBUG] \n",
      "scraping webpage https://stockanalysis.com/quote/epa/BN/\n",
      "\u001b[0m\n",
      "\u001b[36m[DEBUG] \n",
      "scraping webpage https://equityzen.com/company/chobani/\n",
      "\u001b[0m\n",
      "\u001b[36m[DEBUG] \n",
      "scraping webpage https://www.reuters.com/markets/companies/CHO.O\n",
      "\u001b[0m\n",
      "\u001b[36m[DEBUG] \n",
      "error scraping webpage https://www.reuters.com/markets/companies/CHO.O: failed to scrape webpage with status: 401\n",
      "\u001b[0m\n",
      "\u001b[36m[DEBUG] \n",
      "error scraping webpage https://equityzen.com/company/chobani/: HTTPSConnectionPool(host='equityzen.com', port=443): Read timed out. (read timeout=5)\n",
      "\u001b[0m\n",
      "\u001b[36m[DEBUG] \n",
      "Web search result: {'content': 'INITIAL QUERY: largest yoghurt manufacturer ticker symbol\\nSOURCE: https://stockanalysis.com/quote/epa/BN/\\nSUMMARY: ---\\nDanone S.A. (EPA: BN) Stock Price & Overview\\n=============================================\\n\\n*   **Stock Information**\\n    *   Ticker Symbol: BN\\n    *   Exchange: Euronext Paris\\n*   **Overview**\\n    *   Danone S.A. operates in the food and beverage industry.\\n    *   The company produces and distributes yogurts, dairy products, coffee creamers and drinks, beverages, plant-based products, ice creams, frozen desserts, and cheese products under various brands.\\n*   **Financials**\\n    *   Revenue (ttm): 27.21B\\n    *   Net Income (ttm): 1.00B\\n    *   Market Cap: 42.89B\\n*   **Stock Performance**\\n    *   Current Price: 66.26\\n    *   Change (-0.38, -0.57%)\\n    *   Ex-Dividend Date: n/a\\n    *   Volume: 299,100\\n*   **Analysts and Earnings**\\n    *   Analysts: n/a\\n    *   Price Target: n/a\\n    *   Earnings Date: Oct 25, 2024\\n\\nINITIAL QUERY: largest yoghurt manufacturer ticker symbol\\nSOURCE: https://equityzen.com/company/chobani/\\nSUMMARY: ---\\n\\n---\\n\\nINITIAL QUERY: largest yoghurt manufacturer ticker symbol\\nSOURCE: https://www.reuters.com/markets/companies/CHO.O\\nSUMMARY: ---\\n\\n---'}\n",
      "\u001b[0m\n",
      "\u001b[36m[DEBUG] \n",
      "serp results for query top yoghurt brand stock symbol: [{'snippet': 'Get the latest Yum! Brands, Inc. (YUM) real-time quote, historical performance, charts, and other financial information to help you make more informed trading and investment decisions.', 'title': 'Yum! Brands, Inc. (YUM) Stock Price & News - Google Finance', 'link': 'https://www.google.com/finance/quote/YUM:NYSE'}, {'snippet': \"6. Mission Produce. Another avocado seller to make the list, Mission Produce went public in 2020 and calls itself the world's most advanced avocado network. It buys avocados from around the ...\", 'title': '6 Best Vegan Stocks to Buy in 2024 | The Motley Fool', 'link': 'https://www.fool.com/investing/stock-market/market-sectors/consumer-staples/vegan-stocks/'}, {'snippet': 'Yum! Brands RSC, 1900 Colonel Sanders Lane, Louisville, KY 40213, 502.874.8300', 'title': 'Stock Quote & Chart - Yum! Brands', 'link': 'https://investors.yum.com/stock/stock-quote-and-chart/default.aspx'}]\n",
      "\u001b[0m\n",
      "\u001b[36m[DEBUG] \n",
      "scraping webpage https://www.fool.com/investing/stock-market/market-sectors/consumer-staples/vegan-stocks/\n",
      "\u001b[0m\n",
      "\u001b[36m[DEBUG] \n",
      "scraping webpage https://www.google.com/finance/quote/YUM:NYSE\n",
      "\u001b[0m\n",
      "\u001b[36m[DEBUG] \n",
      "scraping webpage https://investors.yum.com/stock/stock-quote-and-chart/default.aspx\n",
      "\u001b[0m\n",
      "\u001b[36m[DEBUG] \n",
      "error scraping webpage https://investors.yum.com/stock/stock-quote-and-chart/default.aspx: failed to scrape webpage with status: 403\n",
      "\u001b[0m\n",
      "\u001b[36m[DEBUG] \n",
      "Web search result: {'content': 'INITIAL QUERY: top yoghurt brand stock symbol\\nSOURCE: https://www.google.com/finance/quote/YUM:NYSE\\nSUMMARY: **Yum! Brands, Inc. (YUM) Stock Price & News**\\n==============================================\\n\\n* Current price: $132.55\\n* Market cap: 37.30B USD\\n* P/E ratio: 24.20\\n* Dividend yield: 2.02%\\n* CEO: David Gibbs\\n* Headquarters: Louisville, Kentucky, United States\\n\\nINITIAL QUERY: top yoghurt brand stock symbol\\nSOURCE: https://www.fool.com/investing/stock-market/market-sectors/consumer-staples/vegan-stocks/\\nSUMMARY: # 6 Best Vegan Stocks to Buy in 2024\\n\\nThe global vegan food market is expected to grow by a compound annual rate of 10.5% through 2026, outpacing the overall food industry.\\n\\n## Key Points\\n\\n*   Global vegan food market set for 10.5% CAGR through 2026.\\n*   Factors like healthy eating trends, environmental concerns, and technological innovations drive plant-based stocks.\\n*   Companies such as Beyond Meat (BYND) and Oatly (OTLY) command multibillion-dollar valuations.\\n\\n## Top Picks\\n\\n1.  **Beyond Meat**: A leader in the plant-based meat substitute industry with a strong track record of innovation and product development.\\n2.  **Oatly**: A Swedish oat milk brand that has shaken up the plant-based milk category, with a revenue jump of 52.6% to $643.2 million in 2021.\\n3.  **Calavo Growers**: A producer of avocados and other fresh fruits and vegetables, with half its revenue coming from avocados.\\n4.  **Tattooed Chef**: A seller of plant-based frozen foods and ready-to-cook foods, with a revenue jump of 43.7% in 2021 to $213.4 million.\\n5.  **Local Bounti**: An ag tech start-up using vertical farming and hydroponic greenhouses, targeting $462 million in revenue by 2025.\\n6.  **Mission Produce**: A global producer of avocados and mangoes, with a strong presence in the avocado market.\\n\\n## Investing Topics\\n\\n*   Investing in Food Stocks\\n*   Investing in Restaurant Stocks\\n*   Investing in Agriculture Stocks\\n*   Investing in Vegan ETFs\\n\\nINITIAL QUERY: top yoghurt brand stock symbol\\nSOURCE: https://investors.yum.com/stock/stock-quote-and-chart/default.aspx\\nSUMMARY: ---\\n\\n---'}\n",
      "\u001b[0m\n"
     ]
    },
    {
     "data": {
      "text/plain": [
       "\"\\n\\n**Summary:**\\n\\n- General Mills sells North American yogurt operations to Lactalis and Sodiaal for $2.1 billion\\n  - Lactalis acquires U.S. business, Sodiaal buys Canadian unit\\n  - Deal aims to focus on stronger brands with higher margins\\n  - Yoplait facing competition from Chobani and Danone's Dannon brand\\n  - North American yogurt business contributed about $1.5 billion to General Mills' fiscal 2024 net sales\\n\\n**Largest Yogurt Manufacturer Ticker Symbols**\\n\\n- Danone S.A. (EPA: BN)\\n- Chobani Inc. (Private)\\n\\n**Yum! Brands, Inc. (YUM) Stock Price & News**\\n==============================================\\n\\n* Current price: $132.55\\n* Market cap: 37.30B USD\\n* P/E ratio: 24.20\\n* Dividend yield: 2.02%\\n* CEO: David Gibbs\\n* Headquarters: Louisville, Kentucky, United States\""
      ]
     },
     "execution_count": 9,
     "metadata": {},
     "output_type": "execute_result"
    }
   ],
   "source": [
    "def get_web_search_capability_v2(q: str, thread_id: str = \"1\"):\n",
    "    g = get_web_search_graph_v2()\n",
    "    # create a thread\n",
    "    config = {\"configurable\": {\n",
    "        \"thread_id\": thread_id,\n",
    "    }}\n",
    "    # start conversation\n",
    "    input_message = HumanMessage(content=q)\n",
    "    output = g.invoke({\n",
    "        \"attempts_count\": 0,\n",
    "        \"messages\": [input_message], \n",
    "        \"num_web_search_queries\": 3,\n",
    "        \"searches_summary\": \"\",\n",
    "        \"searched_queries\": []\n",
    "    }, config) \n",
    "    return output[\"searches_summary\"]\n",
    "\n",
    "res = get_web_search_capability_v2(user_query)\n",
    "res"
   ]
  },
  {
   "cell_type": "code",
   "execution_count": 10,
   "metadata": {},
   "outputs": [],
   "source": [
    "# write results to scratchpad.md\n",
    "with open(\"scratchpad.md\", \"w\") as f:\n",
    "    f.write(res)\n"
   ]
  }
 ],
 "metadata": {
  "kernelspec": {
   "display_name": "venv",
   "language": "python",
   "name": "python3"
  },
  "language_info": {
   "codemirror_mode": {
    "name": "ipython",
    "version": 3
   },
   "file_extension": ".py",
   "mimetype": "text/x-python",
   "name": "python",
   "nbconvert_exporter": "python",
   "pygments_lexer": "ipython3",
   "version": "3.12.3"
  }
 },
 "nbformat": 4,
 "nbformat_minor": 2
}
