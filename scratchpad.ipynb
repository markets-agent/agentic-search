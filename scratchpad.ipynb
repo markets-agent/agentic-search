{
 "cells": [
  {
   "cell_type": "markdown",
   "metadata": {},
   "source": [
    "# cooking the best possible web search result (in termes of relevance and speed)"
   ]
  },
  {
   "cell_type": "code",
   "execution_count": 1,
   "metadata": {},
   "outputs": [],
   "source": [
    "user_query = \"what is the latest top loser in the American stock market\""
   ]
  },
  {
   "cell_type": "markdown",
   "metadata": {},
   "source": [
    "## test functions"
   ]
  },
  {
   "cell_type": "code",
   "execution_count": null,
   "metadata": {},
   "outputs": [],
   "source": [
    "from agentic_search.functions.web import get_serp_links\n",
    "\n",
    "links = await get_serp_links(user_query)\n",
    "links\n"
   ]
  },
  {
   "cell_type": "code",
   "execution_count": 3,
   "metadata": {},
   "outputs": [],
   "source": [
    "from agentic_search.functions.web import get_webpages_soups_text\n",
    "\n",
    "res = get_webpages_soups_text([x[\"href\"] for x in links], user_query)\n",
    "res"
   ]
  },
  {
   "cell_type": "markdown",
   "metadata": {},
   "source": [
    "## test chains"
   ]
  },
  {
   "cell_type": "code",
   "execution_count": null,
   "metadata": {},
   "outputs": [],
   "source": [
    "from agentic_search.chains.web import get_web_search_queries_chain\n",
    "\n",
    "chain = get_web_search_queries_chain()\n",
    "res = chain.invoke({\"query\": user_query})\n",
    "res\n"
   ]
  },
  {
   "cell_type": "markdown",
   "metadata": {},
   "source": [
    "## test tools"
   ]
  },
  {
   "cell_type": "code",
   "execution_count": null,
   "metadata": {},
   "outputs": [],
   "source": [
    "from agentic_search.tools.web import get_agentic_web_search_results_tool\n",
    "\n",
    "res = await get_agentic_web_search_results_tool(user_query)\n",
    "# write results to file for consultation\n",
    "with open(\"scratchpad.md\", \"w\") as f:\n",
    "    f.write(res)"
   ]
  },
  {
   "cell_type": "markdown",
   "metadata": {},
   "source": [
    "## test capabilities"
   ]
  },
  {
   "cell_type": "code",
   "execution_count": 2,
   "metadata": {},
   "outputs": [
    {
     "name": "stdout",
     "output_type": "stream",
     "text": [
      "\u001b[36m[DEBUG] \n",
      "invoking web search agent with messages: [SystemMessage(content='You are a precise research assistant with web search capabilities. Your tasks:\\n1. Provide accurate, current information\\n2. Synthesize multi-source information concisely\\n3. Include citations and maintain objectivity\\n\\nFocus on authoritative, verifiable sources only.\\n\\nSkip web search if you are completely certain of information.\\nOtherwise, perform targeted searches as needed.', additional_kwargs={}, response_metadata={}), HumanMessage(content='what is the latest top loser in the American stock market', additional_kwargs={}, response_metadata={}, id='7ae9549b-3474-42c4-bcd7-3b231fdd4713')]\n",
      "\u001b[0m\n",
      "\u001b[36m[DEBUG] \n",
      "invoking web search tool with query: latest top loser in American stock market\n",
      "\u001b[0m\n",
      "\u001b[36m[DEBUG] \n",
      "Search attempt failed: https://links.duckduckgo.com/d.js?q=latest+top+performing+stocks+in+American+stock+market&kl=wt-wt&l=wt-wt&p=&s=0&df=&vqd=4-307563389108654770463578618576759759425&bing_market=wt-WT&ex=-1 202 Ratelimit\n",
      "\u001b[0m\n",
      "\u001b[36m[DEBUG] \n",
      "serp results for query latest top performing stocks in American stock market: []\n",
      "\u001b[0m\n",
      "\u001b[36m[DEBUG] \n",
      "serp results for query worst performing stocks in S&P 500 this year: [{'title': '20 Worst Performing S&P 500 Stocks in 2023 - Yahoo Finance', 'href': 'https://finance.yahoo.com/news/20-worst-performing-p-500-200036146.html', 'body': 'In this article, we discuss 20 worst performing S&P 500 stocks in 2023. If you want to skip our detailed analysis of the stock market outlook, skip over to 5 Worst Performing S&P 500 Stocks in 2023.'}, {'title': '10 Stocks That Are the Biggest Losers of 2024 | Money', 'href': 'https://money.com/stocks-underperforming-the-market-2024/', 'body': \"The S&P 500's worst stocks in 2024. Howard Silverblatt, a senior index analyst at S&P Dow Jones Indices, provided Money with a list of stocks in the S&P 500 that have performed the worst so far in 2024. Those companies span numerous sectors, from health care to consumer staples to tech, and have done worse than merely underperforming the market.\"}, {'title': 'Here are the 20 worst-performing stocks among the S&P 500 in 2023', 'href': 'https://www.morningstar.com/news/marketwatch/2023123073/here-are-the-20-worst-performing-stocks-among-the-sp-500-in-2023', 'body': \"The U.S. stock market staged a remarkable rally in 2023, but 178 stocks in the S&P 500 were still down for the year. Here's a roundup of how well the 11 sectors of the S&P 500 fared, with broad ...\"}]\n",
      "\u001b[0m\n",
      "\u001b[36m[DEBUG] \n",
      "Search attempt failed: https://duckduckgo.com/?q=American+stock+market+biggest+losers+of+the+month%2Fquarter%2Fyear 202 Ratelimit\n",
      "\u001b[0m\n",
      "\u001b[36m[DEBUG] \n",
      "serp results for query American stock market biggest losers of the month/quarter/year: []\n",
      "\u001b[0m\n",
      "\u001b[36m[DEBUG] \n",
      "Search attempt failed: https://links.duckduckgo.com/d.js?q=stocks+with+highest+percentage+loss+in+American+stock+market&kl=wt-wt&l=wt-wt&p=&s=0&df=&vqd=4-142727303860769783718215674601953311841&bing_market=wt-WT&ex=-1 202 Ratelimit\n",
      "\u001b[0m\n",
      "\u001b[36m[DEBUG] \n",
      "serp results for query stocks with highest percentage loss in American stock market: []\n",
      "\u001b[0m\n",
      "\u001b[36m[DEBUG] \n",
      "Search attempt failed: https://duckduckgo.com/?q=top+losing+stocks+in+US+market+today%2Fyesterday%2Fthis+week 202 Ratelimit\n",
      "\u001b[0m\n",
      "\u001b[36m[DEBUG] \n",
      "serp results for query top losing stocks in US market today/yesterday/this week: []\n",
      "\u001b[0m\n",
      "\u001b[36m[DEBUG] \n",
      "serp results for query American stock market worst performers by sector (e.g. tech, finance): [{'title': \"Today's Stocks Worst Performing Sectors - Yahoo Finance\", 'href': 'https://finance.yahoo.com/watchlists/category/section-losers', 'body': \"See a list of today's stocks worst performing sectors from Yahoo Finance, with latest stock price and other details.\"}, {'title': '2024 Year to Date Best and Worst Performing Sectors ... - CSIMarket', 'href': 'https://csimarket.com/markets/markets_glance.php?days=ytd', 'body': 'Worst performing Stocks in Technology Sector; Markets at a Glance; Stocks; Cryptocurrencies; Sectors & Industries; ... 2024 Year to Date Stock Performance by Sector and Industry: Best Performing Sectors: Utilities: 36.33 %: Financial: 32.13 %: ... Oceanfirst Financial Corp stock increased 16.01% 2024 year to date.'}, {'title': '15 Worst Performing Industries in 2023 - Yahoo Finance', 'href': 'https://finance.yahoo.com/news/15-worst-performing-industries-2023-072556421.html', 'body': 'In this article, we discuss 15 worst performing industries in 2023. If you want to skip our detailed discussion on the performance of the stock market in 2023, head directly to 5 Worst Performing ...'}]\n",
      "\u001b[0m\n",
      "\u001b[36m[DEBUG] \n",
      "serp results for query stock market news: top losers in American stock market: [{'title': 'Top Daily Losses: US stocks posting the largest losses today - Yahoo ...', 'href': 'https://finance.yahoo.com/markets/stocks/losers/', 'body': \"Yahoo Finance's list of top losing stocks, includes share price changes, trading volume, intraday highs and lows, and day charts for stocks posting the largest losses today\"}, {'title': 'Top Stock Losers Today - Yahoo Finance', 'href': 'https://finance.yahoo.com/screener/predefined/day_losers/', 'body': 'See the list of the top losing stocks today, including share price change and percentage, trading volume, intraday highs and lows, and day charts.'}, {'title': 'Biggest Stock Losers in USA — TradingView', 'href': 'https://www.tradingview.com/markets/stocks-usa/market-movers-losers/', 'body': 'Markets; News; Brokers; More; EN Get started. Markets / USA / Stocks / All stocks / Biggest losers; US stocks. Quotes. All stocks Top gainers Biggest losers Large-cap Small-cap Largest employers High-dividend Highest net income Highest cash Highest profit per employee Highest revenue per employee Most active Pre-market gainers Pre-market ...'}]\n",
      "\u001b[0m\n",
      "\u001b[36m[DEBUG] \n",
      "Search attempt failed: https://links.duckduckgo.com/d.js?q=latest+stock+market+data%3A+biggest+losers+in+American+stock+market&kl=wt-wt&l=wt-wt&p=&s=0&df=&vqd=4-147115811497029103884344860133166805857&bing_market=wt-WT&ex=-1 202 Ratelimit\n",
      "\u001b[0m\n",
      "\u001b[36m[DEBUG] \n",
      "serp results for query latest stock market data: biggest losers in American stock market: []\n",
      "\u001b[0m\n",
      "\u001b[36m[DEBUG] \n",
      "Search attempt failed: https://duckduckgo.com/?q=American+stock+market+performance%3A+top+10+losing+stocks 202 Ratelimit\n",
      "\u001b[0m\n",
      "\u001b[36m[DEBUG] \n",
      "serp results for query American stock market performance: top 10 losing stocks: []\n",
      "\u001b[0m\n",
      "\u001b[36m[DEBUG] \n",
      "invoking web search agent with messages: [SystemMessage(content='You are a precise research assistant with web search capabilities. Your tasks:\\n1. Provide accurate, current information\\n2. Synthesize multi-source information concisely\\n3. Include citations and maintain objectivity\\n\\nFocus on authoritative, verifiable sources only.\\n\\nSkip web search if you are completely certain of information.\\nOtherwise, perform targeted searches as needed.', additional_kwargs={}, response_metadata={}), HumanMessage(content='what is the latest top loser in the American stock market', additional_kwargs={}, response_metadata={}, id='7ae9549b-3474-42c4-bcd7-3b231fdd4713'), AIMessage(content='', additional_kwargs={}, response_metadata={'model': 'llama3.1', 'created_at': '2024-12-08T22:17:01.581993441Z', 'done': True, 'done_reason': 'stop', 'total_duration': 1111230089, 'load_duration': 12459052, 'prompt_eval_count': 281, 'prompt_eval_duration': 48000000, 'eval_count': 28, 'eval_duration': 687000000, 'message': Message(role='assistant', content='', images=None, tool_calls=[ToolCall(function=Function(name='get_agentic_web_search_results_tool', arguments={'query': 'latest top loser in American stock market'}))])}, id='run-2fdd81d4-b637-43ae-8386-0577c8ae03f3-0', tool_calls=[{'name': 'get_agentic_web_search_results_tool', 'args': {'query': 'latest top loser in American stock market'}, 'id': 'f29cd96d-a8f1-46a9-8ee9-ecc25af07b4f', 'type': 'tool_call'}], usage_metadata={'input_tokens': 281, 'output_tokens': 28, 'total_tokens': 309}), ToolMessage(content=\"Based on the provided content, here's a Markdown-formatted summary that answers the query using EXCLUSIVELY the content between the dashes:\\n\\n---\\n\\n**Worst Performing Stocks From The Worst Performing (S&Ls Savings Banks) Industry**\\n\\n- Volcan Inc: stock declined -99.78% 2024 year to date\\n- Ideanomics Inc: shares declined -98.97% 2024 year to date\", name='get_agentic_web_search_results_tool', id='a8c02a1e-9cd6-4f37-a51c-2bee76ed150d', tool_call_id='f29cd96d-a8f1-46a9-8ee9-ecc25af07b4f')]\n",
      "\u001b[0m\n",
      "\u001b[36m[DEBUG] \n",
      "Web search capability result: {'messages': [HumanMessage(content='what is the latest top loser in the American stock market', additional_kwargs={}, response_metadata={}, id='7ae9549b-3474-42c4-bcd7-3b231fdd4713'), AIMessage(content='', additional_kwargs={}, response_metadata={'model': 'llama3.1', 'created_at': '2024-12-08T22:17:01.581993441Z', 'done': True, 'done_reason': 'stop', 'total_duration': 1111230089, 'load_duration': 12459052, 'prompt_eval_count': 281, 'prompt_eval_duration': 48000000, 'eval_count': 28, 'eval_duration': 687000000, 'message': Message(role='assistant', content='', images=None, tool_calls=[ToolCall(function=Function(name='get_agentic_web_search_results_tool', arguments={'query': 'latest top loser in American stock market'}))])}, id='run-2fdd81d4-b637-43ae-8386-0577c8ae03f3-0', tool_calls=[{'name': 'get_agentic_web_search_results_tool', 'args': {'query': 'latest top loser in American stock market'}, 'id': 'f29cd96d-a8f1-46a9-8ee9-ecc25af07b4f', 'type': 'tool_call'}], usage_metadata={'input_tokens': 281, 'output_tokens': 28, 'total_tokens': 309}), ToolMessage(content=\"Based on the provided content, here's a Markdown-formatted summary that answers the query using EXCLUSIVELY the content between the dashes:\\n\\n---\\n\\n**Worst Performing Stocks From The Worst Performing (S&Ls Savings Banks) Industry**\\n\\n- Volcan Inc: stock declined -99.78% 2024 year to date\\n- Ideanomics Inc: shares declined -98.97% 2024 year to date\", name='get_agentic_web_search_results_tool', id='a8c02a1e-9cd6-4f37-a51c-2bee76ed150d', tool_call_id='f29cd96d-a8f1-46a9-8ee9-ecc25af07b4f'), AIMessage(content=\"Based on the provided content, here's a Markdown-formatted summary that answers the query:\\n\\n**Latest Top Loser in American Stock Market**\\n\\nThe latest top loser in the American stock market is Volcan Inc, with a decline of -99.78% in 2024 year-to-date.\", additional_kwargs={}, response_metadata={'model': 'llama3.1', 'created_at': '2024-12-08T22:18:31.048249803Z', 'done': True, 'done_reason': 'stop', 'total_duration': 3873846226, 'load_duration': 2119658023, 'prompt_eval_count': 261, 'prompt_eval_duration': 143000000, 'eval_count': 60, 'eval_duration': 1253000000, 'message': Message(role='assistant', content=\"Based on the provided content, here's a Markdown-formatted summary that answers the query:\\n\\n**Latest Top Loser in American Stock Market**\\n\\nThe latest top loser in the American stock market is Volcan Inc, with a decline of -99.78% in 2024 year-to-date.\", images=None, tool_calls=None)}, id='run-0c8d1ae0-2f75-46e8-ad45-f47021c8f238-0', usage_metadata={'input_tokens': 261, 'output_tokens': 60, 'total_tokens': 321})]}\n",
      "\u001b[0m\n"
     ]
    },
    {
     "data": {
      "text/plain": [
       "\"Based on the provided content, here's a Markdown-formatted summary that answers the query:\\n\\n**Latest Top Loser in American Stock Market**\\n\\nThe latest top loser in the American stock market is Volcan Inc, with a decline of -99.78% in 2024 year-to-date.\""
      ]
     },
     "execution_count": 2,
     "metadata": {},
     "output_type": "execute_result"
    }
   ],
   "source": [
    "from agentic_search.capabilities.web import get_web_search_report\n",
    "\n",
    "res = await get_web_search_report(user_query)\n",
    "res\n"
   ]
  },
  {
   "cell_type": "code",
   "execution_count": 3,
   "metadata": {},
   "outputs": [],
   "source": [
    "# write results to file for consultation\n",
    "with open(\"scratchpad.md\", \"w\") as f:\n",
    "    f.write(res)"
   ]
  }
 ],
 "metadata": {
  "kernelspec": {
   "display_name": "venv",
   "language": "python",
   "name": "python3"
  },
  "language_info": {
   "codemirror_mode": {
    "name": "ipython",
    "version": 3
   },
   "file_extension": ".py",
   "mimetype": "text/x-python",
   "name": "python",
   "nbconvert_exporter": "python",
   "pygments_lexer": "ipython3",
   "version": "3.12.3"
  }
 },
 "nbformat": 4,
 "nbformat_minor": 2
}
