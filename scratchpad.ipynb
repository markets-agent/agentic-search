{
 "cells": [
  {
   "cell_type": "markdown",
   "metadata": {},
   "source": [
    "# cooking the best possible web search result (in termes of relevance and speed)"
   ]
  },
  {
   "cell_type": "code",
   "execution_count": 1,
   "metadata": {},
   "outputs": [],
   "source": [
    "user_query = \"what is the latest top loser in the American stock market\""
   ]
  },
  {
   "cell_type": "markdown",
   "metadata": {},
   "source": [
    "## test functions"
   ]
  },
  {
   "cell_type": "code",
   "execution_count": 2,
   "metadata": {},
   "outputs": [
    {
     "name": "stdout",
     "output_type": "stream",
     "text": [
      "\u001b[36m[DEBUG] \n",
      "serp results for query what is the latest top loser in the American stock market: [{'title': 'Top Stock Losers Today - Yahoo Finance', 'href': 'https://finance.yahoo.com/screener/predefined/day_losers/', 'body': 'See the list of the top losing stocks today, including share price change and percentage, trading volume, intraday highs and lows, and day charts.'}, {'title': 'Top Daily Losses: US stocks posting the largest losses today - Yahoo ...', 'href': 'https://finance.yahoo.com/markets/stocks/losers/', 'body': \"Yahoo Finance's list of top losing stocks, includes share price changes, trading volume, intraday highs and lows, and day charts for stocks posting the largest losses today\"}, {'title': 'Biggest Stock Losers in USA — TradingView', 'href': 'https://www.tradingview.com/markets/stocks-usa/market-movers-losers/', 'body': 'All stocks Top gainers Biggest losers Large-cap Small-cap Largest employers High-dividend Highest net income Highest cash Highest profit per employee Highest revenue per employee Most active Pre-market gainers Pre-market losers Pre-market most active Pre-market gap After-hours gainers After-hours losers After-hours most active Unusual volume ...'}]\n",
      "\u001b[0m\n"
     ]
    },
    {
     "data": {
      "text/plain": [
       "[{'title': 'Top Stock Losers Today - Yahoo Finance',\n",
       "  'href': 'https://finance.yahoo.com/screener/predefined/day_losers/',\n",
       "  'body': 'See the list of the top losing stocks today, including share price change and percentage, trading volume, intraday highs and lows, and day charts.'},\n",
       " {'title': 'Top Daily Losses: US stocks posting the largest losses today - Yahoo ...',\n",
       "  'href': 'https://finance.yahoo.com/markets/stocks/losers/',\n",
       "  'body': \"Yahoo Finance's list of top losing stocks, includes share price changes, trading volume, intraday highs and lows, and day charts for stocks posting the largest losses today\"},\n",
       " {'title': 'Biggest Stock Losers in USA — TradingView',\n",
       "  'href': 'https://www.tradingview.com/markets/stocks-usa/market-movers-losers/',\n",
       "  'body': 'All stocks Top gainers Biggest losers Large-cap Small-cap Largest employers High-dividend Highest net income Highest cash Highest profit per employee Highest revenue per employee Most active Pre-market gainers Pre-market losers Pre-market most active Pre-market gap After-hours gainers After-hours losers After-hours most active Unusual volume ...'}]"
      ]
     },
     "execution_count": 2,
     "metadata": {},
     "output_type": "execute_result"
    }
   ],
   "source": [
    "from agentic_search.functions.web import get_serp_links\n",
    "\n",
    "links = await get_serp_links(user_query)\n",
    "links\n"
   ]
  },
  {
   "cell_type": "code",
   "execution_count": 3,
   "metadata": {},
   "outputs": [
    {
     "data": {
      "text/plain": [
       "['Yahooist Teil der Yahoo Markenfamilie guce guce Yahoo ist Teil der Yahoo Markenfamilie Die Websites und Apps, die wir betreiben und verwalten, einschließlich Yahoo und AOL, sowie unser digitaler Werbedienst Yahoo Advertising. Yahoo Markenfamilie. Bei der Nutzung unserer Websites und Apps verwenden wir Cookies Mithilfe von Cookies (einschließlich ähnlicher Technologien wie der Webspeicherung) können die Betreiber von Websites und Apps Informationen auf Ihrem Gerät speichern und ablesen. Weitere Informationen finden Sie in unserer Cookie-Richtlinie . Cookies , um: unsere Websites und Apps für Sie bereitzustellen Nutzer zu authentifizieren, Sicherheitsmaßnahmen anzuwenden und Spam und Missbrauch zu verhindern, und Ihre Nutzung unserer Websites und Apps zu messen Wenn Sie auf „ Alle akzeptieren “ klicken, speichern wir und unsere Partner , einschließlich der 237 Partner, die dem IAB Transparency & Consent Framework angehören, Informationen auf einem Gerät (d.\\xa0h. wir verwenden Cookies) und können auf diese zugreifen. Wir verwenden genaue Standortdaten und andere personenbezogene Daten wie IP-Adressen, Browsing- und Suchdaten für personalisierte Werbung und Inhalte, zur Messung von Werbung und Inhalten, zur Zielgruppenforschung und zur Weiterentwicklung von Diensten. Klicken Sie auf „ Alle ablehnen “, wenn Sie nicht möchten, dass wir und unsere Partner Cookies und personenbezogene Daten für diese zusätzlichen Zwecke verwenden. Wenn Sie Ihre Auswahl anpassen möchten, klicken Sie auf „ Datenschutzeinstellungen verwalten “. Sie können Ihre Einstellungen jederzeit ändern, indem Sie auf unseren Websites und Apps auf den Link „Datenschutz- und Cookie-Einstellungen“ oder „Datenschutz-Dashboard“ klicken. Weitere Informationen darüber, wie wir Ihre personenbezogenen Daten nutzen, finden Sie in unserer Datenschutzerklärung und unserer Cookie-Richtlinie . Alle akzeptieren Alle ablehnen Datenschutzeinstellungen verwalten Zum Ende\\n\\nSOURCE: https://finance.yahoo.com/screener/predefined/day_losers/\\n\\n',\n",
       " 'Yahooist Teil der Yahoo Markenfamilie guce guce Yahoo ist Teil der Yahoo Markenfamilie Die Websites und Apps, die wir betreiben und verwalten, einschließlich Yahoo und AOL, sowie unser digitaler Werbedienst Yahoo Advertising. Yahoo Markenfamilie. Bei der Nutzung unserer Websites und Apps verwenden wir Cookies Mithilfe von Cookies (einschließlich ähnlicher Technologien wie der Webspeicherung) können die Betreiber von Websites und Apps Informationen auf Ihrem Gerät speichern und ablesen. Weitere Informationen finden Sie in unserer Cookie-Richtlinie . Cookies , um: unsere Websites und Apps für Sie bereitzustellen Nutzer zu authentifizieren, Sicherheitsmaßnahmen anzuwenden und Spam und Missbrauch zu verhindern, und Ihre Nutzung unserer Websites und Apps zu messen Wenn Sie auf „ Alle akzeptieren “ klicken, speichern wir und unsere Partner , einschließlich der 237 Partner, die dem IAB Transparency & Consent Framework angehören, Informationen auf einem Gerät (d.\\xa0h. wir verwenden Cookies) und können auf diese zugreifen. Wir verwenden genaue Standortdaten und andere personenbezogene Daten wie IP-Adressen, Browsing- und Suchdaten für personalisierte Werbung und Inhalte, zur Messung von Werbung und Inhalten, zur Zielgruppenforschung und zur Weiterentwicklung von Diensten. Klicken Sie auf „ Alle ablehnen “, wenn Sie nicht möchten, dass wir und unsere Partner Cookies und personenbezogene Daten für diese zusätzlichen Zwecke verwenden. Wenn Sie Ihre Auswahl anpassen möchten, klicken Sie auf „ Datenschutzeinstellungen verwalten “. Sie können Ihre Einstellungen jederzeit ändern, indem Sie auf unseren Websites und Apps auf den Link „Datenschutz- und Cookie-Einstellungen“ oder „Datenschutz-Dashboard“ klicken. Weitere Informationen darüber, wie wir Ihre personenbezogenen Daten nutzen, finden Sie in unserer Datenschutzerklärung und unserer Cookie-Richtlinie . Alle akzeptieren Alle ablehnen Datenschutzeinstellungen verwalten Zum Ende\\n\\nSOURCE: https://finance.yahoo.com/markets/stocks/losers/\\n\\n',\n",
       " \"Biggest Stock Losers in USA — TradingView Main content Search Products Community Markets News Brokers More EN Get started Markets / USA / Stocks / All stocks / Biggest losers US stocks Quotes All stocks Top gainers Biggest losers Large-cap Small-cap Largest employers High-dividend Highest net income Highest cash Highest profit per employee Highest revenue per employee Most active Pre-market gainers Pre-market losers Pre-market most active Pre-market gap After-hours gainers After-hours losers After-hours most active Unusual volume Most volatile High beta Best performing Highest revenue Most expensive Penny stocks Pink sheet Overbought Oversold All-time high All-time low 52-week high 52-week low Create more lists in Screener All stocks Top gainers Biggest losers Large-cap Small-cap Largest employers High-dividend Highest net income Highest cash Highest profit per employee Highest revenue per employee Most active Pre-market gainers Pre-market losers Pre-market most active Pre-market gap After-hours gainers After-hours losers After-hours most active Unusual volume Most volatile High beta Best performing Highest revenue Most expensive Penny stocks Pink sheet Overbought Oversold All-time high All-time low 52-week high 52-week low Create more lists in Screener US stocks that lost the most in price US companies below are the biggest stock losers today. They are outsiders now, but may provide trade opportunities in the future, so make sure to check all their stats. Overview Overview Performance Performance Valuation Valuation Dividends Dividends Profitability Profitability Income Statement Income Statement Balance Sheet Balance Sheet Cash Flow Cash Flow Technicals Technicals More More Symbol Change % Price Volume Rel Volume Market cap P/E EPS dil TTM EPS dil growth TTM YoY Div yield % TTM Sector Analyst Rating Symbol Change % Price Volume Rel Volume Market cap P/E EPS dil TTM EPS dil growth TTM YoY Div yield % TTM Sector Analyst Rating INO Inovio Pharmaceuticals, Inc. D −38.30% 2.32 USD 9.86\\u202fM 18.74 60.55\\u202fM USD — −4.48 USD +40.70% 0.00% Health technology Buy OSTX OS Therapies Incorporated D −32.29% 3.02 USD 348.56\\u202fK 4.41 63.97\\u202fM USD — — — 0.00% Health technology Strong buy CADL Candel Therapeutics, Inc. D −31.12% 6.75 USD 18.71\\u202fM 1.37 219.21\\u202fM USD — −1.74 USD −57.70% 0.00% Health technology Strong buy A APVO Aptevo Therapeutics Inc. D −27.35% 4.09 USD 813.23\\u202fK 1.08 2.05\\u202fM USD — −941.56 USD +71.82% 0.00% Health technology Strong buy N NEHC New Era Helium Inc D −23.02% 3.41 USD 154.72\\u202fK 0.99 44.89\\u202fM USD — −0.33 USD −65.28% 0.00% Process industries — PRTG Portage Biotech Inc. D −21.47% 3.00 USD 35.34\\u202fK 1.50 3.36\\u202fM USD — −65.69 USD +48.91% 0.00% Health technology — CYN Cyngn Inc. D −20.96% 3.28 USD 234.21\\u202fK 1.08 7.98\\u202fM USD — −26.24 USD +56.57% 0.00% Technology services Strong buy J JUNS Jupiter Neurosciences, Inc. D −20.56% 12.21 USD 781.71\\u202fK — 401.42\\u202fM USD — — — 0.00% Health technology — CSPI CSP Inc. D −17.90% 16.79 USD 79.45\\u202fK 2.12 163.93\\u202fM USD 60.83 0.28 USD −50.23% 0.63% Technology services — INAQ Insight Acquisition Corp. D −17.03% 9.50 USD 12.96\\u202fK 7.59 61.93\\u202fM USD — −0.52 USD −776.23% 0.00% Finance — BOLD Boundless Bio, Inc. D −16.61% 2.46 USD 193.45\\u202fK 2.07 54.86\\u202fM USD — −2.75 USD — 0.00% Health technology Buy BLUE bluebird bio, Inc. D −16.58% 6.34 USD 720.97\\u202fK 0.90 61.64\\u202fM USD — −35.97 USD −141.66% 0.00% Health technology Neutral MGX Metagenomi, Inc. D −16.06% 3.24 USD 2.41\\u202fM 0.30 121.25\\u202fM USD — −2.50 USD — 0.00% Health technology Strong buy EGHT 8x8 Inc D −15.87% 2.63 USD 1.28\\u202fM 2.27 342.98\\u202fM USD — −0.56 USD −10.32% 0.00% Technology services Neutral SFIX Stitch Fix, Inc. D −15.70% 3.92 USD 12.39\\u202fM 1.90 497.22\\u202fM USD — −0.82 USD +37.65% 0.00% Retail trade Neutral PIRS Pieris Pharmaceuticals, Inc. D −15.69% 13.60 USD 51.73\\u202fK 2.44 17.96\\u202fM USD — −12.61 USD +54.86% 0.00% Health technology — LINK Interlink Electronics, Inc. D −15.51% 5.01 USD 72.97\\u202fK 1.34 49.42\\u202fM USD — −0.23 USD −308.84% 0.00% Electronic technology Strong buy I ISPC iSpecimen Inc. D −15.36% 2.92 USD 2.64\\u202fM 32.57 2.81\\u202fM USD — −18.93 USD +16.31% 0.00% Commercial services — PMAX Powell Max Limited D −14.97% 2.67 USD 27.53\\u202fK 0.77 39.05\\u202fM USD 72.36 0.04 USD — 0.00% Communications — T TNMG TNL Mediagene D −14.80% 9.56 USD 22.31\\u202fK 0.37 — — — — — Technology services — PLCE Children's Place, Inc. (The) D −14.18% 10.83 USD 1.15\\u202fM 2.16 138.37\\u202fM USD — −14.20 USD −128.92% 0.00% Retail trade Neutral G GRO Brazil Potash Corp. D −14.16% 9.70 USD 61.33\\u202fK 2.93 — — — — — Non-energy minerals — C CAMP CAMP4 Therapeutics Corporation D −14.08% 7.63 USD 108.23\\u202fK 0.78 153.83\\u202fM USD — — — 0.00% Health technology Strong buy PRQR ProQR Therapeutics N.V. D −13.98% 2.83 USD 759.07\\u202fK 1.61 292.07\\u202fM USD — −0.32 USD +28.96% 0.00% Health technology Strong buy MRKR Marker Therapeutics, Inc. D −13.77% 4.07 USD 87.89\\u202fK 1.29 36.32\\u202fM USD — −1.08 USD +48.02% 0.00% Health technology Strong buy UPLD Upland Software, Inc. D −13.08% 4.12 USD 918.09\\u202fK 1.24 113.06\\u202fM USD — −4.52 USD +24.07% 0.00% Technology services Neutral QTTB Q32 Bio Inc. D −12.94% 3.70 USD 1.86\\u202fM 2.63 45.07\\u202fM USD — −14.21 USD +65.27% 0.00% Health technology Buy ORKT Orangekloud Technology Inc. D −12.92% 3.10 USD 2.86\\u202fM 4.28 — — — — — Technology services — RTC Baijiayun Group Ltd - Class D −12.89% 4.80 USD 23.04\\u202fK 0.77 98.96\\u202fM USD — −3.47 USD −2,942.02% 0.00% Technology services — Z ZSPC zSpace, Inc. D −12.85% 11.33 USD 61.34\\u202fK — 255.7\\u202fM USD — −0.95 USD — 0.00% Technology services — IGMS IGM Biosciences, Inc. D −12.77% 7.17 USD 240.08\\u202fK 1.33 426.36\\u202fM USD — −3.65 USD +26.89% 0.00% Health technology Buy FFIC Flushing Financial Corporation D −12.52% 15.09 USD 2.87\\u202fM 20.21 438.65\\u202fM USD 17.24 0.88 USD −21.20% 5.83% Finance Neutral BLBX Blackboxstocks Inc. D −11.93% 2.10 USD 3.7\\u202fK 0.35 7.41\\u202fM USD — −0.97 USD +26.66% 0.00% Technology services — ESPR Esperion Therapeutics, Inc. D −11.76% 2.25 USD 33.91\\u202fM 3.60 443.33\\u202fM USD — −0.66 USD +72.17% 0.00% Health technology Buy C CNCK Coincheck Group N.V. D −11.54% 12.03 USD 346.27\\u202fK 3.35 114.11\\u202fM USD — −0.03 USD −118.34% 0.00% Finance — MTEX Mannatech, Incorporated D −11.49% 10.43 USD 1.96\\u202fK 0.22 19.66\\u202fM USD — −0.82 USD +79.62% 0.00% Health technology — S SOBR SOBR Safe, Inc. D −11.19% 3.57 USD 27.37\\u202fK 0.95 3.29\\u202fM USD — −55.48 USD +20.37% 0.00% Electronic technology — DTIL Precision BioSciences, Inc. D −11.11% 5.44 USD 94.67\\u202fK 1.01 41.73\\u202fM USD 106.46 0.05 USD — 0.00% Health technology Buy ZBAO Zhibao Technology Inc. D −11.07% 2.25 USD 59.83\\u202fK 0.04 70.93\\u202fM USD 39.82 0.06 USD — 0.00% Finance — SMTK SmartKem, Inc. D −11.05% 3.22 USD 44.03\\u202fK 0.16 5.73\\u202fM USD — −6.63 USD −1,319.33% 0.00% Electronic technology — B BETR Better Home & Finance Holding Company D −10.76% 10.86 USD 75.16\\u202fK 1.85 164.84\\u202fM USD — −3.79 USD −669.10% 0.00% Finance — ZCMD Zhongchao Inc. D −10.59% 2.04 USD 12.97\\u202fK 0.37 5.14\\u202fM USD — −0.22 USD +26.21% 0.00% Commercial services — SGMA SigmaTron International, Inc. D −10.46% 2.14 USD 257.95\\u202fK 5.36 13.1\\u202fM USD — −0.99 USD +72.35% 0.00% Electronic technology — S SGN Signing Day Sports, Inc. D −10.19% 2.91 USD 63.86\\u202fK 0.63 2.25\\u202fM USD — −26.57 USD −58.79% 0.00% Technology services — G GELS Gelteq Limited D −10.16% 2.74 USD 255.65\\u202fK 0.13 — — — — — Health technology — OMER Omeros Corporation D −10.13% 7.63 USD 1.1\\u202fM 1.51 442.16\\u202fM USD — −2.30 USD −817.72% 0.00% Health technology Buy EZFL EzFill Holdings, Inc. D −9.71% 3.16 USD 37.38\\u202fK 0.78 19.62\\u202fM USD — −6.65 USD +31.69% 0.00% Technology services — NXTT Next Technology Holding Inc. D −9.52% 2.09 USD 82.25\\u202fK 0.76 14.58\\u202fM USD 0.25 8.48 USD — 0.00% Technology services — PEPG PepGen Inc. D −9.30% 4.68 USD 1.54\\u202fM 9.39 152.55\\u202fM USD — −2.98 USD +4.49% 0.00% Health technology Strong buy APRE Aprea Therapeutics, Inc. D −9.22% 3.20 USD 25.11\\u202fK 0.87 17.36\\u202fM USD — −2.81 USD +86.90% 0.00% Health technology Strong buy SLNH Soluna Holdings, Inc. D −9.15% 2.68 USD 479.66\\u202fK 2.19 22.44\\u202fM USD — −9.55 USD +84.70% 0.00% Electronic technology — V VERB Verb Technology Company, Inc. D −9.09% 7.10 USD 32.59\\u202fK 0.69 7.05\\u202fM USD — −57.24 USD +97.39% 0.00% Technology services Strong buy O OKUR OnKure Therapeutics, Inc. D −8.96% 9.86 USD 103.26\\u202fK 1.19 124.76\\u202fM USD — −16.85 USD +27.87% 0.00% Health technology Strong buy BRFH Barfresh Food Group Inc. D −8.93% 2.65 USD 15.82\\u202fK 3.96 39.08\\u202fM USD — −0.18 USD +40.78% 0.00% Consumer non-durables Strong buy MLGO MicroAlgo, Inc. D −8.91% 2.35 USD 9\\u202fM 8.41 23.44\\u202fM USD — — — 0.00% Technology services — DSGN Design Therapeutics, Inc. D −8.79% 5.60 USD 281.66\\u202fK 1.53 317.08\\u202fM USD — −0.85 USD +34.59% 0.00% Health technology Buy SLRN ACELYRIN, INC. D −8.76% 3.23 USD 785.91\\u202fK 0.88 324.05\\u202fM USD — −2.68 USD — 0.00% Health technology Buy SG Sweetgreen, Inc. D −8.69% 34.46 USD 5.15\\u202fM 2.25 3.99\\u202fB USD — −0.78 USD +37.57% 0.00% Consumer services Buy CRVS Corvus Pharmaceuticals, Inc. D −8.66% 7.38 USD 1.72\\u202fM 2.54 474.22\\u202fM USD — −0.93 USD −44.85% 0.00% Health technology Strong buy FUFU BitFuFu Inc. D −8.66% 5.17 USD 239.21\\u202fK 1.30 842.2\\u202fM USD 21.89 0.24 USD +75.74% 0.00% Technology services Strong buy LTBR Lightbridge Corporation D −8.64% 4.76 USD 1.19\\u202fM 1.29 75.05\\u202fM USD — −0.74 USD −17.00% 0.00% Process industries — DNA Ginkgo Bioworks Holdings, Inc. D −8.62% 9.44 USD 1.5\\u202fM 1.03 542.6\\u202fM USD — −12.90 USD +27.89% 0.00% Health services Sell P POLA Polar Power, Inc. D −8.61% 2.60 USD 70.21\\u202fK 4.53 6.52\\u202fM USD — −2.31 USD +9.77% 0.00% Electronic technology — RMBL RumbleOn, Inc. D −8.51% 5.76 USD 237.47\\u202fK 2.07 217.33\\u202fM USD — −8.45 USD +59.12% 0.00% Retail trade Buy DUOT Duos Technologies Group, Inc. D −8.48% 4.10 USD 196.27\\u202fK 1.80 34.48\\u202fM USD — −1.42 USD −13.07% 0.00% Technology services Strong buy VEEA Veea Inc. D −8.43% 3.04 USD 71.03\\u202fK 0.65 108.73\\u202fM USD — −1.48 USD −1,323.43% 0.00% Technology services — CTRM Castor Maritime Inc. D −8.41% 3.05 USD 202.86\\u202fK 4.00 29.47\\u202fM USD 0.96 3.19 USD −35.74% 0.00% Transportation — HURA TuHURA Biosciences, Inc. D −8.36% 4.93 USD 309.63\\u202fK 0.45 208.46\\u202fM USD — −75.23 USD +77.15% 0.00% Health technology Strong buy VERV Verve Therapeutics, Inc. D −8.35% 5.71 USD 1.46\\u202fM 0.84 483.43\\u202fM USD — −2.46 USD +20.64% 0.00% Health technology Strong buy PROP Prairie Operating Co. D −8.33% 7.15 USD 162.68\\u202fK 2.07 163.91\\u202fM USD — −4.68 USD +83.56% 0.00% Energy minerals Strong buy FHTX Foghorn Therapeutics Inc. D −8.30% 5.30 USD 452.67\\u202fK 3.64 294.64\\u202fM USD — −1.91 USD +22.53% 0.00% Health technology Strong buy NTRP NextTrip, Inc. D −8.22% 4.40 USD 48.16\\u202fK 0.77 6.28\\u202fM USD — — — 0.00% Technology services Neutral GRCE Grace Therapeutics, Inc. D −8.21% 3.58 USD 45.97\\u202fK 0.46 36.3\\u202fM USD — −1.08 USD +79.99% 0.00% Health technology Strong buy E ENSC Ensysce Biosciences, Inc. D −8.17% 5.62 USD 136.39\\u202fK 1.13 7.33\\u202fM USD — −27.26 USD +91.81% 0.00% Health technology — CRML Critical Metals Corp. D −8.10% 6.35 USD 18.64\\u202fK 0.62 576.02\\u202fM USD — −1.97 USD −8,143.93% 0.00% Non-energy minerals — UA Under Armour, Inc. D −8.05% 8.00 USD 5.66\\u202fM 1.84 3.64\\u202fB USD — −0.06 USD −106.16% 0.00% Consumer non-durables Neutral CRGX CARGO Therapeutics, Inc. D −8.03% 13.74 USD 288.75\\u202fK 1.25 632.42\\u202fM USD — −3.55 USD — 0.00% Health technology Strong buy TSHA Taysha Gene Therapies, Inc. D −8.00% 2.07 USD 4.54\\u202fM 1.02 424.23\\u202fM USD — −0.03 USD +98.69% 0.00% Health technology Strong buy IBIO iBio, Inc. D −7.97% 2.31 USD 132.58\\u202fK 1.67 21.14\\u202fM USD — −6.64 USD +92.64% 0.00% Health technology Strong buy SWIN Solowin Holdings D −7.89% 2.10 USD 140.31\\u202fK 1.40 33.56\\u202fM USD — −0.04 USD −396.75% 0.00% Finance — VCNX Vaccinex, Inc. D −7.86% 3.69 USD 36.64\\u202fK 0.45 9.59\\u202fM USD — −12.58 USD +85.01% 0.00% Health technology — CLYM Climb Bio, Inc. D −7.80% 2.60 USD 137.28\\u202fK 1.02 174.78\\u202fM USD — −2.13 USD −44.51% 0.00% Health technology Strong buy FOLD Amicus Therapeutics, Inc. D −7.78% 9.36 USD 4.1\\u202fM 1.38 2.8\\u202fB USD — −0.35 USD +41.95% 0.00% Health technology Strong buy J JTAI Jet.AI Inc. D −7.76% 4.52 USD 153.4\\u202fK 0.16 5.88\\u202fM USD — −238.04 USD −130.39% 0.00% Transportation Strong buy ZJK ZJK Industrial Co., Ltd. D −7.74% 11.44 USD 272\\u202fK 0.06 700.7\\u202fM USD — — — 0.00% Producer manufacturing — ENGN enGene Holdings Inc. D −7.74% 6.08 USD 964.37\\u202fK 3.91 309.94\\u202fM USD — — — 0.00% Health technology Strong buy G GRDN Guardian Pharmacy Services, Inc. D −7.63% 23.25 USD 130.7\\u202fK 0.79 1.47\\u202fB USD — — — 0.00% Retail trade Strong buy M MBX MBX Biosciences, Inc. D −7.61% 18.94 USD 194.31\\u202fK 1.16 632.93\\u202fM USD — — — 0.00% Health technology Strong buy PLL Piedmont Lithium Inc. D −7.60% 10.57 USD 813.62\\u202fK 1.79 230.62\\u202fM USD — — — 0.00% Process industries Buy AEYE AudioEye, Inc. D −7.59% 16.92 USD 555.36\\u202fK 1.21 206.05\\u202fM USD — −0.28 USD +55.07% 0.00% Technology services Strong buy GNLX Genelux Corporation D −7.54% 2.33 USD 279.95\\u202fK 2.09 80.47\\u202fM USD — −0.95 USD +3.68% 0.00% Health technology Strong buy CAPR Capricor Therapeutics, Inc. D −7.53% 13.26 USD 1.28\\u202fM 0.67 602.93\\u202fM USD — −1.06 USD +7.87% 0.00% Health technology Strong buy GUTS Fractyl Health, Inc. D −7.48% 2.04 USD 439.09\\u202fK 1.83 98.12\\u202fM USD — −6.16 USD — 0.00% Health technology Strong buy MDB MongoDB, Inc. D −7.42% 267.19 USD 5.1\\u202fM 1.69 19.9\\u202fB USD — −2.74 USD −3.98% 0.00% Technology services Buy HSCS HeartSciences Inc. D −7.42% 3.77 USD 24.47\\u202fK 0.57 3.44\\u202fM USD — −24.41 USD +63.81% 0.00% Health technology Strong buy PRTA Prothena Corporation plc D −7.39% 12.79 USD 711.24\\u202fK 1.62 688.21\\u202fM USD — −2.48 USD −74.30% 0.00% Health technology Buy MAMO Massimo Group D −7.37% 2.64 USD 164.15\\u202fK 1.06 109.26\\u202fM USD 14.67 0.18 USD — 0.00% Finance — L LAZR Luminar Technologies, Inc. D −7.36% 6.42 USD 2.64\\u202fM 1.27 213.76\\u202fM USD — −13.35 USD +23.19% 0.00% Producer manufacturing Neutral VATE INNOVATE Corp. D −7.25% 5.50 USD 36.91\\u202fK 2.06 72.94\\u202fM USD — −3.67 USD +17.84% 0.00% Industrial services — ADN Advent Technologies Holdings, Inc. D −7.23% 6.03 USD 18.85\\u202fK 0.36 15.9\\u202fM USD — −23.76 USD +55.56% 0.00% Electronic technology — Love in every\\n#TradingView 90M+ Traders and investors use our platform. #1 Top website in the world when it comes to all things investing. 1.5M+ Mobile reviews with 4.9 average rating. No other fintech apps are more loved. 10M+ Custom scripts and ideas shared by our users. @roxanna_fx @lewicz.michal @johnny_muffet @jackentrepreneur @540wvn @elnaaz_sadeghi01 @tradingview @TradingView @life_of_lorena.fx @ozonlayerfx @jonnygodfrey_crypto @chartfeed @Cagan Tunc @trading069 Investing with Mike @michael_b_wang @chartfeed @price_action_guru @jonagalletaso Whatever the trade Here's why Here's why English Products Supercharts Pine Script™ Stock Screener ETF Screener Bond Screener Forex Screener Crypto Coins Screener Crypto Pairs Screener DEX Pairs Screener Stock Heatmap ETF Heatmap Crypto Heatmap Economic Calendar Earnings Calendar Sparks News TradingView Desktop Mobile app CME Group futures Eurex futures US stocks bundle Company About Features Pricing Social network Wall of Love Athletes Manifesto Careers Blog Security vulnerability Status page Terms of use Disclaimer Privacy policy Cookies policy Media kit Accessibility statement Tarot cards for traders Community Refer a friend Ideas Scripts House rules Moderators Pine Script™ Wizards Chat For business Widgets Advertising Charting libraries Lightweight Charts™ Advanced Charts Trading Platform Brokerage integration Partner program Education program Select market data provided by ICE Data Services Select reference data provided by FactSet. Copyright ©\\xa02024\\xa0FactSet\\xa0Research\\xa0Systems\\xa0Inc. © 2024 TradingView, Inc. Show more Show more Show more Show more Show more Show more Show more Show more Show more Show more Show more Show more Show more Show more Show more Show more Show more Show more Show more 1 This website uses cookies. Our policy. Manage Accept all Show more\\n\\nSOURCE: https://www.tradingview.com/markets/stocks-usa/market-movers-losers/\\n\\n\"]"
      ]
     },
     "execution_count": 3,
     "metadata": {},
     "output_type": "execute_result"
    }
   ],
   "source": [
    "from agentic_search.functions.web import get_webpages_soups_text_async\n",
    "\n",
    "res = await get_webpages_soups_text_async([x[\"href\"] for x in links])\n",
    "res"
   ]
  },
  {
   "cell_type": "markdown",
   "metadata": {},
   "source": [
    "## test chains"
   ]
  },
  {
   "cell_type": "code",
   "execution_count": 4,
   "metadata": {},
   "outputs": [
    {
     "data": {
      "text/plain": [
       "{'queries': ['latest top loser stock market news',\n",
       "  'worst performing stocks in the US today 2024-12-15',\n",
       "  'American stock market worst performers this week',\n",
       "  'stock market biggest losers of the year 2024',\n",
       "  'top losing stocks in the S&P 500 index',\n",
       "  'US stock market top decliners December 2024',\n",
       "  'latest stock market news on top losing companies']}"
      ]
     },
     "execution_count": 4,
     "metadata": {},
     "output_type": "execute_result"
    }
   ],
   "source": [
    "from agentic_search.chains.web import get_web_search_queries_chain\n",
    "\n",
    "chain = get_web_search_queries_chain()\n",
    "res = chain.invoke({\"query\": user_query})\n",
    "res\n"
   ]
  },
  {
   "cell_type": "code",
   "execution_count": 5,
   "metadata": {},
   "outputs": [
    {
     "data": {
      "text/plain": [
       "{'query': 'latest worst performing stocks in US market'}"
      ]
     },
     "execution_count": 5,
     "metadata": {},
     "output_type": "execute_result"
    }
   ],
   "source": [
    "from agentic_search.chains.web import get_web_search_query_chain\n",
    "\n",
    "chain = get_web_search_query_chain()\n",
    "res = chain.invoke({\"query\": user_query})\n",
    "res"
   ]
  },
  {
   "cell_type": "markdown",
   "metadata": {},
   "source": [
    "## test tools"
   ]
  },
  {
   "cell_type": "code",
   "execution_count": 6,
   "metadata": {},
   "outputs": [
    {
     "name": "stdout",
     "output_type": "stream",
     "text": [
      "\u001b[36m[DEBUG] \n",
      "invoking thorough web search tool with query: what is the latest top loser in the American stock market\n",
      "\u001b[0m\n",
      "\u001b[36m[DEBUG] \n",
      "serp results for query latest top loser stock market news: [{'title': 'Top Stock Losers Today - Yahoo Finance', 'href': 'https://finance.yahoo.com/screener/predefined/day_losers/', 'body': 'See the list of the top losing stocks today, including share price change and percentage, trading volume, intraday highs and lows, and day charts.'}, {'title': 'Top Daily Losses: US stocks posting the largest losses today - Yahoo ...', 'href': 'https://finance.yahoo.com/markets/stocks/losers/', 'body': \"Yahoo Finance's list of top losing stocks, includes share price changes, trading volume, intraday highs and lows, and day charts for stocks posting the largest losses today\"}, {'title': \"Today's Top Stock Losers - Stock Analysis\", 'href': 'https://stockanalysis.com/markets/losers/', 'body': 'A list of the stocks with the highest percentage loss today. See stock price, volume, market cap and more.'}]\n",
      "\u001b[0m\n"
     ]
    }
   ],
   "source": [
    "from agentic_search.tools.web import get_agentic_thorough_web_search_results_tool\n",
    "\n",
    "res = await get_agentic_thorough_web_search_results_tool(user_query, 2)\n",
    "# write results to file for consultation\n",
    "with open(\"scratchpad.md\", \"w\") as f:\n",
    "    f.write(res)"
   ]
  },
  {
   "cell_type": "code",
   "execution_count": 7,
   "metadata": {},
   "outputs": [
    {
     "name": "stdout",
     "output_type": "stream",
     "text": [
      "\u001b[36m[DEBUG] \n",
      "invoking quickweb search tool with query: what is the latest top loser in the American stock market\n",
      "\u001b[0m\n",
      "\u001b[36m[DEBUG] \n",
      "serp results for query latest worst performing stocks in US market: [{'title': 'Top Stock Losers Today - Yahoo Finance', 'href': 'https://finance.yahoo.com/screener/predefined/day_losers/', 'body': 'See the list of the top losing stocks today, including share price change and percentage, trading volume, intraday highs and lows, and day charts.'}, {'title': 'Top Daily Losses: US stocks posting the largest losses today - Yahoo ...', 'href': 'https://finance.yahoo.com/markets/stocks/losers/', 'body': \"Yahoo Finance's list of top losing stocks, includes share price changes, trading volume, intraday highs and lows, and day charts for stocks posting the largest losses today\"}, {'title': \"Today's Top Stock Losers - Stock Analysis\", 'href': 'https://stockanalysis.com/markets/losers/', 'body': 'A list of the stocks with the highest percentage loss today. See stock price, volume, market cap and more.'}]\n",
      "\u001b[0m\n"
     ]
    }
   ],
   "source": [
    "from agentic_search.tools.web import get_agentic_quick_web_search_results_tool\n",
    "\n",
    "res = await get_agentic_quick_web_search_results_tool(user_query, 6)\n",
    "# write results to file for consultation\n",
    "with open(\"scratchpad.md\", \"w\") as f:\n",
    "    f.write(res)"
   ]
  },
  {
   "cell_type": "markdown",
   "metadata": {},
   "source": [
    "## test capabilities"
   ]
  },
  {
   "cell_type": "code",
   "execution_count": 8,
   "metadata": {},
   "outputs": [
    {
     "name": "stdout",
     "output_type": "stream",
     "text": [
      "\u001b[36m[DEBUG] \n",
      "invoking web search agent with messages: [SystemMessage(content='You are a precise research assistant with web search capabilities. Your tasks:\\n1. Provide accurate, current information\\n2. Synthesize multi-source information concisely\\n3. Include citations and maintain objectivity\\n\\nFocus on authoritative, verifiable sources only.\\n\\nSkip web search if you are completely certain of information.\\nOtherwise, perform targeted searches as needed.\\nToday is 2024-12-15.', additional_kwargs={}, response_metadata={}), HumanMessage(content='what is the ticker symbol of the biggest yoghurt company in the world', additional_kwargs={}, response_metadata={}, id='037d6054-cb0c-46d6-a1f9-8abda2a9d5ae')]\n",
      "\u001b[0m\n",
      "\u001b[36m[DEBUG] \n",
      "invoking quickweb search tool with query: biggest yoghurt company in the world ticker\n",
      "\u001b[0m\n",
      "\u001b[36m[DEBUG] \n",
      "serp results for query largest yogurt manufacturer stock symbol: [{'title': '15 Biggest Yogurt Companies in the World - Yahoo Finance', 'href': 'https://finance.yahoo.com/news/15-biggest-yogurt-companies-world-082724518.html', 'body': 'In 2019, the global yogurt industry was valued at $112.8 billion and it is expected to grow at a compound annual growth rate (CAGR) of 6.41% to hit an astounding $163.7 billion.'}, {'title': 'Yogurt Stocks List Ranked for 2024 | NYSE, NASDAQ & AMEX', 'href': 'https://swingtradebot.com/stocks-tagged-as/21414-yogurt', 'body': 'ranked list of publicly traded Yogurt companies. Find the best Yogurt Stocks to buy. Yogurt, yoghurt or yoghourt ( or ; from Turkish: yoğurt) is a food produced by bacterial fermentation of milk. ... Symbol Grade Name % Change; WILC: B: G. Willi-Food International, Ltd. 0.00 LANC: D: Lancaster Colony Corporation: 0.00 ... 0.00 View As Page of ...'}, {'title': 'Invest In Chobani Stock | Buy Pre-IPO Shares - EquityZen', 'href': 'https://equityzen.com/company/chobani/', 'body': 'With immediate interest in the product, Hamdi hired four more people, who still work for us today. A lot has changed since then. Chobani team is now made up of nearly 3000 innovative, hardworking, fun-loving people. Their newest home in Twin Falls, ID, is the largest yogurt manufacturing facility in the world.'}]\n",
      "\u001b[0m\n",
      "\u001b[36m[DEBUG] \n",
      "invoking web search agent with messages: [SystemMessage(content='You are a precise research assistant with web search capabilities. Your tasks:\\n1. Provide accurate, current information\\n2. Synthesize multi-source information concisely\\n3. Include citations and maintain objectivity\\n\\nFocus on authoritative, verifiable sources only.\\n\\nSkip web search if you are completely certain of information.\\nOtherwise, perform targeted searches as needed.\\nToday is 2024-12-15.', additional_kwargs={}, response_metadata={}), HumanMessage(content='what is the ticker symbol of the biggest yoghurt company in the world', additional_kwargs={}, response_metadata={}, id='037d6054-cb0c-46d6-a1f9-8abda2a9d5ae'), AIMessage(content='', additional_kwargs={}, response_metadata={'model': 'llama3.1', 'created_at': '2024-12-15T13:15:36.50511592Z', 'done': True, 'done_reason': 'stop', 'total_duration': 1793484686, 'load_duration': 10328118, 'prompt_eval_count': 402, 'prompt_eval_duration': 373000000, 'eval_count': 42, 'eval_duration': 1031000000, 'message': Message(role='assistant', content='', images=None, tool_calls=[ToolCall(function=Function(name='get_agentic_quick_web_search_results_tool', arguments={'estimated_number_of_searches': '1', 'query': 'biggest yoghurt company in the world ticker'}))])}, id='run-d126eb86-6c98-4836-81be-d757dac5fb76-0', tool_calls=[{'name': 'get_agentic_quick_web_search_results_tool', 'args': {'estimated_number_of_searches': 1, 'query': 'biggest yoghurt company in the world ticker'}, 'id': '918f35bd-857f-494f-a630-d1f7b9b79ee2', 'type': 'tool_call'}], usage_metadata={'input_tokens': 402, 'output_tokens': 42, 'total_tokens': 444}), ToolMessage(content='* Chobani is the biggest yoghurt company in the world, according to the article \"15 Biggest Yogurt Companies in the World\" on Yahoo Finance.', name='get_agentic_quick_web_search_results_tool', id='64ccf6e0-d869-4874-a22d-2470c73d75ed', tool_call_id='918f35bd-857f-494f-a630-d1f7b9b79ee2')]\n",
      "\u001b[0m\n",
      "\u001b[36m[DEBUG] \n",
      "invoking quickweb search tool with query: Chobani stock ticker\n",
      "\u001b[0m\n",
      "\u001b[36m[DEBUG] \n",
      "serp results for query chobani stock symbol: [{'title': 'Chobani Inc. (CHO) Stock Price, Quote & News - Stock Analysis', 'href': 'https://stockanalysis.com/stocks/cho/', 'body': \"Chobani's Low Growth Business Is Priced For Hyper Growth. Chobani (CHO) is expected to go public soon with a rumored valuation of $10 billion, which would earn the stock our Unattractive rating. Justifying such a valuation requires quadrupling revenues by 20...\"}, {'title': 'Chobani Inc. (CHO) Company Profile & Overview - Stock Analysis', 'href': 'https://stockanalysis.com/stocks/cho/company/', 'body': 'Today the Chobani brand is synonymous with high-quality, delicious, healthy food and making a social and environmental impact, both of which resonate very strongly in the current marketplace. They currently sell their products in single-serve, multi-serve, and/or multi-pack formats through approximately 95,000 retail locations in the United States.'}, {'title': 'Chobani Inc. (CHO) Stock Price, Quote, News & Analysis - Seeking Alpha', 'href': 'https://seekingalpha.com/symbol/CHO', 'body': 'A high-level overview of Chobani Inc. (CHO) stock. Stay up to date on the latest stock price, chart, news, analysis, fundamentals, trading and investment tools.'}]\n",
      "\u001b[0m\n",
      "\u001b[36m[DEBUG] \n",
      "invoking web search agent with messages: [SystemMessage(content='You are a precise research assistant with web search capabilities. Your tasks:\\n1. Provide accurate, current information\\n2. Synthesize multi-source information concisely\\n3. Include citations and maintain objectivity\\n\\nFocus on authoritative, verifiable sources only.\\n\\nSkip web search if you are completely certain of information.\\nOtherwise, perform targeted searches as needed.\\nToday is 2024-12-15.', additional_kwargs={}, response_metadata={}), HumanMessage(content='what is the ticker symbol of the biggest yoghurt company in the world', additional_kwargs={}, response_metadata={}, id='037d6054-cb0c-46d6-a1f9-8abda2a9d5ae'), AIMessage(content='', additional_kwargs={}, response_metadata={'model': 'llama3.1', 'created_at': '2024-12-15T13:15:36.50511592Z', 'done': True, 'done_reason': 'stop', 'total_duration': 1793484686, 'load_duration': 10328118, 'prompt_eval_count': 402, 'prompt_eval_duration': 373000000, 'eval_count': 42, 'eval_duration': 1031000000, 'message': Message(role='assistant', content='', images=None, tool_calls=[ToolCall(function=Function(name='get_agentic_quick_web_search_results_tool', arguments={'estimated_number_of_searches': '1', 'query': 'biggest yoghurt company in the world ticker'}))])}, id='run-d126eb86-6c98-4836-81be-d757dac5fb76-0', tool_calls=[{'name': 'get_agentic_quick_web_search_results_tool', 'args': {'estimated_number_of_searches': 1, 'query': 'biggest yoghurt company in the world ticker'}, 'id': '918f35bd-857f-494f-a630-d1f7b9b79ee2', 'type': 'tool_call'}], usage_metadata={'input_tokens': 402, 'output_tokens': 42, 'total_tokens': 444}), ToolMessage(content='* Chobani is the biggest yoghurt company in the world, according to the article \"15 Biggest Yogurt Companies in the World\" on Yahoo Finance.', name='get_agentic_quick_web_search_results_tool', id='64ccf6e0-d869-4874-a22d-2470c73d75ed', tool_call_id='918f35bd-857f-494f-a630-d1f7b9b79ee2'), AIMessage(content='', additional_kwargs={}, response_metadata={'model': 'llama3.1', 'created_at': '2024-12-15T13:15:50.091612129Z', 'done': True, 'done_reason': 'stop', 'total_duration': 3450302742, 'load_duration': 16511542, 'prompt_eval_count': 234, 'prompt_eval_duration': 22000000, 'eval_count': 133, 'eval_duration': 3410000000, 'message': Message(role='assistant', content='', images=None, tool_calls=[ToolCall(function=Function(name='get_agentic_quick_web_search_results_tool', arguments={'estimated_number_of_searches': 1, 'query': 'Chobani stock ticker'}))])}, id='run-d9bdd340-cad2-407b-b26a-963cd5f62696-0', tool_calls=[{'name': 'get_agentic_quick_web_search_results_tool', 'args': {'estimated_number_of_searches': 1, 'query': 'Chobani stock ticker'}, 'id': '3af62a21-232f-4802-80c9-fe06a187a442', 'type': 'tool_call'}], usage_metadata={'input_tokens': 234, 'output_tokens': 133, 'total_tokens': 367}), ToolMessage(content=\"Chobani Inc.'s stock ticker is CHO.\", name='get_agentic_quick_web_search_results_tool', id='f6542e17-2754-4322-aca9-e2ee3826be4e', tool_call_id='3af62a21-232f-4802-80c9-fe06a187a442')]\n",
      "\u001b[0m\n",
      "\u001b[36m[DEBUG] \n",
      "Web search capability result: {'messages': [HumanMessage(content='what is the ticker symbol of the biggest yoghurt company in the world', additional_kwargs={}, response_metadata={}, id='037d6054-cb0c-46d6-a1f9-8abda2a9d5ae'), AIMessage(content='', additional_kwargs={}, response_metadata={'model': 'llama3.1', 'created_at': '2024-12-15T13:15:36.50511592Z', 'done': True, 'done_reason': 'stop', 'total_duration': 1793484686, 'load_duration': 10328118, 'prompt_eval_count': 402, 'prompt_eval_duration': 373000000, 'eval_count': 42, 'eval_duration': 1031000000, 'message': Message(role='assistant', content='', images=None, tool_calls=[ToolCall(function=Function(name='get_agentic_quick_web_search_results_tool', arguments={'estimated_number_of_searches': '1', 'query': 'biggest yoghurt company in the world ticker'}))])}, id='run-d126eb86-6c98-4836-81be-d757dac5fb76-0', tool_calls=[{'name': 'get_agentic_quick_web_search_results_tool', 'args': {'estimated_number_of_searches': 1, 'query': 'biggest yoghurt company in the world ticker'}, 'id': '918f35bd-857f-494f-a630-d1f7b9b79ee2', 'type': 'tool_call'}], usage_metadata={'input_tokens': 402, 'output_tokens': 42, 'total_tokens': 444}), ToolMessage(content='* Chobani is the biggest yoghurt company in the world, according to the article \"15 Biggest Yogurt Companies in the World\" on Yahoo Finance.', name='get_agentic_quick_web_search_results_tool', id='64ccf6e0-d869-4874-a22d-2470c73d75ed', tool_call_id='918f35bd-857f-494f-a630-d1f7b9b79ee2'), AIMessage(content='', additional_kwargs={}, response_metadata={'model': 'llama3.1', 'created_at': '2024-12-15T13:15:50.091612129Z', 'done': True, 'done_reason': 'stop', 'total_duration': 3450302742, 'load_duration': 16511542, 'prompt_eval_count': 234, 'prompt_eval_duration': 22000000, 'eval_count': 133, 'eval_duration': 3410000000, 'message': Message(role='assistant', content='', images=None, tool_calls=[ToolCall(function=Function(name='get_agentic_quick_web_search_results_tool', arguments={'estimated_number_of_searches': 1, 'query': 'Chobani stock ticker'}))])}, id='run-d9bdd340-cad2-407b-b26a-963cd5f62696-0', tool_calls=[{'name': 'get_agentic_quick_web_search_results_tool', 'args': {'estimated_number_of_searches': 1, 'query': 'Chobani stock ticker'}, 'id': '3af62a21-232f-4802-80c9-fe06a187a442', 'type': 'tool_call'}], usage_metadata={'input_tokens': 234, 'output_tokens': 133, 'total_tokens': 367}), ToolMessage(content=\"Chobani Inc.'s stock ticker is CHO.\", name='get_agentic_quick_web_search_results_tool', id='f6542e17-2754-4322-aca9-e2ee3826be4e', tool_call_id='3af62a21-232f-4802-80c9-fe06a187a442'), AIMessage(content='Based on the tool call output, the answer to the original user question is:\\n\\nThe ticker symbol of the biggest yoghurt company in the world is CHO (Chobani Inc.).', additional_kwargs={}, response_metadata={'model': 'llama3.1', 'created_at': '2024-12-15T13:16:01.987260184Z', 'done': True, 'done_reason': 'stop', 'total_duration': 1655030053, 'load_duration': 18271114, 'prompt_eval_count': 289, 'prompt_eval_duration': 53000000, 'eval_count': 38, 'eval_duration': 1579000000, 'message': Message(role='assistant', content='Based on the tool call output, the answer to the original user question is:\\n\\nThe ticker symbol of the biggest yoghurt company in the world is CHO (Chobani Inc.).', images=None, tool_calls=None)}, id='run-d8b053bf-4f0d-4828-92ae-ca824e05ec6e-0', usage_metadata={'input_tokens': 289, 'output_tokens': 38, 'total_tokens': 327})]}\n",
      "\u001b[0m\n"
     ]
    }
   ],
   "source": [
    "from agentic_search.capabilities.web import get_web_search_results\n",
    "\n",
    "res = await get_web_search_results(\"what is the ticker symbol of the biggest yoghurt company in the world\")\n",
    "res\n",
    "# write results to file for consultation\n",
    "with open(\"scratchpad.md\", \"w\") as f:\n",
    "    f.write(res[\"results\"])"
   ]
  }
 ],
 "metadata": {
  "kernelspec": {
   "display_name": "venv",
   "language": "python",
   "name": "python3"
  },
  "language_info": {
   "codemirror_mode": {
    "name": "ipython",
    "version": 3
   },
   "file_extension": ".py",
   "mimetype": "text/x-python",
   "name": "python",
   "nbconvert_exporter": "python",
   "pygments_lexer": "ipython3",
   "version": "3.12.3"
  }
 },
 "nbformat": 4,
 "nbformat_minor": 2
}
