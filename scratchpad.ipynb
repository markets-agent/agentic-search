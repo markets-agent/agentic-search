{
 "cells": [
  {
   "cell_type": "markdown",
   "metadata": {},
   "source": [
    "# cooking the best possible web search result (in terms of relevance and speed)"
   ]
  },
  {
   "cell_type": "code",
   "execution_count": 1,
   "metadata": {},
   "outputs": [
    {
     "data": {
      "text/plain": [
       "True"
      ]
     },
     "execution_count": 1,
     "metadata": {},
     "output_type": "execute_result"
    }
   ],
   "source": [
    "from dotenv import load_dotenv\n",
    "\n",
    "load_dotenv()"
   ]
  },
  {
   "cell_type": "markdown",
   "metadata": {},
   "source": [
    "## test functions"
   ]
  },
  {
   "cell_type": "code",
   "execution_count": null,
   "metadata": {},
   "outputs": [],
   "source": [
    "from agentic_search.functions.web import get_videos\n",
    "\n",
    "res = await get_videos(\"how to cook a pizza step by step\")\n",
    "res\n"
   ]
  },
  {
   "cell_type": "markdown",
   "metadata": {},
   "source": [
    "## test chains"
   ]
  },
  {
   "cell_type": "code",
   "execution_count": null,
   "metadata": {},
   "outputs": [],
   "source": [
    "from agentic_search.chains.web import get_route_search_type_chain\n",
    "\n",
    "res = get_route_search_type_chain().invoke({\"query\": \"what is the weather in Tokyo today?\"})\n",
    "res\n"
   ]
  },
  {
   "cell_type": "code",
   "execution_count": null,
   "metadata": {},
   "outputs": [],
   "source": [
    "res = get_route_search_type_chain().invoke({\"query\": \"how to cook a pizza step by step\"})\n",
    "res\n"
   ]
  },
  {
   "cell_type": "markdown",
   "metadata": {},
   "source": [
    "## test capabilities\n",
    "\n",
    "### search for current business information"
   ]
  },
  {
   "cell_type": "code",
   "execution_count": 3,
   "metadata": {},
   "outputs": [
    {
     "name": "stdout",
     "output_type": "stream",
     "text": [
      "\u001b[36m[DEBUG] \n",
      "invoking web search agent with messages: [SystemMessage(content='You are a precise research assistant with web search capabilities. Your tasks:\\n1. Provide accurate, current information\\n2. Synthesize multi-source information concisely\\n3. Include citations and maintain objectivity\\n\\nFocus on authoritative, verifiable sources only.\\n\\nSkip web search if you are completely certain of information.\\nOtherwise, perform targeted searches as needed.\\nToday is 2025-01-17.', additional_kwargs={}, response_metadata={}), HumanMessage(content='what are the top losers in the US stock market today?Answer in JSON format: {\\n                        \"content\": \"your results as a string\",\\n                        \"metadata\": \"any additional metadata that was attached to the web search results, if any\" | null,\\n                        \"type\": \"text\" | \"video\" (if the results are videos)\\n                        }', additional_kwargs={}, response_metadata={}, id='82d08607-c5e3-412d-9356-ba756ff26599')]\n",
      "\u001b[0m\n",
      "\u001b[36m[DEBUG] \n",
      "invoking web search tool with query: top stock market losers January 17 2025, and 1, thorough: True\n",
      "\u001b[0m\n",
      "\u001b[36m[DEBUG] \n",
      "serp results for query top stock market losers January 17 2025: [{'title': 'Top Gainers and Losers today on 17 January, 2025: Reliance ...', 'href': 'https://www.livemint.com/market/stock-market-news/top-gainers-and-losers-today-on-17-january-2025-reliance-industries-bharat-petroleum-corporation-infosys-axis-bank-among-most-active-stocks-check-full-list-here-11737109994021.html', 'body': 'vor 9 Stunden ... Top Gainers and Losers Today : The Sensex lost 423.49 points, or -0.55, to settle at 77042.82, while the Nifty lost 108.6 points, or -0.47,\\xa0...'}, {'title': 'Top Gainers & Losers of the Day on January 17, 2025', 'href': 'https://www.angelone.in/news/top-gainers-and-losers-of-the-day-on-january-17', 'body': 'vor 9 Stunden ... On Jan 17, 2025, BPCL, Reliance, Nestle India and Coal India are the top gainers, while Infosys, Axis Bank, Shriram Finance, Wipro and Kotak\\xa0...'}, {'title': 'Top gainers and losers: Stocks that moved the most on ...', 'href': 'https://www.moneycontrol.com/news/photos/business/stocks/top-gainers-and-losers-stocks-that-moved-the-most-on-january-17-12913312.html', 'body': 'vor 9 Stunden ... Tags: #Buzzing Stocks. first published: Jan 17, 2025 04:17 pm. Discover the latest business news, Sensex, and Nifty updates. Obtain Personal Finance\\xa0...'}]\n",
      "\u001b[0m\n",
      "\u001b[36m[DEBUG] \n",
      "invoking web search agent with messages: [SystemMessage(content='You are a precise research assistant with web search capabilities. Your tasks:\\n1. Provide accurate, current information\\n2. Synthesize multi-source information concisely\\n3. Include citations and maintain objectivity\\n\\nFocus on authoritative, verifiable sources only.\\n\\nSkip web search if you are completely certain of information.\\nOtherwise, perform targeted searches as needed.\\nToday is 2025-01-17.', additional_kwargs={}, response_metadata={}), HumanMessage(content='what are the top losers in the US stock market today?Answer in JSON format: {\\n                        \"content\": \"your results as a string\",\\n                        \"metadata\": \"any additional metadata that was attached to the web search results, if any\" | null,\\n                        \"type\": \"text\" | \"video\" (if the results are videos)\\n                        }', additional_kwargs={}, response_metadata={}, id='82d08607-c5e3-412d-9356-ba756ff26599'), AIMessage(content='', additional_kwargs={'tool_calls': [{'index': 0, 'id': 'call_SYbxY2x8G98aq8zEfjfaltBQ', 'function': {'arguments': '{\"query\":\"top stock market losers January 17 2025\",\"estimated_number_of_searches\":1,\"is_thorough\":true}', 'name': 'get_web_search_results_tool'}, 'type': 'function'}]}, response_metadata={'finish_reason': 'tool_calls', 'model_name': 'gpt-4o-mini-2024-07-18', 'system_fingerprint': 'fp_72ed7ab54c'}, id='run-ab3cfc42-5017-45ef-9026-e5548c554831-0', tool_calls=[{'name': 'get_web_search_results_tool', 'args': {'query': 'top stock market losers January 17 2025', 'estimated_number_of_searches': 1, 'is_thorough': True}, 'id': 'call_SYbxY2x8G98aq8zEfjfaltBQ', 'type': 'tool_call'}], usage_metadata={'input_tokens': 279, 'output_tokens': 40, 'total_tokens': 319, 'input_token_details': {'audio': 0, 'cache_read': 0}, 'output_token_details': {'audio': 0, 'reasoning': 0}}), ToolMessage(content='{\"content\":\"**Top Stock Market Losers on January 17, 2025**  \\\\n- **Nifty Index:**  \\\\n  - Infosys: down 5.86%  \\\\n  - Axis Bank: down 4.52%  \\\\n  - Shriram Finance: down 3.71%  \\\\n  - Kotak Mahindra Bank: down 2.60%  \\\\n  - Mahindra & Mahindra: down 2.12%  \\\\n\\\\n- **Sensex:**  \\\\n  - Infosys: down 5.77%  \\\\n  - Axis Bank: down 4.71%  \\\\n  - Kotak Mahindra Bank: down 2.58%  \\\\n  - Wipro: down 2.15%  \\\\n  - Mahindra & Mahindra: down 2.11%  \\\\n\\\\n- **NSE:**  \\\\n  - Kalyan Jewellers India: down 6.99%  \\\\n  - Infosys: down 5.86%  \\\\n  - PB Fintech: down 4.90%  \\\\n  - Axis Bank: down 4.52%  \\\\n  - Vijaya Diagnostic Centre: down 4.31%  \\\\n\\\\n- **BSE:**  \\\\n  - Sterling & Wilson Renewable Energy: down 9.99%  \\\\n  - Kalyan Jewellers India: down 6.93%  \\\\n  - Hatsun Agro Product: down 5.84%  \\\\n  - Infosys: down 5.77%  \\\\n  - Jindal Worldwide: down 4.97%  \\\\n\"}', name='get_web_search_results_tool', id='ed3f20d3-2206-4ece-bd71-9f72a73af4e0', tool_call_id='call_SYbxY2x8G98aq8zEfjfaltBQ')]\n",
      "\u001b[0m\n",
      "\u001b[36m[DEBUG] \n",
      "Web search capability result: {'messages': [HumanMessage(content='what are the top losers in the US stock market today?Answer in JSON format: {\\n                        \"content\": \"your results as a string\",\\n                        \"metadata\": \"any additional metadata that was attached to the web search results, if any\" | null,\\n                        \"type\": \"text\" | \"video\" (if the results are videos)\\n                        }', additional_kwargs={}, response_metadata={}, id='82d08607-c5e3-412d-9356-ba756ff26599'), AIMessage(content='', additional_kwargs={'tool_calls': [{'index': 0, 'id': 'call_SYbxY2x8G98aq8zEfjfaltBQ', 'function': {'arguments': '{\"query\":\"top stock market losers January 17 2025\",\"estimated_number_of_searches\":1,\"is_thorough\":true}', 'name': 'get_web_search_results_tool'}, 'type': 'function'}]}, response_metadata={'finish_reason': 'tool_calls', 'model_name': 'gpt-4o-mini-2024-07-18', 'system_fingerprint': 'fp_72ed7ab54c'}, id='run-ab3cfc42-5017-45ef-9026-e5548c554831-0', tool_calls=[{'name': 'get_web_search_results_tool', 'args': {'query': 'top stock market losers January 17 2025', 'estimated_number_of_searches': 1, 'is_thorough': True}, 'id': 'call_SYbxY2x8G98aq8zEfjfaltBQ', 'type': 'tool_call'}], usage_metadata={'input_tokens': 279, 'output_tokens': 40, 'total_tokens': 319, 'input_token_details': {'audio': 0, 'cache_read': 0}, 'output_token_details': {'audio': 0, 'reasoning': 0}}), ToolMessage(content='{\"content\":\"**Top Stock Market Losers on January 17, 2025**  \\\\n- **Nifty Index:**  \\\\n  - Infosys: down 5.86%  \\\\n  - Axis Bank: down 4.52%  \\\\n  - Shriram Finance: down 3.71%  \\\\n  - Kotak Mahindra Bank: down 2.60%  \\\\n  - Mahindra & Mahindra: down 2.12%  \\\\n\\\\n- **Sensex:**  \\\\n  - Infosys: down 5.77%  \\\\n  - Axis Bank: down 4.71%  \\\\n  - Kotak Mahindra Bank: down 2.58%  \\\\n  - Wipro: down 2.15%  \\\\n  - Mahindra & Mahindra: down 2.11%  \\\\n\\\\n- **NSE:**  \\\\n  - Kalyan Jewellers India: down 6.99%  \\\\n  - Infosys: down 5.86%  \\\\n  - PB Fintech: down 4.90%  \\\\n  - Axis Bank: down 4.52%  \\\\n  - Vijaya Diagnostic Centre: down 4.31%  \\\\n\\\\n- **BSE:**  \\\\n  - Sterling & Wilson Renewable Energy: down 9.99%  \\\\n  - Kalyan Jewellers India: down 6.93%  \\\\n  - Hatsun Agro Product: down 5.84%  \\\\n  - Infosys: down 5.77%  \\\\n  - Jindal Worldwide: down 4.97%  \\\\n\"}', name='get_web_search_results_tool', id='ed3f20d3-2206-4ece-bd71-9f72a73af4e0', tool_call_id='call_SYbxY2x8G98aq8zEfjfaltBQ'), AIMessage(content='```json\\n{\\n    \"content\": \"Top Stock Market Losers on January 17, 2025:  \\\\n- Nifty Index:  \\\\n  - Infosys: down 5.86%  \\\\n  - Axis Bank: down 4.52%  \\\\n  - Shriram Finance: down 3.71%  \\\\n  - Kotak Mahindra Bank: down 2.60%  \\\\n  - Mahindra & Mahindra: down 2.12%  \\\\n\\\\n- Sensex:  \\\\n  - Infosys: down 5.77%  \\\\n  - Axis Bank: down 4.71%  \\\\n  - Kotak Mahindra Bank: down 2.58%  \\\\n  - Wipro: down 2.15%  \\\\n  - Mahindra & Mahindra: down 2.11%  \\\\n\\\\n- NSE:  \\\\n  - Kalyan Jewellers India: down 6.99%  \\\\n  - Infosys: down 5.86%  \\\\n  - PB Fintech: down 4.90%  \\\\n  - Axis Bank: down 4.52%  \\\\n  - Vijaya Diagnostic Centre: down 4.31%  \\\\n\\\\n- BSE:  \\\\n  - Sterling & Wilson Renewable Energy: down 9.99%  \\\\n  - Kalyan Jewellers India: down 6.93%  \\\\n  - Hatsun Agro Product: down 5.84%  \\\\n  - Infosys: down 5.77%  \\\\n  - Jindal Worldwide: down 4.97%  \\\\n\",\\n    \"metadata\": null,\\n    \"type\": \"text\"\\n}\\n```', additional_kwargs={}, response_metadata={'finish_reason': 'stop', 'model_name': 'gpt-4o-mini-2024-07-18', 'system_fingerprint': 'fp_72ed7ab54c'}, id='run-efddb5d2-57d6-4d91-804d-6147b1459f92-0', usage_metadata={'input_tokens': 700, 'output_tokens': 386, 'total_tokens': 1086, 'input_token_details': {'audio': 0, 'cache_read': 0}, 'output_token_details': {'audio': 0, 'reasoning': 0}})]}\n",
      "\u001b[0m\n"
     ]
    },
    {
     "data": {
      "text/plain": [
       "{'results': 'Top Stock Market Losers on January 17, 2025:  \\n- Nifty Index:  \\n  - Infosys: down 5.86%  \\n  - Axis Bank: down 4.52%  \\n  - Shriram Finance: down 3.71%  \\n  - Kotak Mahindra Bank: down 2.60%  \\n  - Mahindra & Mahindra: down 2.12%  \\n\\n- Sensex:  \\n  - Infosys: down 5.77%  \\n  - Axis Bank: down 4.71%  \\n  - Kotak Mahindra Bank: down 2.58%  \\n  - Wipro: down 2.15%  \\n  - Mahindra & Mahindra: down 2.11%  \\n\\n- NSE:  \\n  - Kalyan Jewellers India: down 6.99%  \\n  - Infosys: down 5.86%  \\n  - PB Fintech: down 4.90%  \\n  - Axis Bank: down 4.52%  \\n  - Vijaya Diagnostic Centre: down 4.31%  \\n\\n- BSE:  \\n  - Sterling & Wilson Renewable Energy: down 9.99%  \\n  - Kalyan Jewellers India: down 6.93%  \\n  - Hatsun Agro Product: down 5.84%  \\n  - Infosys: down 5.77%  \\n  - Jindal Worldwide: down 4.97%  \\n',\n",
       " 'metadata': None,\n",
       " 'type': 'text'}"
      ]
     },
     "execution_count": 3,
     "metadata": {},
     "output_type": "execute_result"
    }
   ],
   "source": [
    "from agentic_search.capabilities.web import get_web_search_results\n",
    "\n",
    "res = await get_web_search_results(\"what are the top losers in the US stock market today?\")\n",
    "res"
   ]
  },
  {
   "cell_type": "code",
   "execution_count": 2,
   "metadata": {},
   "outputs": [
    {
     "name": "stdout",
     "output_type": "stream",
     "text": [
      "\u001b[36m[DEBUG] \n",
      "invoking web search agent with messages: [SystemMessage(content='You are a precise research assistant with web search capabilities. Your tasks:\\n1. Provide accurate, current information\\n2. Synthesize multi-source information concisely\\n3. Include citations and maintain objectivity\\n\\nFocus on authoritative, verifiable sources only.\\n\\nSkip web search if you are completely certain of information.\\nOtherwise, perform targeted searches as needed.\\nToday is 2025-01-17.', additional_kwargs={}, response_metadata={}), HumanMessage(content='shadow boxing tutorialAnswer in JSON format: {\\n                        \"content\": \"your results as a string\",\\n                        \"metadata\": \"any additional metadata that was attached to the web search results, if any\" | null,\\n                        \"type\": \"text\" | \"video\" (if the results are videos)\\n                        }', additional_kwargs={}, response_metadata={}, id='0f65d83d-8a7e-4608-bc63-30da1a4a8dd2')]\n",
      "\u001b[0m\n",
      "\u001b[36m[DEBUG] \n",
      "invoking web search tool with query: shadow boxing tutorial, and 5, thorough: True\n",
      "\u001b[0m\n",
      "\u001b[36m[DEBUG] \n",
      "serp results for query shadow boxing tutorial: [{'content': 'https://www.youtube.com/watch?v=fWfsbL2ulj8', 'description': 'A complete how to shadow box / shadowboxing tutorial guide for beginners by Tony Jeffries. In this shadow boxing guide you will learn how to shadow box even you are at home. Learning Shadowboxing is very important whether you do this for boxing as sport or for fitness and workout. We will teach you how to do shadowboxing doing proper form and ...', 'duration': '34:30', 'embed_html': '<iframe width=\"1280\" height=\"720\" src=\"https://www.youtube.com/embed/fWfsbL2ulj8?autoplay=1\" frameborder=\"0\" allowfullscreen></iframe>', 'embed_url': 'https://www.youtube.com/embed/fWfsbL2ulj8?autoplay=1', 'image_token': '02b353fa1023dfa324127f41f4bd6c09600c5560ebab0e32d7a7ff27c77d09fc', 'images': {'large': 'https://tse4.mm.bing.net/th?id=OVP.6V3vBKvIqmKawLiIWxPAoQHgFo&pid=Api', 'medium': 'https://tse4.mm.bing.net/th?id=OVP.6V3vBKvIqmKawLiIWxPAoQHgFo&pid=Api', 'motion': 'https://tse4.mm.bing.net/th?id=OM.-XKxQEeMjWhwPA_1734079738&pid=Api', 'small': 'https://tse4.mm.bing.net/th?id=OVP.6V3vBKvIqmKawLiIWxPAoQHgFo&pid=Api'}, 'provider': 'Bing', 'published': '2022-01-27T16:39:02.0000000', 'publisher': 'YouTube', 'statistics': {'viewCount': 705935}, 'title': 'How to Shadow Box 101 | Complete Shadowboxing Tutorial for Beginners', 'uploader': 'Tony Jeffries'}, {'content': 'https://www.youtube.com/watch?v=J4j3AOVWuHE', 'description': \"Tony Jeffries shows a quick shadow boxing tutorial, in just 3 minutes you can learn how to shadow box at home even you're just a beginner in boxing. When shadowboxing it is very important to maintain good form and technique so you will not get into bad habits. SANABUL GLOVES - Use Code TONY10 to get 10% off https://sanabul.us/3FnfYxf Free ...\", 'duration': '3:00', 'embed_html': '<iframe width=\"1280\" height=\"720\" src=\"https://www.youtube.com/embed/J4j3AOVWuHE?autoplay=1\" frameborder=\"0\" allowfullscreen></iframe>', 'embed_url': 'https://www.youtube.com/embed/J4j3AOVWuHE?autoplay=1', 'image_token': 'd03510b725abc268c49e93086b529129662d1ffd8e60e3612534a88aa8078209', 'images': {'large': 'https://tse1.mm.bing.net/th?id=OVP.gCy7RHrpp5-hrFWlkICAmgHgFo&pid=Api', 'medium': 'https://tse1.mm.bing.net/th?id=OVP.gCy7RHrpp5-hrFWlkICAmgHgFo&pid=Api', 'motion': 'https://tse1.mm.bing.net/th?id=OM.QhvzYkebYMHiZA_1729629148&pid=Api', 'small': 'https://tse1.mm.bing.net/th?id=OVP.gCy7RHrpp5-hrFWlkICAmgHgFo&pid=Api'}, 'provider': 'Bing', 'published': '2022-01-17T15:46:26.0000000', 'publisher': 'YouTube', 'statistics': {'viewCount': 644570}, 'title': 'Quick Shadow Boxing Tutorial by Olympian', 'uploader': 'Tony Jeffries'}, {'content': 'https://www.youtube.com/watch?v=i12A6G_LiJo', 'description': \"Tony Jeffries shows how to do shadow boxing for beginners. Just about every boxer out there does shadowboxing. You can do it just about anywhere, including within the comfort of your own home. The reasons why they do it include the following. #1 it's a great extension to warm up the specific muscles you will use in that boxing session. #2 it ...\", 'duration': '3:55', 'embed_html': '<iframe width=\"1280\" height=\"720\" src=\"https://www.youtube.com/embed/i12A6G_LiJo?autoplay=1\" frameborder=\"0\" allowfullscreen></iframe>', 'embed_url': 'https://www.youtube.com/embed/i12A6G_LiJo?autoplay=1', 'image_token': 'ff513231e1cb965cb888e5e353e510107acb966409d5e21d5ebefd15d78360c6', 'images': {'large': 'https://tse4.mm.bing.net/th?id=OVP.SUb0xnWH4bbEGA1_0Fe8dAHgFo&pid=Api', 'medium': 'https://tse4.mm.bing.net/th?id=OVP.SUb0xnWH4bbEGA1_0Fe8dAHgFo&pid=Api', 'motion': 'https://tse3.mm.bing.net/th?id=OM.t1R_arvplOkxqw_1727662719&pid=Api', 'small': 'https://tse4.mm.bing.net/th?id=OVP.SUb0xnWH4bbEGA1_0Fe8dAHgFo&pid=Api'}, 'provider': 'Bing', 'published': '2020-07-20T15:04:11.0000000', 'publisher': 'YouTube', 'statistics': {'viewCount': 843016}, 'title': 'How to do Shadow Boxing for Beginners | Why Boxers Shadow Box', 'uploader': 'Tony Jeffries'}]\n",
      "\u001b[0m\n",
      "\u001b[36m[DEBUG] \n",
      "invoking web search agent with messages: [SystemMessage(content='You are a precise research assistant with web search capabilities. Your tasks:\\n1. Provide accurate, current information\\n2. Synthesize multi-source information concisely\\n3. Include citations and maintain objectivity\\n\\nFocus on authoritative, verifiable sources only.\\n\\nSkip web search if you are completely certain of information.\\nOtherwise, perform targeted searches as needed.\\nToday is 2025-01-17.', additional_kwargs={}, response_metadata={}), HumanMessage(content='shadow boxing tutorialAnswer in JSON format: {\\n                        \"content\": \"your results as a string\",\\n                        \"metadata\": \"any additional metadata that was attached to the web search results, if any\" | null,\\n                        \"type\": \"text\" | \"video\" (if the results are videos)\\n                        }', additional_kwargs={}, response_metadata={}, id='0f65d83d-8a7e-4608-bc63-30da1a4a8dd2'), AIMessage(content='', additional_kwargs={'tool_calls': [{'index': 0, 'id': 'call_lxtFD6O98pjaqxxXDMFLICHU', 'function': {'arguments': '{\"query\":\"shadow boxing tutorial\",\"estimated_number_of_searches\":5,\"is_thorough\":true}', 'name': 'get_web_search_results_tool'}, 'type': 'function'}]}, response_metadata={'finish_reason': 'tool_calls', 'model_name': 'gpt-4o-mini-2024-07-18', 'system_fingerprint': 'fp_72ed7ab54c'}, id='run-ce5a4cca-722a-453d-9004-4786676a0273-0', tool_calls=[{'name': 'get_web_search_results_tool', 'args': {'query': 'shadow boxing tutorial', 'estimated_number_of_searches': 5, 'is_thorough': True}, 'id': 'call_lxtFD6O98pjaqxxXDMFLICHU', 'type': 'tool_call'}], usage_metadata={'input_tokens': 270, 'output_tokens': 33, 'total_tokens': 303, 'input_token_details': {'audio': 0, 'cache_read': 0}, 'output_token_details': {'audio': 0, 'reasoning': 0}}), ToolMessage(content='{\"content\": \"https://www.youtube.com/watch?v=i12A6G_LiJo\", \"metadata\": \"How to do Shadow Boxing for Beginners | Why Boxers Shadow Box\", \"type\": \"video\"}', name='get_web_search_results_tool', id='029340f7-e7df-4916-8e8a-bd02121dd9c2', tool_call_id='call_lxtFD6O98pjaqxxXDMFLICHU')]\n",
      "\u001b[0m\n",
      "\u001b[36m[DEBUG] \n",
      "Web search capability result: {'messages': [HumanMessage(content='shadow boxing tutorialAnswer in JSON format: {\\n                        \"content\": \"your results as a string\",\\n                        \"metadata\": \"any additional metadata that was attached to the web search results, if any\" | null,\\n                        \"type\": \"text\" | \"video\" (if the results are videos)\\n                        }', additional_kwargs={}, response_metadata={}, id='0f65d83d-8a7e-4608-bc63-30da1a4a8dd2'), AIMessage(content='', additional_kwargs={'tool_calls': [{'index': 0, 'id': 'call_lxtFD6O98pjaqxxXDMFLICHU', 'function': {'arguments': '{\"query\":\"shadow boxing tutorial\",\"estimated_number_of_searches\":5,\"is_thorough\":true}', 'name': 'get_web_search_results_tool'}, 'type': 'function'}]}, response_metadata={'finish_reason': 'tool_calls', 'model_name': 'gpt-4o-mini-2024-07-18', 'system_fingerprint': 'fp_72ed7ab54c'}, id='run-ce5a4cca-722a-453d-9004-4786676a0273-0', tool_calls=[{'name': 'get_web_search_results_tool', 'args': {'query': 'shadow boxing tutorial', 'estimated_number_of_searches': 5, 'is_thorough': True}, 'id': 'call_lxtFD6O98pjaqxxXDMFLICHU', 'type': 'tool_call'}], usage_metadata={'input_tokens': 270, 'output_tokens': 33, 'total_tokens': 303, 'input_token_details': {'audio': 0, 'cache_read': 0}, 'output_token_details': {'audio': 0, 'reasoning': 0}}), ToolMessage(content='{\"content\": \"https://www.youtube.com/watch?v=i12A6G_LiJo\", \"metadata\": \"How to do Shadow Boxing for Beginners | Why Boxers Shadow Box\", \"type\": \"video\"}', name='get_web_search_results_tool', id='029340f7-e7df-4916-8e8a-bd02121dd9c2', tool_call_id='call_lxtFD6O98pjaqxxXDMFLICHU'), AIMessage(content='{\\n  \"content\": \"https://www.youtube.com/watch?v=i12A6G_LiJo\",\\n  \"metadata\": \"How to do Shadow Boxing for Beginners | Why Boxers Shadow Box\",\\n  \"type\": \"video\"\\n}', additional_kwargs={}, response_metadata={'finish_reason': 'stop', 'model_name': 'gpt-4o-mini-2024-07-18', 'system_fingerprint': 'fp_72ed7ab54c'}, id='run-2c98d86b-baca-46a6-9512-1b3088f8d00f-0', usage_metadata={'input_tokens': 358, 'output_tokens': 50, 'total_tokens': 408, 'input_token_details': {'audio': 0, 'cache_read': 0}, 'output_token_details': {'audio': 0, 'reasoning': 0}})]}\n",
      "\u001b[0m\n"
     ]
    },
    {
     "data": {
      "text/plain": [
       "{'results': 'https://www.youtube.com/watch?v=i12A6G_LiJo',\n",
       " 'metadata': 'How to do Shadow Boxing for Beginners | Why Boxers Shadow Box',\n",
       " 'type': 'video'}"
      ]
     },
     "execution_count": 2,
     "metadata": {},
     "output_type": "execute_result"
    }
   ],
   "source": [
    "from agentic_search.capabilities.web import get_web_search_results\n",
    "\n",
    "res = await get_web_search_results(\"shadow boxing tutorial\")\n",
    "res"
   ]
  }
 ],
 "metadata": {
  "kernelspec": {
   "display_name": "venv",
   "language": "python",
   "name": "python3"
  },
  "language_info": {
   "codemirror_mode": {
    "name": "ipython",
    "version": 3
   },
   "file_extension": ".py",
   "mimetype": "text/x-python",
   "name": "python",
   "nbconvert_exporter": "python",
   "pygments_lexer": "ipython3",
   "version": "3.12.3"
  }
 },
 "nbformat": 4,
 "nbformat_minor": 2
}
