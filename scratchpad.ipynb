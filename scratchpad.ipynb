{
 "cells": [
  {
   "cell_type": "markdown",
   "metadata": {},
   "source": [
    "# cooking the best possible web search result (in terms of relevance and speed)"
   ]
  },
  {
   "cell_type": "code",
   "execution_count": 1,
   "metadata": {},
   "outputs": [
    {
     "data": {
      "text/plain": [
       "True"
      ]
     },
     "execution_count": 1,
     "metadata": {},
     "output_type": "execute_result"
    }
   ],
   "source": [
    "from dotenv import load_dotenv\n",
    "\n",
    "load_dotenv()"
   ]
  },
  {
   "cell_type": "markdown",
   "metadata": {},
   "source": [
    "## test functions"
   ]
  },
  {
   "cell_type": "code",
   "execution_count": 2,
   "metadata": {},
   "outputs": [
    {
     "name": "stdout",
     "output_type": "stream",
     "text": [
      "\u001b[36m[DEBUG] \n",
      "serp results for query how to cook a pizza step by step: [{'content': 'https://www.youtube.com/watch?v=RAOgl-Sv09U', 'description': 'To get this complete recipe with instructions and measurements, check out my website: http://www.LauraintheKitchen.com Official Facebook Page: http://www.facebook.com/LauraintheKitchen Twitter: @Lauraskitchen', 'duration': '17:57', 'embed_html': '<iframe width=\"1280\" height=\"720\" src=\"https://www.youtube.com/embed/RAOgl-Sv09U?autoplay=1\" frameborder=\"0\" allowfullscreen></iframe>', 'embed_url': 'https://www.youtube.com/embed/RAOgl-Sv09U?autoplay=1', 'image_token': 'b733b1c39164f835b9114fcea039ea945c0af6696a764925988a2d312ebc2a56', 'images': {'large': 'https://tse1.mm.bing.net/th?id=OVP.NTl64eoia2wINdQRIOygaQHgFo&pid=Api', 'medium': 'https://tse1.mm.bing.net/th?id=OVP.NTl64eoia2wINdQRIOygaQHgFo&pid=Api', 'motion': 'https://tse2.mm.bing.net/th?id=OM.Ch_mW3ruFUsGlw_1730773219&pid=Api', 'small': 'https://tse1.mm.bing.net/th?id=OVP.NTl64eoia2wINdQRIOygaQHgFo&pid=Api'}, 'provider': 'Bing', 'published': '2011-01-05T03:03:08.0000000', 'publisher': 'YouTube', 'statistics': {'viewCount': 6966780}, 'title': 'How to make Homemade Pizza From Scratch - Recipe by Laura Vitale - Laura in the Kitchen Ep. 86', 'uploader': 'Laura in the Kitchen'}, {'content': 'https://www.youtube.com/watch?v=MDX8fylSisU', 'description': \"How to Make Perfect Homemade Pizza! Best Pizza Recipe You'll Ever Eat at Home! An easy homemade pizza recipe that anyone can make. Pizza Dough Ingredients: 1 cup all-purpose flour (160 g) 1 tsp yeast 1 tsp sugar 1/4 tsp salt 1 tbsp olive oil 3 fl oz warm water (90 ml) Ingredients for Tomato Pizza Sauce: 14 oz tomatoes (400 g) 1 garlic clove 4-5 ...\", 'duration': '8:34', 'embed_html': '<iframe width=\"1280\" height=\"720\" src=\"https://www.youtube.com/embed/MDX8fylSisU?autoplay=1\" frameborder=\"0\" allowfullscreen></iframe>', 'embed_url': 'https://www.youtube.com/embed/MDX8fylSisU?autoplay=1', 'image_token': '44e4ca55fcd7344adde5aa9e063142ebeb6a2ee155b8015035c6c133e97c51f3', 'images': {'large': 'https://tse4.mm.bing.net/th?id=OVP.I7BiRIKeKRkGTXqnubj0jQHgFo&pid=Api', 'medium': 'https://tse4.mm.bing.net/th?id=OVP.I7BiRIKeKRkGTXqnubj0jQHgFo&pid=Api', 'motion': 'https://tse2.mm.bing.net/th?id=OM.JZa_WBmXvu4a2w_1732071541&pid=Api', 'small': 'https://tse4.mm.bing.net/th?id=OVP.I7BiRIKeKRkGTXqnubj0jQHgFo&pid=Api'}, 'provider': 'Bing', 'published': '2023-09-08T12:00:09.0000000', 'publisher': 'YouTube', 'statistics': {'viewCount': 4101379}, 'title': \"How to Make Perfect Homemade Pizza! Best Pizza Recipe You'll Ever Eat at Home!\", 'uploader': 'Fast & Easy Recipes'}, {'content': 'https://www.youtube.com/watch?v=1-SJGQ2HLp8', 'description': \"You guys asked for an easy pizza recipe and here it is! Who better to show you how to make pizza than Gennaro himself? Using his family recipe he guides you through every step from kneading the dough to making the classic margherita topping. This is everything you need to know about pizza in one video folks. What's your favourite pizza topping ...\", 'duration': '6:36', 'embed_html': '<iframe width=\"1280\" height=\"720\" src=\"https://www.youtube.com/embed/1-SJGQ2HLp8?autoplay=1\" frameborder=\"0\" allowfullscreen></iframe>', 'embed_url': 'https://www.youtube.com/embed/1-SJGQ2HLp8?autoplay=1', 'image_token': '9244849e1a2662ede0cb07e6df64bc092da68a64f22d6855ee1840650e24e613', 'images': {'large': 'https://tse4.mm.bing.net/th?id=OVP.oFAVukqDem21TS8Dqdw19QHgFo&pid=Api', 'medium': 'https://tse4.mm.bing.net/th?id=OVP.oFAVukqDem21TS8Dqdw19QHgFo&pid=Api', 'motion': 'https://tse1.mm.bing.net/th?id=OM.Kj6RpLLE2869ZA_1734332402&pid=Api', 'small': 'https://tse4.mm.bing.net/th?id=OVP.oFAVukqDem21TS8Dqdw19QHgFo&pid=Api'}, 'provider': 'Bing', 'published': '2014-02-20T19:30:01.0000000', 'publisher': 'YouTube', 'statistics': {'viewCount': 15916179}, 'title': 'How to Make Perfect Pizza | Gennaro Contaldo', 'uploader': 'Jamie Oliver'}]\n",
      "\u001b[0m\n"
     ]
    },
    {
     "data": {
      "text/plain": [
       "[{'content': 'https://www.youtube.com/watch?v=RAOgl-Sv09U',\n",
       "  'description': 'To get this complete recipe with instructions and measurements, check out my website: http://www.LauraintheKitchen.com Official Facebook Page: http://www.facebook.com/LauraintheKitchen Twitter: @Lauraskitchen',\n",
       "  'duration': '17:57',\n",
       "  'embed_html': '<iframe width=\"1280\" height=\"720\" src=\"https://www.youtube.com/embed/RAOgl-Sv09U?autoplay=1\" frameborder=\"0\" allowfullscreen></iframe>',\n",
       "  'embed_url': 'https://www.youtube.com/embed/RAOgl-Sv09U?autoplay=1',\n",
       "  'image_token': 'b733b1c39164f835b9114fcea039ea945c0af6696a764925988a2d312ebc2a56',\n",
       "  'images': {'large': 'https://tse1.mm.bing.net/th?id=OVP.NTl64eoia2wINdQRIOygaQHgFo&pid=Api',\n",
       "   'medium': 'https://tse1.mm.bing.net/th?id=OVP.NTl64eoia2wINdQRIOygaQHgFo&pid=Api',\n",
       "   'motion': 'https://tse2.mm.bing.net/th?id=OM.Ch_mW3ruFUsGlw_1730773219&pid=Api',\n",
       "   'small': 'https://tse1.mm.bing.net/th?id=OVP.NTl64eoia2wINdQRIOygaQHgFo&pid=Api'},\n",
       "  'provider': 'Bing',\n",
       "  'published': '2011-01-05T03:03:08.0000000',\n",
       "  'publisher': 'YouTube',\n",
       "  'statistics': {'viewCount': 6966780},\n",
       "  'title': 'How to make Homemade Pizza From Scratch - Recipe by Laura Vitale - Laura in the Kitchen Ep. 86',\n",
       "  'uploader': 'Laura in the Kitchen'},\n",
       " {'content': 'https://www.youtube.com/watch?v=MDX8fylSisU',\n",
       "  'description': \"How to Make Perfect Homemade Pizza! Best Pizza Recipe You'll Ever Eat at Home! An easy homemade pizza recipe that anyone can make. Pizza Dough Ingredients: 1 cup all-purpose flour (160 g) 1 tsp yeast 1 tsp sugar 1/4 tsp salt 1 tbsp olive oil 3 fl oz warm water (90 ml) Ingredients for Tomato Pizza Sauce: 14 oz tomatoes (400 g) 1 garlic clove 4-5 ...\",\n",
       "  'duration': '8:34',\n",
       "  'embed_html': '<iframe width=\"1280\" height=\"720\" src=\"https://www.youtube.com/embed/MDX8fylSisU?autoplay=1\" frameborder=\"0\" allowfullscreen></iframe>',\n",
       "  'embed_url': 'https://www.youtube.com/embed/MDX8fylSisU?autoplay=1',\n",
       "  'image_token': '44e4ca55fcd7344adde5aa9e063142ebeb6a2ee155b8015035c6c133e97c51f3',\n",
       "  'images': {'large': 'https://tse4.mm.bing.net/th?id=OVP.I7BiRIKeKRkGTXqnubj0jQHgFo&pid=Api',\n",
       "   'medium': 'https://tse4.mm.bing.net/th?id=OVP.I7BiRIKeKRkGTXqnubj0jQHgFo&pid=Api',\n",
       "   'motion': 'https://tse2.mm.bing.net/th?id=OM.JZa_WBmXvu4a2w_1732071541&pid=Api',\n",
       "   'small': 'https://tse4.mm.bing.net/th?id=OVP.I7BiRIKeKRkGTXqnubj0jQHgFo&pid=Api'},\n",
       "  'provider': 'Bing',\n",
       "  'published': '2023-09-08T12:00:09.0000000',\n",
       "  'publisher': 'YouTube',\n",
       "  'statistics': {'viewCount': 4101379},\n",
       "  'title': \"How to Make Perfect Homemade Pizza! Best Pizza Recipe You'll Ever Eat at Home!\",\n",
       "  'uploader': 'Fast & Easy Recipes'},\n",
       " {'content': 'https://www.youtube.com/watch?v=1-SJGQ2HLp8',\n",
       "  'description': \"You guys asked for an easy pizza recipe and here it is! Who better to show you how to make pizza than Gennaro himself? Using his family recipe he guides you through every step from kneading the dough to making the classic margherita topping. This is everything you need to know about pizza in one video folks. What's your favourite pizza topping ...\",\n",
       "  'duration': '6:36',\n",
       "  'embed_html': '<iframe width=\"1280\" height=\"720\" src=\"https://www.youtube.com/embed/1-SJGQ2HLp8?autoplay=1\" frameborder=\"0\" allowfullscreen></iframe>',\n",
       "  'embed_url': 'https://www.youtube.com/embed/1-SJGQ2HLp8?autoplay=1',\n",
       "  'image_token': '9244849e1a2662ede0cb07e6df64bc092da68a64f22d6855ee1840650e24e613',\n",
       "  'images': {'large': 'https://tse4.mm.bing.net/th?id=OVP.oFAVukqDem21TS8Dqdw19QHgFo&pid=Api',\n",
       "   'medium': 'https://tse4.mm.bing.net/th?id=OVP.oFAVukqDem21TS8Dqdw19QHgFo&pid=Api',\n",
       "   'motion': 'https://tse1.mm.bing.net/th?id=OM.Kj6RpLLE2869ZA_1734332402&pid=Api',\n",
       "   'small': 'https://tse4.mm.bing.net/th?id=OVP.oFAVukqDem21TS8Dqdw19QHgFo&pid=Api'},\n",
       "  'provider': 'Bing',\n",
       "  'published': '2014-02-20T19:30:01.0000000',\n",
       "  'publisher': 'YouTube',\n",
       "  'statistics': {'viewCount': 15916179},\n",
       "  'title': 'How to Make Perfect Pizza | Gennaro Contaldo',\n",
       "  'uploader': 'Jamie Oliver'}]"
      ]
     },
     "execution_count": 2,
     "metadata": {},
     "output_type": "execute_result"
    }
   ],
   "source": [
    "from agentic_search.functions.web import get_videos\n",
    "\n",
    "res = await get_videos(\"how to cook a pizza step by step\")\n",
    "res\n"
   ]
  },
  {
   "cell_type": "markdown",
   "metadata": {},
   "source": [
    "## test chains"
   ]
  },
  {
   "cell_type": "code",
   "execution_count": 3,
   "metadata": {},
   "outputs": [
    {
     "data": {
      "text/plain": [
       "{'search_type': 'text'}"
      ]
     },
     "execution_count": 3,
     "metadata": {},
     "output_type": "execute_result"
    }
   ],
   "source": [
    "from agentic_search.chains.web import get_route_search_type_chain\n",
    "\n",
    "res = get_route_search_type_chain().invoke({\"query\": \"what is the weather in Tokyo today?\"})\n",
    "res\n"
   ]
  },
  {
   "cell_type": "code",
   "execution_count": 4,
   "metadata": {},
   "outputs": [
    {
     "data": {
      "text/plain": [
       "{'search_type': 'video'}"
      ]
     },
     "execution_count": 4,
     "metadata": {},
     "output_type": "execute_result"
    }
   ],
   "source": [
    "res = get_route_search_type_chain().invoke({\"query\": \"how to cook a pizza step by step\"})\n",
    "res\n"
   ]
  },
  {
   "cell_type": "markdown",
   "metadata": {},
   "source": [
    "## test capabilities\n",
    "\n",
    "### search for current business information"
   ]
  },
  {
   "cell_type": "code",
   "execution_count": 5,
   "metadata": {},
   "outputs": [
    {
     "name": "stdout",
     "output_type": "stream",
     "text": [
      "\u001b[36m[DEBUG] \n",
      "invoking web search agent with messages: [SystemMessage(content='You are a precise research assistant with web search capabilities. Your tasks:\\n1. Provide accurate, current information\\n2. Synthesize multi-source information concisely\\n3. Include citations and maintain objectivity\\n\\nFocus on authoritative, verifiable sources only.\\n\\nSkip web search if you are completely certain of information.\\nOtherwise, perform targeted searches as needed.\\nToday is 2025-01-17.', additional_kwargs={}, response_metadata={}), HumanMessage(content='what are the top losers in the US stock market today?Answer in JSON format: {\\n                        \"content\": \"your results as a string\",\\n                        \"type\": \"text\" | \"video\" (if the results are videos)\\n                        }', additional_kwargs={}, response_metadata={}, id='4f4215d6-75d5-4474-a350-1f109f4807c2')]\n",
      "\u001b[0m\n",
      "\u001b[36m[DEBUG] \n",
      "invoking web search tool with query: top stock market losers January 17 2025, and 5, thorough: True\n",
      "\u001b[0m\n",
      "\u001b[36m[DEBUG] \n",
      "serp results for query top stock market losers January 17 2025: [{'title': 'Top Gainers and Losers today on 17 January, 2025: Reliance ...', 'href': 'https://www.livemint.com/market/stock-market-news/top-gainers-and-losers-today-on-17-january-2025-reliance-industries-bharat-petroleum-corporation-infosys-axis-bank-among-most-active-stocks-check-full-list-here-11737109994021.html', 'body': 'vor 6 Stunden ... Top Gainers and Losers Today : The Sensex lost 423.49 points, or -0.55, to settle at 77042.82, while the Nifty lost 108.6 points, or -0.47,\\xa0...'}, {'title': 'Top gainers and losers: Stocks that moved the most on ...', 'href': 'https://www.moneycontrol.com/news/photos/business/stocks/top-gainers-and-losers-stocks-that-moved-the-most-on-january-17-12913312.html', 'body': 'vor 5 Stunden ... Tags: #Buzzing Stocks. first published: Jan 17, 2025 04:17 pm. Discover the latest business news, Sensex, and Nifty updates. Obtain Personal Finance\\xa0...'}, {'title': 'Share Market Highlights 17 January 2025: Sensex, Nifty log ...', 'href': 'https://www.thehindubusinessline.com/markets/stock-market-highlights-17-january-2025/article69104455.ece', 'body': 'vor 6 Stunden ... Sensex, Nifty updates 17 January 2025: The BSE Sensex fell 423 points (0.55%) to 76,619.33, while the NSE Nifty 50 dropped 108 points\\xa0...'}]\n",
      "\u001b[0m\n",
      "\u001b[36m[DEBUG] \n",
      "invoking web search agent with messages: [SystemMessage(content='You are a precise research assistant with web search capabilities. Your tasks:\\n1. Provide accurate, current information\\n2. Synthesize multi-source information concisely\\n3. Include citations and maintain objectivity\\n\\nFocus on authoritative, verifiable sources only.\\n\\nSkip web search if you are completely certain of information.\\nOtherwise, perform targeted searches as needed.\\nToday is 2025-01-17.', additional_kwargs={}, response_metadata={}), HumanMessage(content='what are the top losers in the US stock market today?Answer in JSON format: {\\n                        \"content\": \"your results as a string\",\\n                        \"type\": \"text\" | \"video\" (if the results are videos)\\n                        }', additional_kwargs={}, response_metadata={}, id='4f4215d6-75d5-4474-a350-1f109f4807c2'), AIMessage(content='', additional_kwargs={'tool_calls': [{'index': 0, 'id': 'call_k84o77AAvBMooZxbAaNYiMcb', 'function': {'arguments': '{\"query\":\"top stock market losers January 17 2025\",\"estimated_number_of_searches\":5,\"is_thorough\":true}', 'name': 'get_web_search_results_tool'}, 'type': 'function'}]}, response_metadata={'finish_reason': 'tool_calls', 'model_name': 'gpt-4o-mini-2024-07-18', 'system_fingerprint': 'fp_72ed7ab54c'}, id='run-3e9eae6c-0a02-4a45-9c5a-4ec9fec90ca6-0', tool_calls=[{'name': 'get_web_search_results_tool', 'args': {'query': 'top stock market losers January 17 2025', 'estimated_number_of_searches': 5, 'is_thorough': True}, 'id': 'call_k84o77AAvBMooZxbAaNYiMcb', 'type': 'tool_call'}], usage_metadata={'input_tokens': 256, 'output_tokens': 40, 'total_tokens': 296, 'input_token_details': {'audio': 0, 'cache_read': 0}, 'output_token_details': {'audio': 0, 'reasoning': 0}}), ToolMessage(content='{\"content\":\"**Top Stock Market Losers on January 17, 2025:**  \\\\n1. Infosys (down 5.86%)  \\\\n2. Axis Bank (down 4.52%)  \\\\n3. Shriram Finance (down 3.71%)  \\\\n4. Kotak Mahindra Bank (down 2.60%)  \\\\n5. Mahindra & Mahindra (down 2.12%)  \\\\n\\\\n**Additional Losers in Sensex:**  \\\\n1. Infosys (down 5.77%)  \\\\n2. Axis Bank (down 4.71%)  \\\\n3. Kotak Mahindra Bank (down 2.58%)  \\\\n4. Wipro (down 2.15%)  \\\\n5. Mahindra & Mahindra (down 2.11%)  \\\\n\\\\n**Additional Losers in NSE:**  \\\\n1. Kalyan Jewellers India (down 6.99%)  \\\\n2. Infosys (down 5.86%)  \\\\n3. PB Fintech (down 4.90%)  \\\\n4. Axis Bank (down 4.52%)  \\\\n5. Vijaya Diagnostic Centre (down 4.31%).\"}', name='get_web_search_results_tool', id='045cfdeb-e86f-4fa2-a325-34ec06a7840f', tool_call_id='call_k84o77AAvBMooZxbAaNYiMcb')]\n",
      "\u001b[0m\n",
      "\u001b[36m[DEBUG] \n",
      "Web search capability result: {'messages': [HumanMessage(content='what are the top losers in the US stock market today?Answer in JSON format: {\\n                        \"content\": \"your results as a string\",\\n                        \"type\": \"text\" | \"video\" (if the results are videos)\\n                        }', additional_kwargs={}, response_metadata={}, id='4f4215d6-75d5-4474-a350-1f109f4807c2'), AIMessage(content='', additional_kwargs={'tool_calls': [{'index': 0, 'id': 'call_k84o77AAvBMooZxbAaNYiMcb', 'function': {'arguments': '{\"query\":\"top stock market losers January 17 2025\",\"estimated_number_of_searches\":5,\"is_thorough\":true}', 'name': 'get_web_search_results_tool'}, 'type': 'function'}]}, response_metadata={'finish_reason': 'tool_calls', 'model_name': 'gpt-4o-mini-2024-07-18', 'system_fingerprint': 'fp_72ed7ab54c'}, id='run-3e9eae6c-0a02-4a45-9c5a-4ec9fec90ca6-0', tool_calls=[{'name': 'get_web_search_results_tool', 'args': {'query': 'top stock market losers January 17 2025', 'estimated_number_of_searches': 5, 'is_thorough': True}, 'id': 'call_k84o77AAvBMooZxbAaNYiMcb', 'type': 'tool_call'}], usage_metadata={'input_tokens': 256, 'output_tokens': 40, 'total_tokens': 296, 'input_token_details': {'audio': 0, 'cache_read': 0}, 'output_token_details': {'audio': 0, 'reasoning': 0}}), ToolMessage(content='{\"content\":\"**Top Stock Market Losers on January 17, 2025:**  \\\\n1. Infosys (down 5.86%)  \\\\n2. Axis Bank (down 4.52%)  \\\\n3. Shriram Finance (down 3.71%)  \\\\n4. Kotak Mahindra Bank (down 2.60%)  \\\\n5. Mahindra & Mahindra (down 2.12%)  \\\\n\\\\n**Additional Losers in Sensex:**  \\\\n1. Infosys (down 5.77%)  \\\\n2. Axis Bank (down 4.71%)  \\\\n3. Kotak Mahindra Bank (down 2.58%)  \\\\n4. Wipro (down 2.15%)  \\\\n5. Mahindra & Mahindra (down 2.11%)  \\\\n\\\\n**Additional Losers in NSE:**  \\\\n1. Kalyan Jewellers India (down 6.99%)  \\\\n2. Infosys (down 5.86%)  \\\\n3. PB Fintech (down 4.90%)  \\\\n4. Axis Bank (down 4.52%)  \\\\n5. Vijaya Diagnostic Centre (down 4.31%).\"}', name='get_web_search_results_tool', id='045cfdeb-e86f-4fa2-a325-34ec06a7840f', tool_call_id='call_k84o77AAvBMooZxbAaNYiMcb'), AIMessage(content='```json\\n{\\n  \"content\": \"Top Stock Market Losers on January 17, 2025: 1. Infosys (down 5.86%) 2. Axis Bank (down 4.52%) 3. Shriram Finance (down 3.71%) 4. Kotak Mahindra Bank (down 2.60%) 5. Mahindra & Mahindra (down 2.12%) Additional Losers in Sensex: 1. Infosys (down 5.77%) 2. Axis Bank (down 4.71%) 3. Kotak Mahindra Bank (down 2.58%) 4. Wipro (down 2.15%) 5. Mahindra & Mahindra (down 2.11%) Additional Losers in NSE: 1. Kalyan Jewellers India (down 6.99%) 2. Infosys (down 5.86%) 3. PB Fintech (down 4.90%) 4. Axis Bank (down 4.52%) 5. Vijaya Diagnostic Centre (down 4.31%).\",\\n  \"type\": \"text\"\\n}\\n```', additional_kwargs={}, response_metadata={'finish_reason': 'stop', 'model_name': 'gpt-4o-mini-2024-07-18', 'system_fingerprint': 'fp_72ed7ab54c'}, id='run-a7cbb86b-6308-4863-9604-f5db2714ea73-0', usage_metadata={'input_tokens': 580, 'output_tokens': 248, 'total_tokens': 828, 'input_token_details': {'audio': 0, 'cache_read': 0}, 'output_token_details': {'audio': 0, 'reasoning': 0}})]}\n",
      "\u001b[0m\n"
     ]
    },
    {
     "data": {
      "text/plain": [
       "{'results': 'Top Stock Market Losers on January 17, 2025: 1. Infosys (down 5.86%) 2. Axis Bank (down 4.52%) 3. Shriram Finance (down 3.71%) 4. Kotak Mahindra Bank (down 2.60%) 5. Mahindra & Mahindra (down 2.12%) Additional Losers in Sensex: 1. Infosys (down 5.77%) 2. Axis Bank (down 4.71%) 3. Kotak Mahindra Bank (down 2.58%) 4. Wipro (down 2.15%) 5. Mahindra & Mahindra (down 2.11%) Additional Losers in NSE: 1. Kalyan Jewellers India (down 6.99%) 2. Infosys (down 5.86%) 3. PB Fintech (down 4.90%) 4. Axis Bank (down 4.52%) 5. Vijaya Diagnostic Centre (down 4.31%).',\n",
       " 'type': 'text'}"
      ]
     },
     "execution_count": 5,
     "metadata": {},
     "output_type": "execute_result"
    }
   ],
   "source": [
    "from agentic_search.capabilities.web import get_web_search_results\n",
    "\n",
    "res = await get_web_search_results(\"what are the top losers in the US stock market today?\")\n",
    "res"
   ]
  },
  {
   "cell_type": "code",
   "execution_count": 6,
   "metadata": {},
   "outputs": [
    {
     "name": "stdout",
     "output_type": "stream",
     "text": [
      "\u001b[36m[DEBUG] \n",
      "invoking web search agent with messages: [SystemMessage(content='You are a precise research assistant with web search capabilities. Your tasks:\\n1. Provide accurate, current information\\n2. Synthesize multi-source information concisely\\n3. Include citations and maintain objectivity\\n\\nFocus on authoritative, verifiable sources only.\\n\\nSkip web search if you are completely certain of information.\\nOtherwise, perform targeted searches as needed.\\nToday is 2025-01-17.', additional_kwargs={}, response_metadata={}), HumanMessage(content='shadow boxing tutorialAnswer in JSON format: {\\n                        \"content\": \"your results as a string\",\\n                        \"type\": \"text\" | \"video\" (if the results are videos)\\n                        }', additional_kwargs={}, response_metadata={}, id='46a23ce1-6579-49d5-bb1a-e5f6006ead27')]\n",
      "\u001b[0m\n",
      "\u001b[36m[DEBUG] \n",
      "invoking web search tool with query: shadow boxing tutorial, and 3, thorough: True\n",
      "\u001b[0m\n",
      "\u001b[36m[DEBUG] \n",
      "serp results for query shadow boxing tutorial: [{'content': 'https://www.youtube.com/watch?v=fWfsbL2ulj8', 'description': 'A complete how to shadow box / shadowboxing tutorial guide for beginners by Tony Jeffries. In this shadow boxing guide you will learn how to shadow box even you are at home. Learning Shadowboxing is very important whether you do this for boxing as sport or for fitness and workout. We will teach you how to do shadowboxing doing proper form and ...', 'duration': '34:30', 'embed_html': '<iframe width=\"1280\" height=\"720\" src=\"https://www.youtube.com/embed/fWfsbL2ulj8?autoplay=1\" frameborder=\"0\" allowfullscreen></iframe>', 'embed_url': 'https://www.youtube.com/embed/fWfsbL2ulj8?autoplay=1', 'image_token': '02b353fa1023dfa324127f41f4bd6c09600c5560ebab0e32d7a7ff27c77d09fc', 'images': {'large': 'https://tse4.mm.bing.net/th?id=OVP.6V3vBKvIqmKawLiIWxPAoQHgFo&pid=Api', 'medium': 'https://tse4.mm.bing.net/th?id=OVP.6V3vBKvIqmKawLiIWxPAoQHgFo&pid=Api', 'motion': 'https://tse4.mm.bing.net/th?id=OM.-XKxQEeMjWhwPA_1734079738&pid=Api', 'small': 'https://tse4.mm.bing.net/th?id=OVP.6V3vBKvIqmKawLiIWxPAoQHgFo&pid=Api'}, 'provider': 'Bing', 'published': '2022-01-27T16:39:02.0000000', 'publisher': 'YouTube', 'statistics': {'viewCount': 705935}, 'title': 'How to Shadow Box 101 | Complete Shadowboxing Tutorial for Beginners', 'uploader': 'Tony Jeffries'}, {'content': 'https://www.youtube.com/watch?v=J4j3AOVWuHE', 'description': \"Tony Jeffries shows a quick shadow boxing tutorial, in just 3 minutes you can learn how to shadow box at home even you're just a beginner in boxing. When shadowboxing it is very important to maintain good form and technique so you will not get into bad habits. SANABUL GLOVES - Use Code TONY10 to get 10% off https://sanabul.us/3FnfYxf Free ...\", 'duration': '3:00', 'embed_html': '<iframe width=\"1280\" height=\"720\" src=\"https://www.youtube.com/embed/J4j3AOVWuHE?autoplay=1\" frameborder=\"0\" allowfullscreen></iframe>', 'embed_url': 'https://www.youtube.com/embed/J4j3AOVWuHE?autoplay=1', 'image_token': 'd03510b725abc268c49e93086b529129662d1ffd8e60e3612534a88aa8078209', 'images': {'large': 'https://tse1.mm.bing.net/th?id=OVP.gCy7RHrpp5-hrFWlkICAmgHgFo&pid=Api', 'medium': 'https://tse1.mm.bing.net/th?id=OVP.gCy7RHrpp5-hrFWlkICAmgHgFo&pid=Api', 'motion': 'https://tse1.mm.bing.net/th?id=OM.QhvzYkebYMHiZA_1729629148&pid=Api', 'small': 'https://tse1.mm.bing.net/th?id=OVP.gCy7RHrpp5-hrFWlkICAmgHgFo&pid=Api'}, 'provider': 'Bing', 'published': '2022-01-17T15:46:26.0000000', 'publisher': 'YouTube', 'statistics': {'viewCount': 644570}, 'title': 'Quick Shadow Boxing Tutorial by Olympian', 'uploader': 'Tony Jeffries'}, {'content': 'https://www.youtube.com/watch?v=i12A6G_LiJo', 'description': \"Tony Jeffries shows how to do shadow boxing for beginners. Just about every boxer out there does shadowboxing. You can do it just about anywhere, including within the comfort of your own home. The reasons why they do it include the following. #1 it's a great extension to warm up the specific muscles you will use in that boxing session. #2 it ...\", 'duration': '3:55', 'embed_html': '<iframe width=\"1280\" height=\"720\" src=\"https://www.youtube.com/embed/i12A6G_LiJo?autoplay=1\" frameborder=\"0\" allowfullscreen></iframe>', 'embed_url': 'https://www.youtube.com/embed/i12A6G_LiJo?autoplay=1', 'image_token': 'ff513231e1cb965cb888e5e353e510107acb966409d5e21d5ebefd15d78360c6', 'images': {'large': 'https://tse4.mm.bing.net/th?id=OVP.SUb0xnWH4bbEGA1_0Fe8dAHgFo&pid=Api', 'medium': 'https://tse4.mm.bing.net/th?id=OVP.SUb0xnWH4bbEGA1_0Fe8dAHgFo&pid=Api', 'motion': 'https://tse3.mm.bing.net/th?id=OM.t1R_arvplOkxqw_1727662719&pid=Api', 'small': 'https://tse4.mm.bing.net/th?id=OVP.SUb0xnWH4bbEGA1_0Fe8dAHgFo&pid=Api'}, 'provider': 'Bing', 'published': '2020-07-20T15:04:11.0000000', 'publisher': 'YouTube', 'statistics': {'viewCount': 843016}, 'title': 'How to do Shadow Boxing for Beginners | Why Boxers Shadow Box', 'uploader': 'Tony Jeffries'}]\n",
      "\u001b[0m\n",
      "\u001b[36m[DEBUG] \n",
      "invoking web search agent with messages: [SystemMessage(content='You are a precise research assistant with web search capabilities. Your tasks:\\n1. Provide accurate, current information\\n2. Synthesize multi-source information concisely\\n3. Include citations and maintain objectivity\\n\\nFocus on authoritative, verifiable sources only.\\n\\nSkip web search if you are completely certain of information.\\nOtherwise, perform targeted searches as needed.\\nToday is 2025-01-17.', additional_kwargs={}, response_metadata={}), HumanMessage(content='shadow boxing tutorialAnswer in JSON format: {\\n                        \"content\": \"your results as a string\",\\n                        \"type\": \"text\" | \"video\" (if the results are videos)\\n                        }', additional_kwargs={}, response_metadata={}, id='46a23ce1-6579-49d5-bb1a-e5f6006ead27'), AIMessage(content='', additional_kwargs={'tool_calls': [{'index': 0, 'id': 'call_5YaMT8aGnEdZskAxaRvbMUyj', 'function': {'arguments': '{\"query\":\"shadow boxing tutorial\",\"estimated_number_of_searches\":3,\"is_thorough\":true}', 'name': 'get_web_search_results_tool'}, 'type': 'function'}]}, response_metadata={'finish_reason': 'tool_calls', 'model_name': 'gpt-4o-mini-2024-07-18', 'system_fingerprint': 'fp_72ed7ab54c'}, id='run-2d7f55f7-464a-4103-a4cd-074527c84d3c-0', tool_calls=[{'name': 'get_web_search_results_tool', 'args': {'query': 'shadow boxing tutorial', 'estimated_number_of_searches': 3, 'is_thorough': True}, 'id': 'call_5YaMT8aGnEdZskAxaRvbMUyj', 'type': 'tool_call'}], usage_metadata={'input_tokens': 247, 'output_tokens': 33, 'total_tokens': 280, 'input_token_details': {'audio': 0, 'cache_read': 0}, 'output_token_details': {'audio': 0, 'reasoning': 0}}), ToolMessage(content='{\"content\": \"https://www.youtube.com/watch?v=i12A6G_LiJo\", \"type\": \"video\"}', name='get_web_search_results_tool', id='2d71547d-1835-4fec-a0e4-602db84c8cd7', tool_call_id='call_5YaMT8aGnEdZskAxaRvbMUyj')]\n",
      "\u001b[0m\n",
      "\u001b[36m[DEBUG] \n",
      "Web search capability result: {'messages': [HumanMessage(content='shadow boxing tutorialAnswer in JSON format: {\\n                        \"content\": \"your results as a string\",\\n                        \"type\": \"text\" | \"video\" (if the results are videos)\\n                        }', additional_kwargs={}, response_metadata={}, id='46a23ce1-6579-49d5-bb1a-e5f6006ead27'), AIMessage(content='', additional_kwargs={'tool_calls': [{'index': 0, 'id': 'call_5YaMT8aGnEdZskAxaRvbMUyj', 'function': {'arguments': '{\"query\":\"shadow boxing tutorial\",\"estimated_number_of_searches\":3,\"is_thorough\":true}', 'name': 'get_web_search_results_tool'}, 'type': 'function'}]}, response_metadata={'finish_reason': 'tool_calls', 'model_name': 'gpt-4o-mini-2024-07-18', 'system_fingerprint': 'fp_72ed7ab54c'}, id='run-2d7f55f7-464a-4103-a4cd-074527c84d3c-0', tool_calls=[{'name': 'get_web_search_results_tool', 'args': {'query': 'shadow boxing tutorial', 'estimated_number_of_searches': 3, 'is_thorough': True}, 'id': 'call_5YaMT8aGnEdZskAxaRvbMUyj', 'type': 'tool_call'}], usage_metadata={'input_tokens': 247, 'output_tokens': 33, 'total_tokens': 280, 'input_token_details': {'audio': 0, 'cache_read': 0}, 'output_token_details': {'audio': 0, 'reasoning': 0}}), ToolMessage(content='{\"content\": \"https://www.youtube.com/watch?v=i12A6G_LiJo\", \"type\": \"video\"}', name='get_web_search_results_tool', id='2d71547d-1835-4fec-a0e4-602db84c8cd7', tool_call_id='call_5YaMT8aGnEdZskAxaRvbMUyj'), AIMessage(content='{\\n  \"content\": \"https://www.youtube.com/watch?v=i12A6G_LiJo\",\\n  \"type\": \"video\"\\n}', additional_kwargs={}, response_metadata={'finish_reason': 'stop', 'model_name': 'gpt-4o-mini-2024-07-18', 'system_fingerprint': 'fp_72ed7ab54c'}, id='run-7b664628-8b4f-4409-9a98-54dec36c1be5-0', usage_metadata={'input_tokens': 317, 'output_tokens': 31, 'total_tokens': 348, 'input_token_details': {'audio': 0, 'cache_read': 0}, 'output_token_details': {'audio': 0, 'reasoning': 0}})]}\n",
      "\u001b[0m\n"
     ]
    },
    {
     "data": {
      "text/plain": [
       "{'results': 'https://www.youtube.com/watch?v=i12A6G_LiJo', 'type': 'video'}"
      ]
     },
     "execution_count": 6,
     "metadata": {},
     "output_type": "execute_result"
    }
   ],
   "source": [
    "from agentic_search.capabilities.web import get_web_search_results\n",
    "\n",
    "res = await get_web_search_results(\"shadow boxing tutorial\")\n",
    "res"
   ]
  }
 ],
 "metadata": {
  "kernelspec": {
   "display_name": "venv",
   "language": "python",
   "name": "python3"
  },
  "language_info": {
   "codemirror_mode": {
    "name": "ipython",
    "version": 3
   },
   "file_extension": ".py",
   "mimetype": "text/x-python",
   "name": "python",
   "nbconvert_exporter": "python",
   "pygments_lexer": "ipython3",
   "version": "3.12.3"
  }
 },
 "nbformat": 4,
 "nbformat_minor": 2
}
