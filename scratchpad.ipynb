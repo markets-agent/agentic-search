{
 "cells": [
  {
   "cell_type": "markdown",
   "metadata": {},
   "source": [
    "# cooking the best possible web search result (in termes of relevance and speed)"
   ]
  },
  {
   "cell_type": "code",
   "execution_count": 1,
   "metadata": {},
   "outputs": [],
   "source": [
    "user_query = \"what is the latest top loser in the American stock market\""
   ]
  },
  {
   "cell_type": "markdown",
   "metadata": {},
   "source": [
    "## test functions"
   ]
  },
  {
   "cell_type": "code",
   "execution_count": null,
   "metadata": {},
   "outputs": [],
   "source": [
    "from agentic_search.functions.web import get_serp_links\n",
    "\n",
    "links = await get_serp_links(user_query)\n",
    "links\n"
   ]
  },
  {
   "cell_type": "code",
   "execution_count": 3,
   "metadata": {},
   "outputs": [],
   "source": [
    "from agentic_search.functions.web import get_webpages_soups_text\n",
    "\n",
    "res = get_webpages_soups_text([x[\"href\"] for x in links], user_query)\n",
    "res"
   ]
  },
  {
   "cell_type": "markdown",
   "metadata": {},
   "source": [
    "## test chains"
   ]
  },
  {
   "cell_type": "code",
   "execution_count": null,
   "metadata": {},
   "outputs": [],
   "source": [
    "from agentic_search.chains.web import get_web_search_queries_chain\n",
    "\n",
    "chain = get_web_search_queries_chain()\n",
    "res = chain.invoke({\"query\": user_query})\n",
    "res\n"
   ]
  },
  {
   "cell_type": "markdown",
   "metadata": {},
   "source": [
    "## test tools"
   ]
  },
  {
   "cell_type": "code",
   "execution_count": null,
   "metadata": {},
   "outputs": [],
   "source": [
    "from agentic_search.tools.web import get_agentic_web_search_results_tool\n",
    "\n",
    "res = await get_agentic_web_search_results_tool(user_query)\n",
    "# write results to file for consultation\n",
    "with open(\"scratchpad.md\", \"w\") as f:\n",
    "    f.write(res)"
   ]
  },
  {
   "cell_type": "markdown",
   "metadata": {},
   "source": [
    "## test capabilities"
   ]
  },
  {
   "cell_type": "code",
   "execution_count": 2,
   "metadata": {},
   "outputs": [
    {
     "name": "stdout",
     "output_type": "stream",
     "text": [
      "\u001b[36m[DEBUG] \n",
      "invoking web search agent with messages: [SystemMessage(content='You are a precise research assistant with web search capabilities. Your tasks:\\n1. Provide accurate, current information\\n2. Synthesize multi-source information concisely\\n3. Include citations and maintain objectivity\\n\\nFocus on authoritative, verifiable sources only.\\n\\nSkip web search if you are completely certain of information.\\nOtherwise, perform targeted searches as needed.', additional_kwargs={}, response_metadata={}), HumanMessage(content='what is the latest top loser in the American stock market', additional_kwargs={}, response_metadata={}, id='fbdee760-bec5-4922-aec0-3feabbc8c392')]\n",
      "\u001b[0m\n",
      "\u001b[36m[DEBUG] \n",
      "invoking web search tool with query: latest top loser in American stock market\n",
      "\u001b[0m\n",
      "\u001b[36m[DEBUG] \n",
      "serp results for query latest top performing stocks in American stock market: [{'title': 'Most Active US Stocks — TradingView', 'href': 'https://www.tradingview.com/markets/stocks-usa/market-movers-active/', 'body': 'All stocks Top gainers Biggest losers Large-cap Small-cap Largest employers High-dividend Highest net income Highest cash Highest profit per employee Highest revenue per employee Most active Pre-market gainers Pre-market losers Pre-market most active Pre-market gap After-hours gainers After-hours losers After-hours most active Unusual volume Most volatile High beta Best performing Highest ...'}, {'title': 'Top Gaining US Stocks — TradingView', 'href': 'https://www.tradingview.com/markets/stocks-usa/market-movers-gainers/', 'body': \"These businesses' share prices are currently soaring far above the market average in USA, towards the shining sun of all-time highs. ... All stocks Top gainers Biggest losers Large-cap Small-cap Largest employers High-dividend Highest net income Highest cash Highest profit per employee Highest revenue per employee Most active Pre-market gainers ...\"}, {'title': \"2024's 10 Best-Performing Stocks | Investing | U.S. News\", 'href': 'https://money.usnews.com/investing/articles/best-performing-stocks-of-the-year', 'body': 'Here are the 10 best-performing stocks of 2024 among companies that trade on major U.S. exchanges and have market capitalizations of at least $1 billion: Stock 2024 Return Through Nov. 29'}]\n",
      "\u001b[0m\n",
      "\u001b[36m[DEBUG] \n",
      "serp results for query worst performing stocks in S&P 500 this year: [{'title': '10 Stocks That Are the Biggest Losers of 2024 | Money', 'href': 'https://money.com/stocks-underperforming-the-market-2024/', 'body': \"The S&P 500's worst stocks in 2024. Howard Silverblatt, a senior index analyst at S&P Dow Jones Indices, provided Money with a list of stocks in the S&P 500 that have performed the worst so far in 2024. Those companies span numerous sectors, from health care to consumer staples to tech, and have done worse than merely underperforming the market.\"}, {'title': '20 Worst Performing S&P 500 Stocks in 2023 - Yahoo Finance', 'href': 'https://finance.yahoo.com/news/20-worst-performing-p-500-200036146.html', 'body': 'In this article, we discuss 20 worst performing S&P 500 stocks in 2023. If you want to skip our detailed analysis of the stock market outlook, skip over to 5 Worst Performing S&P 500 Stocks in 2023.'}, {'title': '15 Worst Performing Stocks in S&P 500 - Yahoo Finance', 'href': 'https://finance.yahoo.com/news/15-worst-performing-stocks-p-081312824.html', 'body': 'The S&P 500 Index was up nearly 6.9% year-to-date, as of February 26, […] In this article, we will take a look at the 15 worst performing stocks in S&P 500. To skip our analysis of the recent ...'}]\n",
      "\u001b[0m\n",
      "\u001b[36m[DEBUG] \n",
      "Search attempt failed: https://links.duckduckgo.com/d.js?q=American+stock+market+biggest+losers+of+the+month%2Fquarter%2Fyear&kl=wt-wt&l=wt-wt&p=&s=0&df=&vqd=4-334413604894894087892524324558318472999&bing_market=wt-WT&ex=-1 202 Ratelimit\n",
      "\u001b[0m\n",
      "\u001b[36m[DEBUG] \n",
      "serp results for query American stock market biggest losers of the month/quarter/year: []\n",
      "\u001b[0m\n",
      "\u001b[36m[DEBUG] \n",
      "Search attempt failed: https://links.duckduckgo.com/d.js?q=stocks+with+highest+percentage+loss+in+American+stock+market&kl=wt-wt&l=wt-wt&p=&s=0&df=&vqd=4-142727667676492115628332593630695400017&bing_market=wt-WT&ex=-1 202 Ratelimit\n",
      "\u001b[0m\n",
      "\u001b[36m[DEBUG] \n",
      "serp results for query stocks with highest percentage loss in American stock market: []\n",
      "\u001b[0m\n",
      "\u001b[36m[DEBUG] \n",
      "Search attempt failed: https://links.duckduckgo.com/d.js?q=top+losing+stocks+in+US+market+today%2Fyesterday%2Fthis+week&kl=wt-wt&l=wt-wt&p=&s=0&df=&vqd=4-150168097018275047983391216581749214805&bing_market=wt-WT&ex=-1 202 Ratelimit\n",
      "\u001b[0m\n",
      "\u001b[36m[DEBUG] \n",
      "serp results for query top losing stocks in US market today/yesterday/this week: []\n",
      "\u001b[0m\n",
      "\u001b[36m[DEBUG] \n",
      "serp results for query American stock market worst performers by sector (e.g. tech, finance): [{'title': \"Today's Stocks Worst Performing Sectors - Yahoo Finance\", 'href': 'https://finance.yahoo.com/watchlists/category/section-losers', 'body': \"See a list of today's stocks worst performing sectors from Yahoo Finance, with latest stock price and other details.\"}, {'title': '2024 Year to Date Best and Worst Performing Sectors ... - CSIMarket', 'href': 'https://csimarket.com/markets/markets_glance.php?days=ytd', 'body': 'Worst performing Stocks in Technology Sector; Markets at a Glance; Stocks; Cryptocurrencies; Sectors & Industries; ... 2024 Year to Date Stock Performance by Sector and Industry: Best Performing Sectors: Utilities: 36.33 %: Financial: 32.13 %: ... Oceanfirst Financial Corp stock increased 16.01% 2024 year to date.'}, {'title': \"Today's Worst Performing Stocks, Sectors, Industries Rankings - CSIMarket\", 'href': 'https://csimarket.com/screening/performance.php?days=yday&sort=asc&page=1', 'body': \"Today's Stock Market's Worst Performing Stocks, Sectors and Industries. ... American Water Works Company Inc -0.99 % : 35: Clearwater Paper Corporation-0.99 % : 36: Pitney Bowes Inc-0.98 % : 37: Seaboard Corporation ... and other exchanges. Fundamental and financial data for Stocks, Sector, Industry, and Economic Indicators provided by ...\"}]\n",
      "\u001b[0m\n",
      "\u001b[36m[DEBUG] \n",
      "serp results for query stock market news: top losers in American stock market: [{'title': 'Top Daily Losses: US stocks posting the largest losses today - Yahoo ...', 'href': 'https://finance.yahoo.com/markets/stocks/losers/', 'body': \"Yahoo Finance's list of top losing stocks, includes share price changes, trading volume, intraday highs and lows, and day charts for stocks posting the largest losses today\"}, {'title': 'Top Stock Losers Today - Yahoo Finance', 'href': 'https://finance.yahoo.com/screener/predefined/day_losers/', 'body': 'See the list of the top losing stocks today, including share price change and percentage, trading volume, intraday highs and lows, and day charts.'}, {'title': 'Biggest Stock Losers in USA — TradingView', 'href': 'https://www.tradingview.com/markets/stocks-usa/market-movers-losers/', 'body': 'Markets; News; Brokers; More; EN Get started. Markets / USA / Stocks / All stocks / Biggest losers; US stocks. Quotes. All stocks Top gainers Biggest losers Large-cap Small-cap Largest employers High-dividend Highest net income Highest cash Highest profit per employee Highest revenue per employee Most active Pre-market gainers Pre-market ...'}]\n",
      "\u001b[0m\n",
      "\u001b[36m[DEBUG] \n",
      "Search attempt failed: https://links.duckduckgo.com/d.js?q=latest+stock+market+data%3A+biggest+losers+in+American+stock+market&kl=wt-wt&l=wt-wt&p=&s=0&df=&vqd=4-147115450216608105247244070271117290833&bing_market=wt-WT&ex=-1 202 Ratelimit\n",
      "\u001b[0m\n",
      "\u001b[36m[DEBUG] \n",
      "serp results for query latest stock market data: biggest losers in American stock market: []\n",
      "\u001b[0m\n",
      "\u001b[36m[DEBUG] \n",
      "Search attempt failed: https://links.duckduckgo.com/d.js?q=American+stock+market+performance%3A+top+losing+stocks+of+the+year&kl=wt-wt&l=wt-wt&p=&s=0&df=&vqd=4-103859311271736893434932501992360473552&bing_market=wt-WT&ex=-1 202 Ratelimit\n",
      "\u001b[0m\n",
      "\u001b[36m[DEBUG] \n",
      "serp results for query American stock market performance: top losing stocks of the year: []\n",
      "\u001b[0m\n",
      "\u001b[36m[DEBUG] \n",
      "Search attempt failed: https://links.duckduckgo.com/d.js?q=stocks+with+highest+loss+percentage+in+American+stock+market+history&kl=wt-wt&l=wt-wt&p=&s=0&df=&vqd=4-284410298397660577186986050121169193613&bing_market=wt-WT&ex=-1 202 Ratelimit\n",
      "\u001b[0m\n",
      "\u001b[36m[DEBUG] \n",
      "serp results for query stocks with highest loss percentage in American stock market history: []\n",
      "\u001b[0m\n",
      "\u001b[36m[DEBUG] \n",
      "invoking web search agent with messages: [SystemMessage(content='You are a precise research assistant with web search capabilities. Your tasks:\\n1. Provide accurate, current information\\n2. Synthesize multi-source information concisely\\n3. Include citations and maintain objectivity\\n\\nFocus on authoritative, verifiable sources only.\\n\\nSkip web search if you are completely certain of information.\\nOtherwise, perform targeted searches as needed.', additional_kwargs={}, response_metadata={}), HumanMessage(content='what is the latest top loser in the American stock market', additional_kwargs={}, response_metadata={}, id='fbdee760-bec5-4922-aec0-3feabbc8c392'), AIMessage(content='', additional_kwargs={}, response_metadata={'model': 'llama3.1', 'created_at': '2024-12-08T21:33:06.277671748Z', 'done': True, 'done_reason': 'stop', 'total_duration': 954497130, 'load_duration': 9692764, 'prompt_eval_count': 281, 'prompt_eval_duration': 246000000, 'eval_count': 28, 'eval_duration': 696000000, 'message': Message(role='assistant', content='', images=None, tool_calls=[ToolCall(function=Function(name='get_agentic_web_search_results_tool', arguments={'query': 'latest top loser in American stock market'}))])}, id='run-0c2360d9-26d4-44be-bfdc-78dd882060f4-0', tool_calls=[{'name': 'get_agentic_web_search_results_tool', 'args': {'query': 'latest top loser in American stock market'}, 'id': '0eed77db-f63a-4fdc-a556-3767b76c1608', 'type': 'tool_call'}], usage_metadata={'input_tokens': 281, 'output_tokens': 28, 'total_tokens': 309}), ToolMessage(content=\"Based on the provided content, here's a markdown summary of the biggest stock losers today:\\n\\n**Biggest Stock Losers Today**\\n\\n1. **Oriental Rise Holdings Limited (ORIS)** -93.54% change, USD 27.58M market cap\\n2. **BTC Digital Ltd. (BTCD)** -32.95% change, USD 3.31M market cap\\n3. **Cyclerion Therapeutics Inc. (CYCN)** -32.33% change, USD 97.69M market cap\\n4. **zSpace, Inc. (ZSPC)** -26.58% change, USD 109.02M market cap\\n5. **PainReform Ltd. (PRFX)** -25.56% change, USD 1.98B market cap\\n6. **Unisys Corp (UIS)** -21.08% change, USD 488.31M market cap\\n7. **Smith & Wesson Brands Inc (SWBI)** -20.32% change, USD 477.87M market cap\\n8. **United Homes Group Inc (UHG)** -19.84% change, USD 236.73M market cap\\n9. **Domo Inc (DMO)** -18.07% change, USD 308.27M market cap\\n10. **PrimeEnergy Resources Corporation (PWR)** -15.29% change, USD 314.39M market cap\\n\\nThese stocks have experienced significant losses in price and may provide trade opportunities in the future. However, always conduct thorough research before making any investment decisions.\", name='get_agentic_web_search_results_tool', id='065232d9-4180-4cbe-9dab-f77f81a9f662', tool_call_id='0eed77db-f63a-4fdc-a556-3767b76c1608')]\n",
      "\u001b[0m\n",
      "\u001b[36m[DEBUG] \n",
      "Web search capability result: {'messages': [HumanMessage(content='what is the latest top loser in the American stock market', additional_kwargs={}, response_metadata={}, id='fbdee760-bec5-4922-aec0-3feabbc8c392'), AIMessage(content='', additional_kwargs={}, response_metadata={'model': 'llama3.1', 'created_at': '2024-12-08T21:33:06.277671748Z', 'done': True, 'done_reason': 'stop', 'total_duration': 954497130, 'load_duration': 9692764, 'prompt_eval_count': 281, 'prompt_eval_duration': 246000000, 'eval_count': 28, 'eval_duration': 696000000, 'message': Message(role='assistant', content='', images=None, tool_calls=[ToolCall(function=Function(name='get_agentic_web_search_results_tool', arguments={'query': 'latest top loser in American stock market'}))])}, id='run-0c2360d9-26d4-44be-bfdc-78dd882060f4-0', tool_calls=[{'name': 'get_agentic_web_search_results_tool', 'args': {'query': 'latest top loser in American stock market'}, 'id': '0eed77db-f63a-4fdc-a556-3767b76c1608', 'type': 'tool_call'}], usage_metadata={'input_tokens': 281, 'output_tokens': 28, 'total_tokens': 309}), ToolMessage(content=\"Based on the provided content, here's a markdown summary of the biggest stock losers today:\\n\\n**Biggest Stock Losers Today**\\n\\n1. **Oriental Rise Holdings Limited (ORIS)** -93.54% change, USD 27.58M market cap\\n2. **BTC Digital Ltd. (BTCD)** -32.95% change, USD 3.31M market cap\\n3. **Cyclerion Therapeutics Inc. (CYCN)** -32.33% change, USD 97.69M market cap\\n4. **zSpace, Inc. (ZSPC)** -26.58% change, USD 109.02M market cap\\n5. **PainReform Ltd. (PRFX)** -25.56% change, USD 1.98B market cap\\n6. **Unisys Corp (UIS)** -21.08% change, USD 488.31M market cap\\n7. **Smith & Wesson Brands Inc (SWBI)** -20.32% change, USD 477.87M market cap\\n8. **United Homes Group Inc (UHG)** -19.84% change, USD 236.73M market cap\\n9. **Domo Inc (DMO)** -18.07% change, USD 308.27M market cap\\n10. **PrimeEnergy Resources Corporation (PWR)** -15.29% change, USD 314.39M market cap\\n\\nThese stocks have experienced significant losses in price and may provide trade opportunities in the future. However, always conduct thorough research before making any investment decisions.\", name='get_agentic_web_search_results_tool', id='065232d9-4180-4cbe-9dab-f77f81a9f662', tool_call_id='0eed77db-f63a-4fdc-a556-3767b76c1608'), AIMessage(content=\"Based on the provided content, here's a markdown summary of the biggest stock losers today:\\n\\n**Biggest Stock Losers Today**\\n\\n1. **Oriental Rise Holdings Limited (ORIS)** -93.54% change, USD 27.58M market cap\\n2. **BTC Digital Ltd. (BTCD)** -32.95% change, USD 3.31M market cap\\n3. **Cyclerion Therapeutics Inc. (CYCN)** -32.33% change, USD 97.69M market cap\\n4. **zSpace, Inc. (ZSPC)** -26.58% change, USD 109.02M market cap\\n5. **PainReform Ltd. (PRFX)** -25.56% change, USD 1.98B market cap\\n6. **Unisys Corp (UIS)** -21.08% change, USD 488.31M market cap\\n7. **Smith & Wesson Brands Inc (SWBI)** -20.32% change, USD 477.87M market cap\\n8. **United Homes Group Inc (UHG)** -19.84% change, USD 236.73M market cap\\n9. **Domo Inc (DMO)** -18.07% change, USD 308.27M market cap\\n10. **PrimeEnergy Resources Corporation (PWR)** -15.29% change, USD 314.39M market cap\\n\\nThese stocks have experienced significant losses in price and may provide trade opportunities in the future. However, always conduct thorough research before making any investment decisions.\", additional_kwargs={}, response_metadata={'model': 'llama3.1', 'created_at': '2024-12-08T21:36:03.458895008Z', 'done': True, 'done_reason': 'stop', 'total_duration': 21177522012, 'load_duration': 13182427801, 'prompt_eval_count': 509, 'prompt_eval_duration': 236000000, 'eval_count': 335, 'eval_duration': 7366000000, 'message': Message(role='assistant', content=\"Based on the provided content, here's a markdown summary of the biggest stock losers today:\\n\\n**Biggest Stock Losers Today**\\n\\n1. **Oriental Rise Holdings Limited (ORIS)** -93.54% change, USD 27.58M market cap\\n2. **BTC Digital Ltd. (BTCD)** -32.95% change, USD 3.31M market cap\\n3. **Cyclerion Therapeutics Inc. (CYCN)** -32.33% change, USD 97.69M market cap\\n4. **zSpace, Inc. (ZSPC)** -26.58% change, USD 109.02M market cap\\n5. **PainReform Ltd. (PRFX)** -25.56% change, USD 1.98B market cap\\n6. **Unisys Corp (UIS)** -21.08% change, USD 488.31M market cap\\n7. **Smith & Wesson Brands Inc (SWBI)** -20.32% change, USD 477.87M market cap\\n8. **United Homes Group Inc (UHG)** -19.84% change, USD 236.73M market cap\\n9. **Domo Inc (DMO)** -18.07% change, USD 308.27M market cap\\n10. **PrimeEnergy Resources Corporation (PWR)** -15.29% change, USD 314.39M market cap\\n\\nThese stocks have experienced significant losses in price and may provide trade opportunities in the future. However, always conduct thorough research before making any investment decisions.\", images=None, tool_calls=None)}, id='run-8fbb5917-1483-43c0-921e-329a55b881ee-0', usage_metadata={'input_tokens': 509, 'output_tokens': 335, 'total_tokens': 844})]}\n",
      "\u001b[0m\n"
     ]
    },
    {
     "data": {
      "text/plain": [
       "\"Based on the provided content, here's a markdown summary of the biggest stock losers today:\\n\\n**Biggest Stock Losers Today**\\n\\n1. **Oriental Rise Holdings Limited (ORIS)** -93.54% change, USD 27.58M market cap\\n2. **BTC Digital Ltd. (BTCD)** -32.95% change, USD 3.31M market cap\\n3. **Cyclerion Therapeutics Inc. (CYCN)** -32.33% change, USD 97.69M market cap\\n4. **zSpace, Inc. (ZSPC)** -26.58% change, USD 109.02M market cap\\n5. **PainReform Ltd. (PRFX)** -25.56% change, USD 1.98B market cap\\n6. **Unisys Corp (UIS)** -21.08% change, USD 488.31M market cap\\n7. **Smith & Wesson Brands Inc (SWBI)** -20.32% change, USD 477.87M market cap\\n8. **United Homes Group Inc (UHG)** -19.84% change, USD 236.73M market cap\\n9. **Domo Inc (DMO)** -18.07% change, USD 308.27M market cap\\n10. **PrimeEnergy Resources Corporation (PWR)** -15.29% change, USD 314.39M market cap\\n\\nThese stocks have experienced significant losses in price and may provide trade opportunities in the future. However, always conduct thorough research before making any investment decisions.\""
      ]
     },
     "execution_count": 2,
     "metadata": {},
     "output_type": "execute_result"
    }
   ],
   "source": [
    "from agentic_search.capabilities.web import get_web_search_report\n",
    "\n",
    "res = await get_web_search_report(user_query)\n",
    "res\n"
   ]
  },
  {
   "cell_type": "code",
   "execution_count": 3,
   "metadata": {},
   "outputs": [],
   "source": [
    "# write results to file for consultation\n",
    "with open(\"scratchpad.md\", \"w\") as f:\n",
    "    f.write(res)"
   ]
  }
 ],
 "metadata": {
  "kernelspec": {
   "display_name": "venv",
   "language": "python",
   "name": "python3"
  },
  "language_info": {
   "codemirror_mode": {
    "name": "ipython",
    "version": 3
   },
   "file_extension": ".py",
   "mimetype": "text/x-python",
   "name": "python",
   "nbconvert_exporter": "python",
   "pygments_lexer": "ipython3",
   "version": "3.12.3"
  }
 },
 "nbformat": 4,
 "nbformat_minor": 2
}
