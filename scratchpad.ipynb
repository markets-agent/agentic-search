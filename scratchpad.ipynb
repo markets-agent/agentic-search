{
 "cells": [
  {
   "cell_type": "markdown",
   "metadata": {},
   "source": [
    "# cooking the best possible web search result (in termes of relevance and speed)"
   ]
  },
  {
   "cell_type": "code",
   "execution_count": 1,
   "metadata": {},
   "outputs": [],
   "source": [
    "user_query = \"what is the latest top loser in the American stock market\""
   ]
  },
  {
   "cell_type": "markdown",
   "metadata": {},
   "source": [
    "## test functions"
   ]
  },
  {
   "cell_type": "code",
   "execution_count": 2,
   "metadata": {},
   "outputs": [
    {
     "name": "stdout",
     "output_type": "stream",
     "text": [
      "\u001b[36m[DEBUG] \n",
      "Search attempt failed: https://links.duckduckgo.com/d.js?q=what+is+the+latest+top+loser+in+the+American+stock+market&kl=wt-wt&l=wt-wt&p=&s=0&df=&vqd=4-239432732350339170200444831947083665900&bing_market=wt-WT&ex=-1 202 Ratelimit\n",
      "\u001b[0m\n",
      "\u001b[36m[DEBUG] \n",
      "serp results for query what is the latest top loser in the American stock market: []\n",
      "\u001b[0m\n"
     ]
    },
    {
     "data": {
      "text/plain": [
       "[]"
      ]
     },
     "execution_count": 2,
     "metadata": {},
     "output_type": "execute_result"
    }
   ],
   "source": [
    "from agentic_search.functions.web import get_serp_links\n",
    "\n",
    "links = await get_serp_links(user_query)\n",
    "links\n"
   ]
  },
  {
   "cell_type": "code",
   "execution_count": 3,
   "metadata": {},
   "outputs": [
    {
     "data": {
      "text/plain": [
       "[]"
      ]
     },
     "execution_count": 3,
     "metadata": {},
     "output_type": "execute_result"
    }
   ],
   "source": [
    "from agentic_search.functions.web import get_webpages_soups_text_async\n",
    "\n",
    "res = await get_webpages_soups_text_async([x[\"href\"] for x in links])\n",
    "res"
   ]
  },
  {
   "cell_type": "markdown",
   "metadata": {},
   "source": [
    "## test chains"
   ]
  },
  {
   "cell_type": "code",
   "execution_count": 4,
   "metadata": {},
   "outputs": [
    {
     "data": {
      "text/plain": [
       "{'queries': ['latest top loser stock market news',\n",
       "  'worst performing stocks in US market today 2024-12-10',\n",
       "  'American stock market worst performers this week',\n",
       "  'top losing stocks in the S&P 500 index',\n",
       "  'stock market losers in the Dow Jones Industrial Average',\n",
       "  'latest stock market losses in the NASDAQ composite',\n",
       "  'what are the biggest stock losers in the US market right now',\n",
       "  'current top loser in the American stock exchange',\n",
       "  'worst performing stocks in the US market this year 2024',\n",
       "  'American stock market worst performers by sector',\n",
       "  'top losing stocks in the US market by industry']}"
      ]
     },
     "execution_count": 4,
     "metadata": {},
     "output_type": "execute_result"
    }
   ],
   "source": [
    "from agentic_search.chains.web import get_web_search_queries_chain\n",
    "\n",
    "chain = get_web_search_queries_chain()\n",
    "res = chain.invoke({\"query\": user_query})\n",
    "res\n"
   ]
  },
  {
   "cell_type": "code",
   "execution_count": 5,
   "metadata": {},
   "outputs": [
    {
     "data": {
      "text/plain": [
       "{'query': 'latest worst performing stocks in US market'}"
      ]
     },
     "execution_count": 5,
     "metadata": {},
     "output_type": "execute_result"
    }
   ],
   "source": [
    "from agentic_search.chains.web import get_web_search_query_chain\n",
    "\n",
    "chain = get_web_search_query_chain()\n",
    "res = chain.invoke({\"query\": user_query})\n",
    "res"
   ]
  },
  {
   "cell_type": "markdown",
   "metadata": {},
   "source": [
    "## test tools"
   ]
  },
  {
   "cell_type": "code",
   "execution_count": 6,
   "metadata": {},
   "outputs": [
    {
     "name": "stdout",
     "output_type": "stream",
     "text": [
      "\u001b[36m[DEBUG] \n",
      "invoking thorough web search tool with query: what is the latest top loser in the American stock market\n",
      "\u001b[0m\n",
      "\u001b[36m[DEBUG] \n",
      "Search attempt failed: https://links.duckduckgo.com/d.js?q=latest+top+loser+stock+market+news&kl=wt-wt&l=wt-wt&p=&s=0&df=&vqd=4-314836786870172176860406889934307127589&bing_market=wt-WT&ex=-1 202 Ratelimit\n",
      "\u001b[0m\n",
      "\u001b[36m[DEBUG] \n",
      "serp results for query latest top loser stock market news: []\n",
      "\u001b[0m\n",
      "\u001b[36m[DEBUG] \n",
      "serp results for query worst performing stocks in the US today 2024-12-10: [{'title': 'Top Stock Losers Today - Yahoo Finance', 'href': 'https://finance.yahoo.com/screener/predefined/day_losers/', 'body': 'See the list of the top losing stocks today, including share price change and percentage, trading volume, intraday highs and lows, and day charts.'}, {'title': \"2024's 10 Worst-Performing Stocks | Investing | U.S. News\", 'href': 'https://money.usnews.com/investing/articles/worst-performing-stocks', 'body': 'Here are the 10 worst-performing stocks of 2024 among companies that trade on major U.S. exchanges and have market capitalizations of at least $1 billion: Stock 2024 return through Aug. 15'}, {'title': '10 Stocks That Are the Biggest Losers of 2024 | Money', 'href': 'https://money.com/stocks-underperforming-the-market-2024/', 'body': \"The S&P 500's worst stocks in 2024. Howard Silverblatt, a senior index analyst at S&P Dow Jones Indices, provided Money with a list of stocks in the S&P 500 that have performed the worst so far in 2024. Those companies span numerous sectors, from health care to consumer staples to tech, and have done worse than merely underperforming the market.\"}]\n",
      "\u001b[0m\n",
      "\u001b[36m[DEBUG] \n",
      "Search attempt failed: https://duckduckgo.com/?q=American+stock+market+worst+performers+this+week 202 Ratelimit\n",
      "\u001b[0m\n",
      "\u001b[36m[DEBUG] \n",
      "serp results for query American stock market worst performers this week: []\n",
      "\u001b[0m\n",
      "\u001b[36m[DEBUG] \n",
      "Search attempt failed: https://links.duckduckgo.com/d.js?q=stock+market+biggest+losers+of+the+year+2024&kl=wt-wt&l=wt-wt&p=&s=0&df=&vqd=4-102639694922603457499215827394693293003&bing_market=wt-WT&ex=-1 202 Ratelimit\n",
      "\u001b[0m\n",
      "\u001b[36m[DEBUG] \n",
      "serp results for query stock market biggest losers of the year 2024: []\n",
      "\u001b[0m\n",
      "\u001b[36m[DEBUG] \n",
      "serp results for query S&P 500 worst stocks by percentage loss: [{'title': 'S&P 500 losers - SlickCharts', 'href': 'https://www.slickcharts.com/sp500/losers', 'body': 'The biggest losers in the S&P 500 index for today sorted by percent change. Company Symbol Price Chg % Chg; UNITEDHEALTH GROUP INC: UNH: 549.62-29.35 (-5.07%) COOPER COS INC/THE: COO: 98.70-4.53 ... S&P 500 Gainers; S&P 500 Losers; Nasdaq 100 Gainers; Nasdaq 100 Losers; Dow Jones Gainers; Dow Jones Losers; Top 20 Gainer & Losers; Prices ...'}, {'title': \"These 20 stocks have been the S&P 500's biggest losers so ... - Morningstar\", 'href': 'https://www.morningstar.com/news/marketwatch/20240629264/these-20-stocks-have-been-the-sp-500s-biggest-losers-so-far-in-2024', 'body': \"Here are this year's 20 worst performers among the S&P 500 SPX, with returns for the previous two years, to incorporate the broad decline in 2022 and recovery for the index in 2023:\"}, {'title': 'Top Stock Losers Today - Yahoo Finance', 'href': 'https://finance.yahoo.com/screener/predefined/day_losers/', 'body': 'See the list of the top losing stocks today, including share price change and percentage, trading volume, intraday highs and lows, and day charts.'}]\n",
      "\u001b[0m\n"
     ]
    }
   ],
   "source": [
    "from agentic_search.tools.web import get_agentic_thorough_web_search_results_tool\n",
    "\n",
    "res = await get_agentic_thorough_web_search_results_tool(user_query, 2)\n",
    "# write results to file for consultation\n",
    "with open(\"scratchpad.md\", \"w\") as f:\n",
    "    f.write(res)"
   ]
  },
  {
   "cell_type": "code",
   "execution_count": 7,
   "metadata": {},
   "outputs": [
    {
     "name": "stdout",
     "output_type": "stream",
     "text": [
      "\u001b[36m[DEBUG] \n",
      "invoking quickweb search tool with query: what is the latest top loser in the American stock market\n",
      "\u001b[0m\n",
      "\u001b[36m[DEBUG] \n",
      "serp results for query latest worst performing stocks in US market: [{'title': 'Top Stock Losers Today - Yahoo Finance', 'href': 'https://finance.yahoo.com/screener/predefined/day_losers/', 'body': 'See the list of the top losing stocks today, including share price change and percentage, trading volume, intraday highs and lows, and day charts.'}, {'title': 'Top Daily Losses: US stocks posting the largest losses today - Yahoo ...', 'href': 'https://finance.yahoo.com/markets/stocks/losers/', 'body': \"Yahoo Finance's list of top losing stocks, includes share price changes, trading volume, intraday highs and lows, and day charts for stocks posting the largest losses today\"}, {'title': 'Biggest Stock Losers in USA — TradingView', 'href': 'https://www.tradingview.com/markets/stocks-usa/market-movers-losers/', 'body': 'US companies below are the biggest stock losers today. They are outsiders now, but may provide trade opportunities in the future, so make sure to check all their stats. Overview Overview Performance Performance Valuation Valuation Dividends Dividends Profitability Profitability Income Statement Income Statement Balance Sheet Balance Sheet Cash ...'}]\n",
      "\u001b[0m\n"
     ]
    }
   ],
   "source": [
    "from agentic_search.tools.web import get_agentic_quick_web_search_results_tool\n",
    "\n",
    "res = await get_agentic_quick_web_search_results_tool(user_query, 6)\n",
    "# write results to file for consultation\n",
    "with open(\"scratchpad.md\", \"w\") as f:\n",
    "    f.write(res)"
   ]
  },
  {
   "cell_type": "markdown",
   "metadata": {},
   "source": [
    "## test capabilities"
   ]
  },
  {
   "cell_type": "code",
   "execution_count": 8,
   "metadata": {},
   "outputs": [
    {
     "name": "stdout",
     "output_type": "stream",
     "text": [
      "\u001b[36m[DEBUG] \n",
      "invoking web search agent with messages: [SystemMessage(content='You are a precise research assistant with web search capabilities. Your tasks:\\n1. Provide accurate, current information\\n2. Synthesize multi-source information concisely\\n3. Include citations and maintain objectivity\\n\\nFocus on authoritative, verifiable sources only.\\n\\nSkip web search if you are completely certain of information.\\nOtherwise, perform targeted searches as needed.\\nToday is 2024-12-10.', additional_kwargs={}, response_metadata={}), HumanMessage(content='what is the ticker symbol of the biggest yoghurt company in the world', additional_kwargs={}, response_metadata={}, id='47f87daf-5fc0-4205-9b33-be2daf184142')]\n",
      "\u001b[0m\n",
      "\u001b[36m[DEBUG] \n",
      "invoking quickweb search tool with query: biggest yoghurt company in the world ticker\n",
      "\u001b[0m\n",
      "\u001b[36m[DEBUG] \n",
      "Search attempt failed: https://links.duckduckgo.com/d.js?q=largest+yogurt+manufacturers+stock+symbol&kl=wt-wt&l=wt-wt&p=&s=0&df=&vqd=4-83488218932653251007627598551352789787&bing_market=wt-WT&ex=-1 202 Ratelimit\n",
      "\u001b[0m\n",
      "\u001b[36m[DEBUG] \n",
      "serp results for query largest yogurt manufacturers stock symbol: []\n",
      "\u001b[0m\n",
      "\u001b[36m[DEBUG] \n",
      "invoking web search agent with messages: [SystemMessage(content='You are a precise research assistant with web search capabilities. Your tasks:\\n1. Provide accurate, current information\\n2. Synthesize multi-source information concisely\\n3. Include citations and maintain objectivity\\n\\nFocus on authoritative, verifiable sources only.\\n\\nSkip web search if you are completely certain of information.\\nOtherwise, perform targeted searches as needed.\\nToday is 2024-12-10.', additional_kwargs={}, response_metadata={}), HumanMessage(content='what is the ticker symbol of the biggest yoghurt company in the world', additional_kwargs={}, response_metadata={}, id='47f87daf-5fc0-4205-9b33-be2daf184142'), AIMessage(content='', additional_kwargs={}, response_metadata={'model': 'llama3.1', 'created_at': '2024-12-10T00:55:36.155751049Z', 'done': True, 'done_reason': 'stop', 'total_duration': 1540330084, 'load_duration': 9924335, 'prompt_eval_count': 402, 'prompt_eval_duration': 66000000, 'eval_count': 42, 'eval_duration': 1106000000, 'message': Message(role='assistant', content='', images=None, tool_calls=[ToolCall(function=Function(name='get_agentic_quick_web_search_results_tool', arguments={'estimated_number_of_searches': '1', 'query': 'biggest yoghurt company in the world ticker'}))])}, id='run-3bbcfd66-6e52-4017-a1e7-43dd9b593d31-0', tool_calls=[{'name': 'get_agentic_quick_web_search_results_tool', 'args': {'estimated_number_of_searches': 1, 'query': 'biggest yoghurt company in the world ticker'}, 'id': '53efd0aa-79c9-41c8-81b3-77832ed832cc', 'type': 'tool_call'}], usage_metadata={'input_tokens': 402, 'output_tokens': 42, 'total_tokens': 444}), ToolMessage(content='```\\nDanone is the biggest yoghurt company in the world, ticker: BN.\\n```', name='get_agentic_quick_web_search_results_tool', id='1a012d6e-9390-45c1-8667-16bfb53b8c1e', tool_call_id='53efd0aa-79c9-41c8-81b3-77832ed832cc')]\n",
      "\u001b[0m\n",
      "\u001b[36m[DEBUG] \n",
      "Web search capability result: {'messages': [HumanMessage(content='what is the ticker symbol of the biggest yoghurt company in the world', additional_kwargs={}, response_metadata={}, id='47f87daf-5fc0-4205-9b33-be2daf184142'), AIMessage(content='', additional_kwargs={}, response_metadata={'model': 'llama3.1', 'created_at': '2024-12-10T00:55:36.155751049Z', 'done': True, 'done_reason': 'stop', 'total_duration': 1540330084, 'load_duration': 9924335, 'prompt_eval_count': 402, 'prompt_eval_duration': 66000000, 'eval_count': 42, 'eval_duration': 1106000000, 'message': Message(role='assistant', content='', images=None, tool_calls=[ToolCall(function=Function(name='get_agentic_quick_web_search_results_tool', arguments={'estimated_number_of_searches': '1', 'query': 'biggest yoghurt company in the world ticker'}))])}, id='run-3bbcfd66-6e52-4017-a1e7-43dd9b593d31-0', tool_calls=[{'name': 'get_agentic_quick_web_search_results_tool', 'args': {'estimated_number_of_searches': 1, 'query': 'biggest yoghurt company in the world ticker'}, 'id': '53efd0aa-79c9-41c8-81b3-77832ed832cc', 'type': 'tool_call'}], usage_metadata={'input_tokens': 402, 'output_tokens': 42, 'total_tokens': 444}), ToolMessage(content='```\\nDanone is the biggest yoghurt company in the world, ticker: BN.\\n```', name='get_agentic_quick_web_search_results_tool', id='1a012d6e-9390-45c1-8667-16bfb53b8c1e', tool_call_id='53efd0aa-79c9-41c8-81b3-77832ed832cc'), AIMessage(content='The tool call output indicates that Danone is the largest yogurt company globally and its ticker symbol is \"BN\".', additional_kwargs={}, response_metadata={'model': 'llama3.1', 'created_at': '2024-12-10T00:55:38.023245126Z', 'done': True, 'done_reason': 'stop', 'total_duration': 554797547, 'load_duration': 9948203, 'prompt_eval_count': 221, 'prompt_eval_duration': 13000000, 'eval_count': 23, 'eval_duration': 529000000, 'message': Message(role='assistant', content='The tool call output indicates that Danone is the largest yogurt company globally and its ticker symbol is \"BN\".', images=None, tool_calls=None)}, id='run-5c6276c2-b644-4286-95de-caed71997165-0', usage_metadata={'input_tokens': 221, 'output_tokens': 23, 'total_tokens': 244})]}\n",
      "\u001b[0m\n"
     ]
    }
   ],
   "source": [
    "from agentic_search.capabilities.web import get_web_search_results\n",
    "\n",
    "res = await get_web_search_results(\"what is the ticker symbol of the biggest yoghurt company in the world\")\n",
    "res\n",
    "# write results to file for consultation\n",
    "with open(\"scratchpad.md\", \"w\") as f:\n",
    "    f.write(res)"
   ]
  }
 ],
 "metadata": {
  "kernelspec": {
   "display_name": "venv",
   "language": "python",
   "name": "python3"
  },
  "language_info": {
   "codemirror_mode": {
    "name": "ipython",
    "version": 3
   },
   "file_extension": ".py",
   "mimetype": "text/x-python",
   "name": "python",
   "nbconvert_exporter": "python",
   "pygments_lexer": "ipython3",
   "version": "3.12.3"
  }
 },
 "nbformat": 4,
 "nbformat_minor": 2
}
