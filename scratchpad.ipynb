{
 "cells": [
  {
   "cell_type": "markdown",
   "metadata": {},
   "source": [
    "# cooking the best possible web search result (in terms of relevance and speed)"
   ]
  },
  {
   "cell_type": "code",
   "execution_count": 1,
   "metadata": {},
   "outputs": [
    {
     "data": {
      "text/plain": [
       "True"
      ]
     },
     "execution_count": 1,
     "metadata": {},
     "output_type": "execute_result"
    }
   ],
   "source": [
    "from dotenv import load_dotenv\n",
    "\n",
    "load_dotenv()"
   ]
  },
  {
   "cell_type": "markdown",
   "metadata": {},
   "source": [
    "## test graphs"
   ]
  },
  {
   "cell_type": "code",
   "execution_count": 2,
   "metadata": {},
   "outputs": [
    {
     "name": "stdout",
     "output_type": "stream",
     "text": [
      "\u001b[36m[DEBUG] \n",
      "invoking web search agent with messages: [SystemMessage(content='You are a precise research assistant equipped with a web search tool. Your tasks:\\n1. Provide accurate, current information\\n2. Synthesize multi-source information concisely\\n3. Include citations and maintain objectivity\\n\\nFocus on authoritative, verifiable sources only.\\n\\nSkip web search if you are completely certain of information and if the user query is not about a current event, live indicator, news person or topic.\\nOtherwise, perform targeted searches as needed.\\nYou will give an answer that contains your findings, whatever they are.\\nNo need to use the web search tool if you have enough information to answer the user query, even if incomplete.\\n\\nAnswer in JSON format without any preamble, formatting, or explanatory text, just a valid JSON object in this format:\\n\\n{{\\n    \"content\": \"your results as a string or the video URL if type is video\",\\n    \"metadata\": \"any additional metadata that was attached to the web search results\" | null,\\n    \"type\": \"text\" | \"video\"\\n}}\\nToday is 2025-01-19.', additional_kwargs={}, response_metadata={}), HumanMessage(content='how to cook a pizza step by step tutorial', additional_kwargs={}, response_metadata={}, id='7eba0de9-6966-4555-a125-5617c1cff483')]\n",
      "\u001b[0m\n"
     ]
    },
    {
     "data": {
      "text/plain": [
       "{'messages': [HumanMessage(content='how to cook a pizza step by step tutorial', additional_kwargs={}, response_metadata={}, id='7eba0de9-6966-4555-a125-5617c1cff483'),\n",
       "  AIMessage(content='{{\\n    \"content\": \"Here\\'s a step-by-step guide to cooking a pizza at home:\\\\n\\\\n1. **Prepare the Dough:**\\\\n   - **Ingredients:** 2 1/4 teaspoons active dry yeast, 1 1/2 cups warm water, 3 1/2 to 4 cups all-purpose flour, 2 tablespoons olive oil, 2 teaspoons salt, 1 teaspoon sugar.\\\\n   - **Instructions:**\\\\n     1. Dissolve yeast and sugar in warm water and let it sit for about 5 minutes until it becomes frothy.\\\\n     2. In a large bowl, combine flour and salt. Add the yeast mixture and olive oil.\\\\n     3. Mix until a dough forms, then knead on a floured surface for about 6-8 minutes until smooth and elastic.\\\\n     4. Place the dough in a lightly oiled bowl, cover with a damp cloth, and let it rise in a warm place for about 1-1.5 hours or until doubled in size.\\\\n\\\\n2. **Prepare the Sauce:**\\\\n   - **Ingredients:** 1 can (15 ounces) tomato sauce, 1 teaspoon dried oregano, 1 teaspoon dried basil, 1/2 teaspoon garlic powder, 1/2 teaspoon onion powder, salt and pepper to taste.\\\\n   - **Instructions:**\\\\n     1. Mix all ingredients in a bowl and adjust seasoning to taste.\\\\n\\\\n3. **Preheat the Oven:**\\\\n   - Preheat your oven to 475°F (245°C). If using a pizza stone, place it in the oven to heat up as well.\\\\n\\\\n4. **Shape the Dough:**\\\\n   - Punch down the risen dough and divide it into two equal parts for two pizzas.\\\\n   - Roll out each dough ball on a floured surface to your desired thickness.\\\\n\\\\n5. **Assemble the Pizza:**\\\\n   - Place the rolled-out dough on a pizza peel or baking sheet.\\\\n   - Spread a thin layer of sauce over the dough, leaving a small border for the crust.\\\\n   - Add your favorite toppings (e.g., mozzarella cheese, pepperoni, vegetables).\\\\n\\\\n6. **Bake the Pizza:**\\\\n   - Transfer the pizza to the preheated oven (or onto the pizza stone).\\\\n   - Bake for 10-15 minutes or until the crust is golden brown and the cheese is bubbly and slightly browned.\\\\n\\\\n7. **Serve:**\\\\n   - Remove the pizza from the oven and let it cool for a few minutes.\\\\n   - Slice and serve hot.\\\\n\\\\nEnjoy your homemade pizza!\",\\n    \"metadata\": null,\\n    \"type\": \"text\"\\n}}', additional_kwargs={}, response_metadata={'finish_reason': 'stop', 'model_name': 'gpt-4o-2024-08-06', 'system_fingerprint': 'fp_4691090a87'}, id='run-a53ef2e4-3a37-48b8-8fc9-9b6a1ef5135b-0', usage_metadata={'input_tokens': 351, 'output_tokens': 571, 'total_tokens': 922, 'input_token_details': {'audio': 0, 'cache_read': 0}, 'output_token_details': {'audio': 0, 'reasoning': 0}})]}"
      ]
     },
     "execution_count": 2,
     "metadata": {},
     "output_type": "execute_result"
    }
   ],
   "source": [
    "from langchain_core.messages import HumanMessage\n",
    "\n",
    "from agentic_search.graphs.web import get_search_the_web_react_graph\n",
    "\n",
    "res = await get_search_the_web_react_graph().ainvoke(\n",
    "    {\"messages\": [HumanMessage(content=\"how to cook a pizza step by step tutorial\")]}\n",
    ")\n",
    "res"
   ]
  },
  {
   "cell_type": "markdown",
   "metadata": {},
   "source": [
    "## test capabilities\n",
    "\n",
    "### search for current business information"
   ]
  },
  {
   "cell_type": "code",
   "execution_count": 3,
   "metadata": {},
   "outputs": [
    {
     "name": "stdout",
     "output_type": "stream",
     "text": [
      "\u001b[36m[DEBUG] \n",
      "invoking web search agent with messages: [SystemMessage(content='You are a precise research assistant equipped with a web search tool. Your tasks:\\n1. Provide accurate, current information\\n2. Synthesize multi-source information concisely\\n3. Include citations and maintain objectivity\\n\\nFocus on authoritative, verifiable sources only.\\n\\nSkip web search if you are completely certain of information and if the user query is not about a current event, live indicator, news person or topic.\\nOtherwise, perform targeted searches as needed.\\nYou will give an answer that contains your findings, whatever they are.\\nNo need to use the web search tool if you have enough information to answer the user query, even if incomplete.\\n\\nAnswer in JSON format without any preamble, formatting, or explanatory text, just a valid JSON object in this format:\\n\\n{{\\n    \"content\": \"your results as a string or the video URL if type is video\",\\n    \"metadata\": \"any additional metadata that was attached to the web search results\" | null,\\n    \"type\": \"text\" | \"video\"\\n}}\\nToday is 2025-01-19.', additional_kwargs={}, response_metadata={}), HumanMessage(content=\"what is today's Bitcoin price?\", additional_kwargs={}, response_metadata={}, id='8684c8b6-8992-4710-bad4-f6db092c8873')]\n",
      "\u001b[0m\n",
      "\u001b[36m[DEBUG] \n",
      "invoking web search tool with query: Bitcoin price January 19 2025, and 1, thorough: False\n",
      "\u001b[0m\n",
      "\u001b[36m[DEBUG] \n",
      "news results for query Bitcoin price January 19 2025: [{'date': '2025-01-14T00:42:00+00:00', 'title': 'Bitcoin Falls Below $90,000 For First Time Since November', 'body': 'Bitcoin prices suffered on Monday, January 13, dropping to less than $90,000 as multiple factors pushed the digital currency lower.', 'url': 'https://www.forbes.com/sites/digital-assets/2025/01/13/bitcoin-falls-below-90000-for-first-time-since-november/', 'image': 'https://imageio.forbes.com/specials-images/imageserve/638e984730372f722d4072b6/0x0.jpg?format=jpg&height=900&width=1600&fit=bounds', 'source': 'Forbes'}, {'date': '2025-01-13T16:29:00+00:00', 'title': 'Bitcoin Price Today: Why Has the Cryptocurrency Fallen? What We Know So Far', 'body': 'The fall comes after the cryptocurrency experienced a meteoric rise, fueled in part by the reelection of Donald Trump.', 'url': 'https://www.newsweek.com/bitcoin-price-january-2025-2014067', 'image': 'https://d.newsweek.com/en/full/2563241/bitcoin.jpg', 'source': 'Newsweek'}, {'date': '2025-01-17T16:34:00+00:00', 'title': 'Bitcoin Spikes to 2025 High Price Near $105K Ahead of Trump Inauguration', 'body': \"The price of Bitcoin climbed to its highest point in nearly a month Friday, surging past $104,000 on the eve of Donald Trump's inauguration.\", 'url': 'https://decrypt.co/301572/bitcoin-2025-high-price-near-105k-trump-inauguration', 'image': 'https://cdn.decrypt.co/resize/1024/height/512/wp-content/uploads/2024/07/trump-bitcoin-nashville-gID_7.jpg', 'source': 'decrypt'}]\n",
      "\u001b[0m\n",
      "\u001b[36m[DEBUG] \n",
      "invoking web search agent with messages: [SystemMessage(content='You are a precise research assistant equipped with a web search tool. Your tasks:\\n1. Provide accurate, current information\\n2. Synthesize multi-source information concisely\\n3. Include citations and maintain objectivity\\n\\nFocus on authoritative, verifiable sources only.\\n\\nSkip web search if you are completely certain of information and if the user query is not about a current event, live indicator, news person or topic.\\nOtherwise, perform targeted searches as needed.\\nYou will give an answer that contains your findings, whatever they are.\\nNo need to use the web search tool if you have enough information to answer the user query, even if incomplete.\\n\\nAnswer in JSON format without any preamble, formatting, or explanatory text, just a valid JSON object in this format:\\n\\n{{\\n    \"content\": \"your results as a string or the video URL if type is video\",\\n    \"metadata\": \"any additional metadata that was attached to the web search results\" | null,\\n    \"type\": \"text\" | \"video\"\\n}}\\nToday is 2025-01-19.', additional_kwargs={}, response_metadata={}), HumanMessage(content=\"what is today's Bitcoin price?\", additional_kwargs={}, response_metadata={}, id='8684c8b6-8992-4710-bad4-f6db092c8873'), AIMessage(content='', additional_kwargs={'tool_calls': [{'index': 0, 'id': 'call_KMUAvGvF5a0K5GMbj7mz3X8B', 'function': {'arguments': '{\"query\":\"Bitcoin price January 19 2025\",\"estimated_number_of_searches\":1,\"is_thorough\":false}', 'name': 'get_web_search_results_tool'}, 'type': 'function'}]}, response_metadata={'finish_reason': 'tool_calls', 'model_name': 'gpt-4o-2024-08-06', 'system_fingerprint': 'fp_4691090a87'}, id='run-3e22f6ee-5594-4038-983d-6718394ecb9e-0', tool_calls=[{'name': 'get_web_search_results_tool', 'args': {'query': 'Bitcoin price January 19 2025', 'estimated_number_of_searches': 1, 'is_thorough': False}, 'id': 'call_KMUAvGvF5a0K5GMbj7mz3X8B', 'type': 'tool_call'}], usage_metadata={'input_tokens': 348, 'output_tokens': 38, 'total_tokens': 386, 'input_token_details': {'audio': 0, 'cache_read': 0}, 'output_token_details': {'audio': 0, 'reasoning': 0}}), ToolMessage(content='{\"content\": \"2025-01-14T00:42:00+00:00\\\\n\\\\nBitcoin Falls Below $90,000 For First Time Since November\\\\n\\\\nBitcoin prices suffered on Monday, January 13, dropping to less than $90,000 as multiple factors pushed the digital currency lower.\\\\n\\\\n---\\\\n\\\\n2025-01-13T16:29:00+00:00\\\\n\\\\nBitcoin Price Today: Why Has the Cryptocurrency Fallen? What We Know So Far\\\\n\\\\nThe fall comes after the cryptocurrency experienced a meteoric rise, fueled in part by the reelection of Donald Trump.\\\\n\\\\n---\\\\n\\\\n2025-01-17T16:34:00+00:00\\\\n\\\\nBitcoin Spikes to 2025 High Price Near $105K Ahead of Trump Inauguration\\\\n\\\\nThe price of Bitcoin climbed to its highest point in nearly a month Friday, surging past $104,000 on the eve of Donald Trump\\'s inauguration.\", \"metadata\": \"\", \"type\": \"text\"}', name='get_web_search_results_tool', id='98618f08-657d-488b-b27e-5378ad2e3637', tool_call_id='call_KMUAvGvF5a0K5GMbj7mz3X8B')]\n",
      "\u001b[0m\n",
      "\u001b[36m[DEBUG] \n",
      "Web search capability result: {\"content\":\"The most recent information available indicates that Bitcoin's price was around $104,000 on January 17, 2025. However, the price can fluctuate significantly, so for the most current price, checking a financial news website or a cryptocurrency exchange would be advisable.\",\"metadata\":\"\",\"type\":\"text\"}\n",
      "\u001b[0m\n"
     ]
    },
    {
     "data": {
      "text/plain": [
       "{'results': \"The most recent information available indicates that Bitcoin's price was around $104,000 on January 17, 2025. However, the price can fluctuate significantly, so for the most current price, checking a financial news website or a cryptocurrency exchange would be advisable.\",\n",
       " 'metadata': '',\n",
       " 'type': 'text'}"
      ]
     },
     "execution_count": 3,
     "metadata": {},
     "output_type": "execute_result"
    }
   ],
   "source": [
    "from agentic_search.capabilities.web import get_web_search_results\n",
    "\n",
    "res = await get_web_search_results(\"what is today's Bitcoin price?\")\n",
    "res"
   ]
  },
  {
   "cell_type": "code",
   "execution_count": 4,
   "metadata": {},
   "outputs": [
    {
     "name": "stdout",
     "output_type": "stream",
     "text": [
      "\u001b[36m[DEBUG] \n",
      "invoking web search agent with messages: [SystemMessage(content='You are a precise research assistant equipped with a web search tool. Your tasks:\\n1. Provide accurate, current information\\n2. Synthesize multi-source information concisely\\n3. Include citations and maintain objectivity\\n\\nFocus on authoritative, verifiable sources only.\\n\\nSkip web search if you are completely certain of information and if the user query is not about a current event, live indicator, news person or topic.\\nOtherwise, perform targeted searches as needed.\\nYou will give an answer that contains your findings, whatever they are.\\nNo need to use the web search tool if you have enough information to answer the user query, even if incomplete.\\n\\nAnswer in JSON format without any preamble, formatting, or explanatory text, just a valid JSON object in this format:\\n\\n{{\\n    \"content\": \"your results as a string or the video URL if type is video\",\\n    \"metadata\": \"any additional metadata that was attached to the web search results\" | null,\\n    \"type\": \"text\" | \"video\"\\n}}\\nToday is 2025-01-19.', additional_kwargs={}, response_metadata={}), HumanMessage(content='shadow boxing demonstration from latest top boxers', additional_kwargs={}, response_metadata={}, id='1bcfb7a7-9c39-4353-b2e0-378ec11edab5')]\n",
      "\u001b[0m\n",
      "\u001b[36m[DEBUG] \n",
      "invoking web search tool with query: shadow boxing demonstration latest top boxers 2025, and 3, thorough: False\n",
      "\u001b[0m\n",
      "\u001b[36m[DEBUG] \n",
      "video results for query shadow boxing demonstration latest top boxers 2025: [{'content': 'https://www.youtube.com/watch?v=7OVWj8k2RI0', 'description': \"In this mesmerizing display of athleticism and precision, Gervonta Davis invites viewers into his training sanctuary, offering a front-row seat to his rigorous shadow boxing routine that highlights his astonishing footwork prowess. As the camera captures every move and every pivot, you'll witness Davis' graceful yet explosive movements that ...\", 'duration': '3:09', 'embed_html': '<iframe width=\"1280\" height=\"720\" src=\"https://www.youtube.com/embed/7OVWj8k2RI0?autoplay=1\" frameborder=\"0\" allowfullscreen></iframe>', 'embed_url': 'https://www.youtube.com/embed/7OVWj8k2RI0?autoplay=1', 'image_token': '56a762718126fe8b30ceb9be9266088e87403918e9947167a659d8239cf54a9d', 'images': {'large': 'https://tse4.mm.bing.net/th?id=OVP.104TnalSzB_FzfAF4vwIRAHgFo&pid=Api', 'medium': 'https://tse4.mm.bing.net/th?id=OVP.104TnalSzB_FzfAF4vwIRAHgFo&pid=Api', 'motion': 'https://tse1.mm.bing.net/th?id=OM.wLTx5oWf7Y3aQw_1734639712&pid=Api', 'small': 'https://tse4.mm.bing.net/th?id=OVP.104TnalSzB_FzfAF4vwIRAHgFo&pid=Api'}, 'provider': 'Bing', 'published': '2023-08-21T13:37:37.0000000', 'publisher': 'YouTube', 'statistics': {'viewCount': 850453}, 'title': 'Gervonta Davis - Shadow Boxing Training | Footwork', 'uploader': 'Boxing Highlights C4TV'}, {'content': 'https://www.youtube.com/watch?v=tklojUuOoZM', 'description': \"Vasyl Lomachenko's FULL shadow boxing workout - Lomachenko vs. Marriaga video In this Vasyl Lomachenko vs. Miguel Marriaga video, Vasyl Lomachenko's full shadow boxing routine ahead of his Lomachenko vs. Marriaga fight Twitter/Instagram: @fighthubtv @heyitsmarcosv For more Boxing and MMA videos log onto http://www.fighthubtv.com Like us: http ...\", 'duration': '7:11', 'embed_html': '<iframe width=\"1280\" height=\"720\" src=\"https://www.youtube.com/embed/tklojUuOoZM?autoplay=1\" frameborder=\"0\" allowfullscreen></iframe>', 'embed_url': 'https://www.youtube.com/embed/tklojUuOoZM?autoplay=1', 'image_token': '8fe472d9e212db1f90c46b6c8235ec297f25f741165b94809cc11adfbd424631', 'images': {'large': 'https://tse4.mm.bing.net/th?id=OVP.-MZbWpSZnNRMO9P2fjpRFgEsDh&pid=Api', 'medium': 'https://tse4.mm.bing.net/th?id=OVP.-MZbWpSZnNRMO9P2fjpRFgEsDh&pid=Api', 'motion': 'https://tse1.mm.bing.net/th?id=OM1.Rh0AV4vJ_aY8cA_1684182149&pid=Api', 'small': 'https://tse4.mm.bing.net/th?id=OVP.-MZbWpSZnNRMO9P2fjpRFgEsDh&pid=Api'}, 'provider': 'Bing', 'published': '2017-08-03T00:45:17.0000000', 'publisher': 'YouTube', 'statistics': {'viewCount': 717678}, 'title': \"Vasyl Lomachenko's FULL shadow boxing workout - Lomachenko vs. Marriaga video\", 'uploader': 'Fight Hub TV'}, {'content': 'https://www.youtube.com/watch?v=6Nx5-z2zJSk', 'description': 'Subscribe for more! The order of appearance: Amir Khan, Danny Garcia, Mike Tyson, Sergey Kovalev, Manny Pacquiao, Andre Ward, Gennady Golovkin, Timothy Bradley, Errol Spence, Floyd Mayweather, Mikey Garcia, Canelo Alvarez, Keith Thurman Outro music: Electro-Light - Symbolism [NCS Release] https://www.youtube.com/watch?v=__CRWE-L45k Electro ...', 'duration': '12:08', 'embed_html': '<iframe width=\"1280\" height=\"720\" src=\"https://www.youtube.com/embed/6Nx5-z2zJSk?autoplay=1\" frameborder=\"0\" allowfullscreen></iframe>', 'embed_url': 'https://www.youtube.com/embed/6Nx5-z2zJSk?autoplay=1', 'image_token': '5aed479696c81d087993346dd51357145d946365bb7d4b2ad430dca467f5c94e', 'images': {'large': 'https://tse4.mm.bing.net/th?id=OVP.qIXEwsUWM6tAF2sDRZQDtAHgFo&pid=Api', 'medium': 'https://tse4.mm.bing.net/th?id=OVP.qIXEwsUWM6tAF2sDRZQDtAHgFo&pid=Api', 'motion': 'https://tse3.mm.bing.net/th?id=OM.mRNHfVuwgGxGbw_1732078619&pid=Api', 'small': 'https://tse4.mm.bing.net/th?id=OVP.qIXEwsUWM6tAF2sDRZQDtAHgFo&pid=Api'}, 'provider': 'Bing', 'published': '2017-07-15T00:46:48.0000000', 'publisher': 'YouTube', 'statistics': {'viewCount': 185937}, 'title': 'Best Fighters Shadow Boxing (PART 1)', 'uploader': 'BOXING LIFE'}]\n",
      "\u001b[0m\n",
      "\u001b[36m[DEBUG] \n",
      "invoking web search agent with messages: [SystemMessage(content='You are a precise research assistant equipped with a web search tool. Your tasks:\\n1. Provide accurate, current information\\n2. Synthesize multi-source information concisely\\n3. Include citations and maintain objectivity\\n\\nFocus on authoritative, verifiable sources only.\\n\\nSkip web search if you are completely certain of information and if the user query is not about a current event, live indicator, news person or topic.\\nOtherwise, perform targeted searches as needed.\\nYou will give an answer that contains your findings, whatever they are.\\nNo need to use the web search tool if you have enough information to answer the user query, even if incomplete.\\n\\nAnswer in JSON format without any preamble, formatting, or explanatory text, just a valid JSON object in this format:\\n\\n{{\\n    \"content\": \"your results as a string or the video URL if type is video\",\\n    \"metadata\": \"any additional metadata that was attached to the web search results\" | null,\\n    \"type\": \"text\" | \"video\"\\n}}\\nToday is 2025-01-19.', additional_kwargs={}, response_metadata={}), HumanMessage(content='shadow boxing demonstration from latest top boxers', additional_kwargs={}, response_metadata={}, id='1bcfb7a7-9c39-4353-b2e0-378ec11edab5'), AIMessage(content='', additional_kwargs={'tool_calls': [{'index': 0, 'id': 'call_cJLQG4lh9gYxQD2wrBbTC2qj', 'function': {'arguments': '{\"query\":\"shadow boxing demonstration latest top boxers 2025\",\"estimated_number_of_searches\":3,\"is_thorough\":false}', 'name': 'get_web_search_results_tool'}, 'type': 'function'}]}, response_metadata={'finish_reason': 'tool_calls', 'model_name': 'gpt-4o-2024-08-06', 'system_fingerprint': 'fp_4691090a87'}, id='run-69d49567-e93a-4c17-993a-d33d6bd600a6-0', tool_calls=[{'name': 'get_web_search_results_tool', 'args': {'query': 'shadow boxing demonstration latest top boxers 2025', 'estimated_number_of_searches': 3, 'is_thorough': False}, 'id': 'call_cJLQG4lh9gYxQD2wrBbTC2qj', 'type': 'tool_call'}], usage_metadata={'input_tokens': 350, 'output_tokens': 40, 'total_tokens': 390, 'input_token_details': {'audio': 0, 'cache_read': 0}, 'output_token_details': {'audio': 0, 'reasoning': 0}}), ToolMessage(content='{\"content\": \"https://www.youtube.com/watch?v=7OVWj8k2RI0\", \"metadata\": \"Gervonta Davis - Shadow Boxing Training | Footwork\", \"type\": \"video\"}', name='get_web_search_results_tool', id='ff1504f7-a177-43ae-99a6-fcfbe201eb5d', tool_call_id='call_cJLQG4lh9gYxQD2wrBbTC2qj')]\n",
      "\u001b[0m\n",
      "\u001b[36m[DEBUG] \n",
      "Web search capability result: {\"content\":\"https://www.youtube.com/watch?v=7OVWj8k2RI0\",\"metadata\":\"Gervonta Davis - Shadow Boxing Training | Footwork\",\"type\":\"video\"}\n",
      "\u001b[0m\n"
     ]
    },
    {
     "data": {
      "text/plain": [
       "{'results': 'https://www.youtube.com/watch?v=7OVWj8k2RI0',\n",
       " 'metadata': 'Gervonta Davis - Shadow Boxing Training | Footwork',\n",
       " 'type': 'video'}"
      ]
     },
     "execution_count": 4,
     "metadata": {},
     "output_type": "execute_result"
    }
   ],
   "source": [
    "from agentic_search.capabilities.web import get_web_search_results\n",
    "\n",
    "res = await get_web_search_results(\"shadow boxing demonstration from latest top boxers\")\n",
    "res"
   ]
  }
 ],
 "metadata": {
  "kernelspec": {
   "display_name": "venv",
   "language": "python",
   "name": "python3"
  },
  "language_info": {
   "codemirror_mode": {
    "name": "ipython",
    "version": 3
   },
   "file_extension": ".py",
   "mimetype": "text/x-python",
   "name": "python",
   "nbconvert_exporter": "python",
   "pygments_lexer": "ipython3",
   "version": "3.12.3"
  }
 },
 "nbformat": 4,
 "nbformat_minor": 2
}
