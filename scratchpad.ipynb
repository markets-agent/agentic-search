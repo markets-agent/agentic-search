{
 "cells": [
  {
   "cell_type": "markdown",
   "metadata": {},
   "source": [
    "# cooking the best possible web search result (in termes of relevance and speed)"
   ]
  },
  {
   "cell_type": "code",
   "execution_count": 1,
   "metadata": {},
   "outputs": [
    {
     "data": {
      "text/plain": [
       "True"
      ]
     },
     "execution_count": 1,
     "metadata": {},
     "output_type": "execute_result"
    }
   ],
   "source": [
    "from dotenv import load_dotenv\n",
    "\n",
    "load_dotenv()"
   ]
  },
  {
   "cell_type": "markdown",
   "metadata": {},
   "source": [
    "## test lib"
   ]
  },
  {
   "cell_type": "code",
   "execution_count": 2,
   "metadata": {},
   "outputs": [
    {
     "data": {
      "text/plain": [
       "AIMessage(content='To solve this puzzle, we need to determine which four statements are true and which four are false, while also identifying who took the missing book.\\n\\nLet\\'s analyze the statements:\\n\\n1. **Alice\\'s Statements:**\\n   - 1A. \"I didn’t take the book.\"\\n   - 1B. \"Bob took it.\"\\n\\n2. **Bob\\'s Statements:**\\n   - 2A. \"Charlie is lying when he says he didn’t take the book.\"\\n   - 2B. \"Diane didn’t take the book.\"\\n\\n3. **Charlie\\'s Statements:**\\n   - 3A. \"I didn’t take the book.\"\\n   - 3B. \"One of the two statements made by Diane is true.\"\\n\\n4. **Diane\\'s Statements:**\\n   - 4A. \"Alice is lying about Bob taking the book.\"\\n   - 4B. \"Charlie must have taken the book.\"\\n\\nLet\\'s consider the possibilities:\\n\\n- If **Alice** took the book, then 1A is false. This would make 1B true, 4A true, and 2B false. However, this would not satisfy the condition of exactly four true statements.\\n\\n- If **Bob** took the book, then 1B is true, 2A is false, 2B is false, and 4A is false. This would make 1A true, 3A true, and 3B true. This satisfies the condition of exactly four true statements: 1A, 1B, 3A, and 3B.\\n\\n- If **Charlie** took the book, then 3A is false. This would make 2A true, 4B true, and 3B true. However, this would not satisfy the condition of exactly four true statements.\\n\\n- If **Diane** took the book, then 2B is false. This would make 4A false, 4B false, and 3B false. This would not satisfy the condition of exactly four true statements.\\n\\nBased on the analysis, the only scenario that satisfies the condition of exactly four true statements is if **Bob** took the book. The true statements are 1A, 1B, 3A, and 3B.\\n\\nTherefore, Bob took the missing book, and the true statements are:\\n- 1A. \"I didn’t take the book.\" (True)\\n- 1B. \"Bob took it.\" (True)\\n- 3A. \"I didn’t take the book.\" (True)\\n- 3B. \"One of the two statements made by Diane is true.\" (True)', additional_kwargs={}, response_metadata={'finish_reason': 'stop', 'model_name': 'gpt-4o-2024-08-06', 'system_fingerprint': 'fp_f785eb5f47'}, id='run-f68260a2-0e2c-489a-bedc-81b3e44e194c-0', usage_metadata={'input_tokens': 264, 'output_tokens': 547, 'total_tokens': 811, 'input_token_details': {'audio': 0, 'cache_read': 0}, 'output_token_details': {'audio': 0, 'reasoning': 0}})"
      ]
     },
     "execution_count": 2,
     "metadata": {},
     "output_type": "execute_result"
    }
   ],
   "source": [
    "from agentic_search.lib import get_llm\n",
    "\n",
    "llm = get_llm(\"reasoning\", False, \"openai\")\n",
    "res = llm.invoke(\"\"\"Reasoning Puzzle: “Who Took the Missing Book?”\n",
    "\n",
    "Four friends—Alice, Bob, Charlie, and Diane—are having a heated discussion about a missing book. Each person makes two statements. You know that exactly four of the total eight statements are true, and the other four are false. Based on their statements, figure out who actually took the book and which statements are true.\n",
    "\n",
    "The Statements\n",
    "Alice\n",
    "1A. “I didn’t take the book.”\n",
    "1B. “Bob took it.”\n",
    "\n",
    "Bob\n",
    "2A. “Charlie is lying when he says he didn’t take the book.”\n",
    "2B. “Diane didn’t take the book.”\n",
    "\n",
    "Charlie\n",
    "3A. “I didn’t take the book.”\n",
    "3B. “One of the two statements made by Diane is true.”\n",
    "\n",
    "Diane\n",
    "4A. “Alice is lying about Bob taking the book.”\n",
    "4B. “Charlie must have taken the book.”\n",
    "\n",
    "Your Task\n",
    "Determine which friend actually took the missing book.\n",
    "For each statement (1A, 1B, 2A, 2B, 3A, 3B, 4A, 4B), decide whether it is true or false, making sure to satisfy the condition that exactly four statements in total are true.\"\"\")\n",
    "res"
   ]
  },
  {
   "cell_type": "markdown",
   "metadata": {},
   "source": [
    "## test functions"
   ]
  },
  {
   "cell_type": "code",
   "execution_count": 3,
   "metadata": {},
   "outputs": [],
   "source": [
    "user_query = \"what is the latest top loser in the American stock market\""
   ]
  },
  {
   "cell_type": "code",
   "execution_count": 4,
   "metadata": {},
   "outputs": [
    {
     "name": "stdout",
     "output_type": "stream",
     "text": [
      "\u001b[36m[DEBUG] \n",
      "serp results for query what is the latest top loser in the American stock market: [{'title': 'United States Stock Market Top Losers - Investing.com', 'href': 'https://www.investing.com/equities/top-stock-losers', 'body': 'Top Losers - United States Stocks ; Traws Pharma. 15:59:59 |TRAW. 8.420. -37.26 ; Color Star Technology Co. 15:59:59 |ADD. 2.0400. -13.19 ; Linkers Industries. 15:\\xa0...'}, {'title': 'US stocks posting the largest losses today - Yahoo Finance', 'href': 'https://finance.yahoo.com/markets/stocks/losers/', 'body': \"Yahoo Finance's list of top losing stocks, includes share price changes, trading volume, intraday highs and lows, and day charts for stocks posting the\\xa0...\"}, {'title': 'US Stock Market Top Losers Today, Losing Stocks', 'href': 'https://www.moneycontrol.com/us-markets/market-movers/top-losers', 'body': 'Top Losers US Stocks: Find the top losing U.S stocks today - including Dow Jones, NASDAQ, S&P 500 Stocks performance, technical chart & more.'}]\n",
      "\u001b[0m\n"
     ]
    },
    {
     "data": {
      "text/plain": [
       "[{'title': 'United States Stock Market Top Losers - Investing.com',\n",
       "  'href': 'https://www.investing.com/equities/top-stock-losers',\n",
       "  'body': 'Top Losers - United States Stocks ; Traws Pharma. 15:59:59 |TRAW. 8.420. -37.26 ; Color Star Technology Co. 15:59:59 |ADD. 2.0400. -13.19 ; Linkers Industries. 15:\\xa0...'},\n",
       " {'title': 'US stocks posting the largest losses today - Yahoo Finance',\n",
       "  'href': 'https://finance.yahoo.com/markets/stocks/losers/',\n",
       "  'body': \"Yahoo Finance's list of top losing stocks, includes share price changes, trading volume, intraday highs and lows, and day charts for stocks posting the\\xa0...\"},\n",
       " {'title': 'US Stock Market Top Losers Today, Losing Stocks',\n",
       "  'href': 'https://www.moneycontrol.com/us-markets/market-movers/top-losers',\n",
       "  'body': 'Top Losers US Stocks: Find the top losing U.S stocks today - including Dow Jones, NASDAQ, S&P 500 Stocks performance, technical chart & more.'}]"
      ]
     },
     "execution_count": 4,
     "metadata": {},
     "output_type": "execute_result"
    }
   ],
   "source": [
    "from agentic_search.functions.web import get_serp_links\n",
    "\n",
    "links = await get_serp_links(user_query)\n",
    "links\n"
   ]
  },
  {
   "cell_type": "code",
   "execution_count": 5,
   "metadata": {},
   "outputs": [
    {
     "data": {
      "text/plain": [
       "['Just a moment... www.investing.com Verifying you are human. This may take a few seconds. www.investing.com needs to review the security of your connection before proceeding. Verification successful Waiting for www.investing.com to respond... Enable JavaScript and cookies to continue Ray ID: 8fabeb2f1f213a72 Performance & security by Cloudflare\\n\\nSOURCE: https://www.investing.com/equities/top-stock-losers\\n\\n',\n",
       " 'Yahooist Teil der Yahoo Markenfamilie guce guce Yahoo ist Teil der Yahoo Markenfamilie Die Websites und Apps, die wir betreiben und verwalten, einschließlich Yahoo und AOL, sowie unser digitaler Werbedienst Yahoo Advertising. Yahoo Markenfamilie. Bei der Nutzung unserer Websites und Apps verwenden wir Cookies Mithilfe von Cookies (einschließlich ähnlicher Technologien wie der Webspeicherung) können die Betreiber von Websites und Apps Informationen auf Ihrem Gerät speichern und ablesen. Weitere Informationen finden Sie in unserer Cookie-Richtlinie . Cookies , um: unsere Websites und Apps für Sie bereitzustellen Nutzer zu authentifizieren, Sicherheitsmaßnahmen anzuwenden und Spam und Missbrauch zu verhindern, und Ihre Nutzung unserer Websites und Apps zu messen Wenn Sie auf „ Alle akzeptieren “ klicken, speichern wir und unsere Partner , einschließlich der 238 Partner, die dem IAB Transparency & Consent Framework angehören, Informationen auf einem Gerät (d.\\xa0h. wir verwenden Cookies) und können auf diese zugreifen. Wir verwenden genaue Standortdaten und andere personenbezogene Daten wie IP-Adressen, Browsing- und Suchdaten für personalisierte Werbung und Inhalte, zur Messung von Werbung und Inhalten, zur Zielgruppenforschung und zur Weiterentwicklung von Diensten. Klicken Sie auf „ Alle ablehnen “, wenn Sie nicht möchten, dass wir und unsere Partner Cookies und personenbezogene Daten für diese zusätzlichen Zwecke verwenden. Wenn Sie Ihre Auswahl anpassen möchten, klicken Sie auf „ Datenschutzeinstellungen verwalten “. Sie können Ihre Einstellungen jederzeit ändern, indem Sie auf unseren Websites und Apps auf den Link „Datenschutz- und Cookie-Einstellungen“ oder „Datenschutz-Dashboard“ klicken. Weitere Informationen darüber, wie wir Ihre personenbezogenen Daten nutzen, finden Sie in unserer Datenschutzerklärung und unserer Cookie-Richtlinie . Alle akzeptieren Alle ablehnen Datenschutzeinstellungen verwalten Zum Ende\\n\\nSOURCE: https://finance.yahoo.com/markets/stocks/losers/\\n\\n',\n",
       " 'Login Consent - Moneycontrol\\n\\nSOURCE: https://www.moneycontrol.com/us-markets/market-movers/top-losers\\n\\n']"
      ]
     },
     "execution_count": 5,
     "metadata": {},
     "output_type": "execute_result"
    }
   ],
   "source": [
    "from agentic_search.functions.web import get_webpages_soups_text_async\n",
    "\n",
    "res = await get_webpages_soups_text_async([x[\"href\"] for x in links])\n",
    "res"
   ]
  },
  {
   "cell_type": "markdown",
   "metadata": {},
   "source": [
    "## test chains"
   ]
  },
  {
   "cell_type": "code",
   "execution_count": 6,
   "metadata": {},
   "outputs": [
    {
     "data": {
      "text/plain": [
       "{'queries': ['latest top loser in American stock market December 2024',\n",
       "  'current biggest stock market losers USA',\n",
       "  'top stock market losers today',\n",
       "  'American stock market biggest declines December 31 2024',\n",
       "  'latest stock market news top losers',\n",
       "  'how to find top losers in stock market',\n",
       "  'daily stock market losers report',\n",
       "  'top 10 stock market losers December 2024',\n",
       "  'financial news top stock losers',\n",
       "  'stock market performance December 31 2024']}"
      ]
     },
     "execution_count": 6,
     "metadata": {},
     "output_type": "execute_result"
    }
   ],
   "source": [
    "from agentic_search.chains.web import get_web_search_queries_chain\n",
    "\n",
    "chain = get_web_search_queries_chain()\n",
    "res = chain.invoke({\"query\": user_query})\n",
    "res\n"
   ]
  },
  {
   "cell_type": "code",
   "execution_count": 7,
   "metadata": {},
   "outputs": [
    {
     "data": {
      "text/plain": [
       "{'query': 'latest top loser American stock market December 2024'}"
      ]
     },
     "execution_count": 7,
     "metadata": {},
     "output_type": "execute_result"
    }
   ],
   "source": [
    "from agentic_search.chains.web import get_web_search_query_chain\n",
    "\n",
    "chain = get_web_search_query_chain()\n",
    "res = chain.invoke({\"query\": user_query})\n",
    "res"
   ]
  },
  {
   "cell_type": "markdown",
   "metadata": {},
   "source": [
    "## test tools"
   ]
  },
  {
   "cell_type": "code",
   "execution_count": 8,
   "metadata": {},
   "outputs": [
    {
     "name": "stdout",
     "output_type": "stream",
     "text": [
      "\u001b[36m[DEBUG] \n",
      "invoking thorough web search tool with query: what is the latest top loser in the American stock market\n",
      "\u001b[0m\n",
      "\u001b[36m[DEBUG] \n",
      "serp results for query latest top loser in American stock market December 2024: [{'title': 'How major US stock indexes fared Monday, 12/30/2024', 'href': 'https://finance.yahoo.com/news/major-us-stock-indexes-fared-212619657.html', 'body': 'vor 20 Stunden ... The S&P 500 closed 1.1% lower Monday. On the second-to-last day of 2024, the benchmark index is still on track for its second straight yearly\\xa0...'}, {'title': 'S&P 500 on Pace for Worst Month Since April - Investopedia', 'href': 'https://www.investopedia.com/dow-jones-today-12302024-8767396', 'body': 'vor 19 Stunden ... Biggest S&P 500 Movers on Monday · Nasdaq Hanging on to Gains for December · AI Made These Stocks the Market Darlings of 2024 · MicroStrategy Buys\\xa0...'}, {'title': 'Dow closes down 400 points as Wall Street limps into year-end', 'href': 'https://www.cnbc.com/2024/12/29/stock-futures-today-live-updates.html', 'body': 'vor 1 Tag ... Stock market information displayed at the Nasdaq MarketSite in New York, US, on Monday, Aug. 5, 2024. Michael Nagle | Bloomberg | Getty Images.'}]\n",
      "\u001b[0m\n"
     ]
    }
   ],
   "source": [
    "from agentic_search.tools.web import get_agentic_thorough_web_search_results_tool\n",
    "\n",
    "res = await get_agentic_thorough_web_search_results_tool(user_query, 2)\n",
    "# write results to file for consultation\n",
    "with open(\"scratchpad.md\", \"w\") as f:\n",
    "    f.write(res)"
   ]
  },
  {
   "cell_type": "code",
   "execution_count": 9,
   "metadata": {},
   "outputs": [
    {
     "name": "stdout",
     "output_type": "stream",
     "text": [
      "\u001b[36m[DEBUG] \n",
      "invoking quickweb search tool with query: what is the latest top loser in the American stock market\n",
      "\u001b[0m\n",
      "\u001b[36m[DEBUG] \n",
      "serp results for query latest top loser American stock market December 2024: [{'title': 'The Stock-Market Winners and Losers of 2024 - WSJ', 'href': 'https://www.wsj.com/livecoverage/stock-market-today-dow-sp500-nasdaq-live-12-31-2024/card/the-stock-market-winners-and-losers-of-2024-uWpDV6DQxHehJvzEPFu7', 'body': \"vor 9 Stunden ... In the U.S., data-analytics company Palantir reigned supreme among S&P 500 members with a gain of nearly 350% through Monday's close. On the\\xa0...\"}, {'title': 'S&P 500 on Pace for Worst Month Since April - Investopedia', 'href': 'https://www.investopedia.com/dow-jones-today-12302024-8767396', 'body': 'vor 19 Stunden ... Biggest S&P 500 Movers on Monday · Nasdaq Hanging on to Gains for December · AI Made These Stocks the Market Darlings of 2024 · MicroStrategy Buys\\xa0...'}, {'title': 'Dow Jones Stocks: Amazon, Apple, Nvidia Suffer Heavy Losses', 'href': 'https://www.investors.com/research/dow-jones-stocks-december-2024/', 'body': 'vor 4 Tagen ... There are clear winners — and losers — at the start of December. The top three performing blue chip stocks in 2024 through December 4 were\\xa0...'}]\n",
      "\u001b[0m\n"
     ]
    }
   ],
   "source": [
    "from agentic_search.tools.web import get_agentic_quick_web_search_results_tool\n",
    "\n",
    "res = await get_agentic_quick_web_search_results_tool(user_query, 6)\n",
    "# write results to file for consultation\n",
    "with open(\"scratchpad.md\", \"w\") as f:\n",
    "    f.write(res)"
   ]
  },
  {
   "cell_type": "markdown",
   "metadata": {},
   "source": [
    "## test capabilities"
   ]
  },
  {
   "cell_type": "code",
   "execution_count": 10,
   "metadata": {},
   "outputs": [
    {
     "name": "stdout",
     "output_type": "stream",
     "text": [
      "\u001b[36m[DEBUG] \n",
      "invoking web search agent with messages: [SystemMessage(content='You are a precise research assistant with web search capabilities. Your tasks:\\n1. Provide accurate, current information\\n2. Synthesize multi-source information concisely\\n3. Include citations and maintain objectivity\\n\\nFocus on authoritative, verifiable sources only.\\n\\nSkip web search if you are completely certain of information.\\nOtherwise, perform targeted searches as needed.\\nToday is 2024-12-31.', additional_kwargs={}, response_metadata={}), HumanMessage(content='what is the ticker symbol of the biggest yoghurt company in the worldAnswer in JSON format: {\"content\": \"your results\"}', additional_kwargs={}, response_metadata={}, id='52414df0-41f8-4483-8745-c4db040fe236')]\n",
      "\u001b[0m\n",
      "\u001b[36m[DEBUG] \n",
      "invoking quickweb search tool with query: biggest yoghurt company in the world ticker symbol\n",
      "\u001b[0m\n",
      "\u001b[36m[DEBUG] \n",
      "serp results for query largest yogurt company in the world stock ticker symbol: [{'title': '15 Biggest Yogurt Companies in the World - Yahoo Finance', 'href': 'https://finance.yahoo.com/news/15-biggest-yogurt-companies-world-082724518.html', 'body': '11.02.2021 ... The key drivers for the growth of the yogurt market are the availability of different exotic flavors such as matcha and blueberry, the\\xa0...'}, {'title': 'Chobani Inc. (CHO) Stock Price, Quote & News', 'href': 'https://stockanalysis.com/stocks/cho/', 'body': 'About CHO ; Industry Food & Staples Retailing ; Founded 2005 ; Employees 2,200 ; Stock Exchange NASDAQ ; Ticker Symbol CHO.'}, {'title': 'Chobani - Wikipedia', 'href': 'https://en.wikipedia.org/wiki/Chobani', 'body': \"Chobani's yogurt's market share in the U.S. rose from less than 1% in 2007 to more than 20% in 2021, and is the top-selling Greek yogurt brand in the United\\xa0...\"}]\n",
      "\u001b[0m\n",
      "\u001b[36m[DEBUG] \n",
      "invoking web search agent with messages: [SystemMessage(content='You are a precise research assistant with web search capabilities. Your tasks:\\n1. Provide accurate, current information\\n2. Synthesize multi-source information concisely\\n3. Include citations and maintain objectivity\\n\\nFocus on authoritative, verifiable sources only.\\n\\nSkip web search if you are completely certain of information.\\nOtherwise, perform targeted searches as needed.\\nToday is 2024-12-31.', additional_kwargs={}, response_metadata={}), HumanMessage(content='what is the ticker symbol of the biggest yoghurt company in the worldAnswer in JSON format: {\"content\": \"your results\"}', additional_kwargs={}, response_metadata={}, id='52414df0-41f8-4483-8745-c4db040fe236'), AIMessage(content='', additional_kwargs={'tool_calls': [{'index': 0, 'id': 'call_x21tkL7MvWihhB4OznT9VM4t', 'function': {'arguments': '{\"query\":\"biggest yoghurt company in the world ticker symbol\",\"estimated_number_of_searches\":3}', 'name': 'get_agentic_quick_web_search_results_tool'}, 'type': 'function'}]}, response_metadata={'finish_reason': 'tool_calls', 'model_name': 'gpt-4o-mini-2024-07-18', 'system_fingerprint': 'fp_0aa8d3e20b'}, id='run-6cf65a03-bc43-475c-b558-0e776673b04e-0', tool_calls=[{'name': 'get_agentic_quick_web_search_results_tool', 'args': {'query': 'biggest yoghurt company in the world ticker symbol', 'estimated_number_of_searches': 3}, 'id': 'call_x21tkL7MvWihhB4OznT9VM4t', 'type': 'tool_call'}], usage_metadata={'input_tokens': 264, 'output_tokens': 37, 'total_tokens': 301, 'input_token_details': {'audio': 0, 'cache_read': 0}, 'output_token_details': {'audio': 0, 'reasoning': 0}}), ToolMessage(content='{\"content\": \"The biggest yogurt company in the world is Chobani Inc., which has the ticker symbol CHO.\"}', name='get_agentic_quick_web_search_results_tool', id='0f517256-e814-4d8b-a903-7ae229edbeb8', tool_call_id='call_x21tkL7MvWihhB4OznT9VM4t')]\n",
      "\u001b[0m\n",
      "\u001b[36m[DEBUG] \n",
      "Web search capability result: {'messages': [HumanMessage(content='what is the ticker symbol of the biggest yoghurt company in the worldAnswer in JSON format: {\"content\": \"your results\"}', additional_kwargs={}, response_metadata={}, id='52414df0-41f8-4483-8745-c4db040fe236'), AIMessage(content='', additional_kwargs={'tool_calls': [{'index': 0, 'id': 'call_x21tkL7MvWihhB4OznT9VM4t', 'function': {'arguments': '{\"query\":\"biggest yoghurt company in the world ticker symbol\",\"estimated_number_of_searches\":3}', 'name': 'get_agentic_quick_web_search_results_tool'}, 'type': 'function'}]}, response_metadata={'finish_reason': 'tool_calls', 'model_name': 'gpt-4o-mini-2024-07-18', 'system_fingerprint': 'fp_0aa8d3e20b'}, id='run-6cf65a03-bc43-475c-b558-0e776673b04e-0', tool_calls=[{'name': 'get_agentic_quick_web_search_results_tool', 'args': {'query': 'biggest yoghurt company in the world ticker symbol', 'estimated_number_of_searches': 3}, 'id': 'call_x21tkL7MvWihhB4OznT9VM4t', 'type': 'tool_call'}], usage_metadata={'input_tokens': 264, 'output_tokens': 37, 'total_tokens': 301, 'input_token_details': {'audio': 0, 'cache_read': 0}, 'output_token_details': {'audio': 0, 'reasoning': 0}}), ToolMessage(content='{\"content\": \"The biggest yogurt company in the world is Chobani Inc., which has the ticker symbol CHO.\"}', name='get_agentic_quick_web_search_results_tool', id='0f517256-e814-4d8b-a903-7ae229edbeb8', tool_call_id='call_x21tkL7MvWihhB4OznT9VM4t'), AIMessage(content='```json\\n{\"content\": \"The biggest yogurt company in the world is Chobani Inc., which has the ticker symbol CHO.\"}\\n```', additional_kwargs={}, response_metadata={'finish_reason': 'stop', 'model_name': 'gpt-4o-mini-2024-07-18', 'system_fingerprint': 'fp_0aa8d3e20b'}, id='run-2a133474-82f8-40fb-a669-b03205e16974-0', usage_metadata={'input_tokens': 342, 'output_tokens': 31, 'total_tokens': 373, 'input_token_details': {'audio': 0, 'cache_read': 0}, 'output_token_details': {'audio': 0, 'reasoning': 0}})]}\n",
      "\u001b[0m\n"
     ]
    }
   ],
   "source": [
    "from agentic_search.capabilities.web import get_web_search_results\n",
    "\n",
    "res = await get_web_search_results(\"what is the ticker symbol of the biggest yoghurt company in the world\")\n",
    "res\n",
    "# write results to file for consultation\n",
    "with open(\"scratchpad.md\", \"w\") as f:\n",
    "    f.write(res[\"results\"])"
   ]
  },
  {
   "cell_type": "code",
   "execution_count": 11,
   "metadata": {},
   "outputs": [],
   "source": [
    "input_headlines = [\n",
    "    \"UK gambling with climate targets over carbon capture, say campaigners - UK gambling with climate targets over carbon capture, say campaigners\\n\\nPotential IPCC rule changes could award planned carbon savings from burning US wood pellets to the exporter, not the importer\\n\\nThe UK government is gambling with its own climate targets on claims that the Drax power plant will create \\u201cnegative emissions\\u201d because new rules could hand the carbon savings to the US, campaigners say.The owners of the North Yorkshire power plant have promised ministers that a key project to capture the carbon emissions created from burning biomass wood pellets imported from US forests will count as negative emissions in Britain\\u2019s carbon accounts.However, a working group convened by the UN\\u2019s climate authority, the Intergovernmental Panel on Climate Change (IPCC), has begun meetings to draft rules for national greenhouse gas accounting which will apply to \\u201ccarbon removal\\u201d technologies from 2027 at the earliest.Campaigners at Biofuelwatch, a green group, have warned that there is \\u201ca strong argument\\u201d that the so-called negative emissions from bioenergy with carbon capture and storage, known as Beccs, should be \\u201cattributed to the country where the wood comes from\\u201d rather than where it is burned to generate electricity.Almuth Ernsting, a co-director at Biofuelwatch, said: \\u201cWe cannot second-guess what the IPCC expert group will decide, but neither can the UK government.\\u201dThe government is considering whether to extenda subsidy scheme that pays Drax about \\u00a3500m a yearbeyond its 2027 deadline until the end of the decade. The FTSE 250 company, which agreed topay a \\u00a325m fineearlier this year for misreporting its wood pellet sourcing, has already earned more than \\u00a37bn in subsidies since work began to convert the former coal power plant to run on biomass in 2012.Ernsting said: \\u201cIt is therefore entirely possible that, if the UK government were to grant billions of pounds in new subsidies to help Drax develop Beccs, this would benefit the greenhouse gas accounts of the USA, Canada and other countries exporting pellets to Drax \\u2013 and not the UK.\\u201dIn the past Drax has claimed its biomass generation is \\u201ccarbon neutral\\u201d because the emissions produced from its chimney stacks are offset by the emissions absorbed by the trees grown in North America to produce the pellets.It has quietly dropped the use of this wording since its own independent advisory board last year cautioned against repeating the claims. The company still insists that it will be a carbon-negative power plant once it fits carbon capture technology to its flues in the 2030s because it is a \\u201cwidely accepted scientific view\\u201d, according to a company spokesperson.This view has been disputed in recent years by a rising number of scientific studies from European academics. They fear the lag between when the emissions escape from power plant chimneys and when new trees are able to absorb carbon will create a \\u201ccarbon debt\\u201d which could accelerate the climate crisis in the near term.A Drax spokesperson said the company did not expect the IPCC expert group to amend the rules on Beccs projects because their work would focus on newer carbon capture technologies, such asdirect air capture. But in the minutes of the first meeting, seen by the Guardian, there was a presentation on the feasibility of developing new or updated carbon accounting methods for technologies including Beccs.The Department for Energy Security and Net Zero said: \\u201cWe follow the agreed international approach for estimating and reporting greenhouse gas emissions under the UN Framework Convention on Climate Change and the Paris Agreement, and we expect the country that captures CO2 to continue to benefit from negative emissions.\\u201cThe subsidies for large-scale biomass generators will end in 2027 and we are reviewing evidence on potential support beyond this,\\u201d the spokesperson added.\",\n",
    "    \"Shrinking waistlines and growing profits: the weight-loss drug boom  - Shrinking waistlines and growing profits: the weight-loss drug boom \\n\\nDrugs such as Wegovy amd Mounjaro are an attractive prospect for online businesses and traditional pharmacies as well as the firms that make them\\n\\nIt is a trend rooted in profit-making. Adverts featuring prescription-only weight-loss medications are splashed across the internet \\u2013 and it is causing concern among experts.But the question remains: who is driving the boom?Consider drugs for other conditions, be it asthma or high blood pressure: a quick internet search might through up a couple of online pharmacies, but not page after page of results offering discount codes for consultations, special offers for returning customers or money-off emails.Yet when it comes to weight-loss jabs, it is a different story.Boots offers returning customers 10% off each time they reorder a weight-loss treatment \\u2013 a promotion that appears at the bottom of a page featuring Wegovy, Mounjaro and other prescription-only medications.The online firm Pharmacy2U lists the prices of medications including Wegovy and Mounjaro together with a promotional code entitling customers to \\u00a340 off their first four weeks\\u2019 supply.Taking a different approach, Daily Chemist is emailing \\u00a325 credits for weight-loss orders to customers, with a link that takes them directly to prescription-only weight loss medications. Such emails have been sent to people who have previously informed the pharmacy they have a healthy weight.A Boots spokesperson said promotional activity for Boots Online Doctor services was also compliant with applicable legislation, MHRA (Medicines and Healthcare products Regulatory Agency) guidance and ASA advertising codes.\\u201cAll Boots Online Doctor prices are for the full service \\u2013 from the online consultation to aftercare and support \\u2013 and not for prescription medicines alone,\\u201d they said.\\u201cWeight-loss treatment is most effective when used consistently, alongside important lifestyle changes. We offer 10% off the Boots Online Doctor weight-loss service for returning patients to encourage them to stay with us to receive continuity of care.\\u201dA spokesperson for Pharmacy2U said: \\u201cAny discounts offered as part of our private online doctor service adhere to the guidelines set out by GPhC [General Pharmaceutical Council]and MHRA and are solely in relation to the provision of the service by our highly qualified clinicians. Patients have the ability to ask our GPs for a treatment recommendation as part of the consultation.\\u201dDaily Chemist did not respond to a request for comment. The MHRA and ASA said they would assess the adverts to decide if they merited investigation.In each of these cases, the cited webpage was just one click away from the homepage of the online pharmacy, apparently contradicting advice set out by the Advertising Standards Agency (ASA).\\u201cMarketers should ensure that the casually browsing consumer does not come across information relating POMs with ease,\\u201dthe ASAsays in its advice on \\u201cPrescription-only Medicines (websites)\\u201d.Dr Piotr Ozieranski, from the University of Bath, who researches the political sociology of medicine and pharmaceuticals, said concerns were not confined to public-facing marketing, with Novo Nordisk \\u2013 the pharmaceutical company behind Saxenda, Ozempic and Wegovy \\u2013 having previously been in trouble for its practices.Indeed Novo Noridskwas suspended from theAssociation of the British Pharmaceutical Industry in 2023 for actions including sponsoring biased training to healthcare professionals around Saxenda, and offering individual health professionals apatient group direction (PGD)that would allow them to give the drug without a prescription from a doctor or other prescriber \\u2013 a move that was deemed an inducement to prescribe.However, insiders in the pharmaceutical industry have stressed adverts featuring prescription-only weight-loss medications are not being driven by the pharmaceutical industry noting, the demand is already sky-high.Instead, it seems, it is an approach taken by the pharmacies themselves.The financial gains for pharmacies offering the weight-loss jabs are phenomenal: a month\\u2019s supply costs a patient about \\u00a3150 for the lowest dose, rising to about \\u00a3250 a month for the highest.With about 60% of the UK\\u2019s population living with obesity or overweight, and the jabs requiring ongoing use for weight loss to be maintained, industry insiders told the Guardian the medications could make pharmacies hundreds of thousands of pounds a year.Ozieranski notesthe company Pharmadoctor,which sells clinical service packages to pharmacists, has an onlinecalculator that pharmacists can use to estimatethe profits they could make.The upshot is that weight-loss medications are an attractive prospect for online businesses and bricks-and-mortarpharmacies that are already struggling to remain open.However, Ozieranski says it is the pharmaceutical companies that have created a parallel private market for such medications, while Prof Simon Capewell of the University of Liverpool, noted pharmaceutical companies gained financially from advertisements of the drugs.\\u201cAnything that\\u2019s going to promote visibility, promote acceptability, promote normality of this [type of] drug has got to be positive for the pharmaceutical companies,\\u201d Capewell said.\",\n",
    "    \"\\u2018Bad things can happen\\u2019: how will the world adjust to the Trump presidency? - \\u2018Bad things can happen\\u2019: how will the world adjust to the Trump presidency?\\n\\nBefore he has taken a single executive decision, countries around the world are positioning themselves for his impact\\n\\n\\u201cA revisionist state has arrived on the scene to contest the liberal international order, and it is not Russia or China, it is the United States. It is Trump in the Oval Office, the beating heart of the free world. The incoming administration contests every element of the liberal international order \\u2013 trade, alliances, migration, multilateralism, democratic solidarity and human rights.\\u201cThe narrative now at home and abroad is that the US is not what we thought it was. Trump was not an aberration, not a bug, but a feature of American politics and of America\\u2019s story.\\u201dThis stark assessment of the impact of Donald Trump\\u2019s return to the White House in January, by the Princeton University professor of politics John Ikenberry, leads him to a question: \\u201cWill the new global order be determined less by the US and more by its legacy partners? Will they seek an alternative framework globally and regionally, or will they make bets to ride this out, and do the transactional politics that Trump is going to request?\\u201dAlready, from Ankara to Brussels to Tehran and Moscow, the whole world seems catalysed and in motion as countries seek answers to versions of that question. Without Trump taking a single executive decision, they are positioning, responding and adjusting to the long shadow he represents. Even Trump himself seems a little unnerved at what his return is unleashing. \\u201cThe world seems to be going a little crazy now,\\u201d he recently admitted in Paris.Amid the craziness, three distinct forms of response to Trump are starting to emerge.An \\u201cideologically aligned\\u201d group is emboldened, including populists in Europe, Latin America and Israel who believe their often Russia-friendly brand of nationalism will benefit from being in the slipstream of America First. The breakup of the European Union, an Argentina-style chainsaw taken to regulation, a new security architecture with Russia, regime change in Tehran: all become possibilities.A second group, led by China, foresees a diplomatic shake-up in which America becomes an agent of instability, leading to some kind of globalised realignment. For Beijing \\u2013 facing the threat of 50% tariffs \\u2013 the silver lining is that Trump\\u2019s willingness to treat friends as foes may create a leadership vacuum that China, as the so-called advocate of \\u201cthe global majority\\u201d, can exploit.It is one version of the \\u201calternative framework\\u201d of which Ikenberry speaks. Trump seems aware of that risk and is already threatening to impose 100% tariffs on the Brics countries \\u2013 Brazil, Russia, India, China, South Africa, Iran, Egypt, Ethiopia, and the United Arab Emirates \\u2013 if they try to replace the US dollar with another currency.The third, more phlegmatic, group is made up of America\\u2019s \\u201clegacy partners\\u201d in Europe and the G7 group of liberal democracies. They still hope that with the right mix of argument, flattery and self-abnegation they can make a rational case that appeals to Trump\\u2019s self-interest.Leaders of these nominal allies, however much they revile Trump\\u2019s methods, look at American power and feel they have no choice but to interact with him. \\u201cWe have to dance with whoever is on the dancefloor,\\u201d Mark Rutte, the new Nato chief, said in February. The battle then becomes one for Trump\\u2019s brain, and to persuade him that America\\u2019s interests do not stop at its borders. But if this strategy does not work, insurance is being taken out by strengthening alternative frameworks. Polling published this month by the European Council on Foreign Relations, for instance, showed that right across Europe voters prefer more Europe to more Trump.That need not be surprising. Trump, it should be recalled, describes the EU as a \\u201cnot-so-mini-China\\u201d. His threat to impose tariffs has already stimulated an internal debate in Europe on how to respond. The president of the European Central Bank, Christine Lagarde, has been accused of running up the white flag by saying Europe should try to ward off tariffs by buying US arms and liquefied natural gas.The former WTO director general Pascal Lamy described her strategy to \\u201ccalm this barking dog\\u201d as \\u201cabsolutely wrong\\u201d. He said: \\u201cYou never negotiate with the US, whatever the president, from a position of weakness. We must be strong by showing the importance of our market to US exporters.\\u201dBut even he admits this will be testing since different countries have different levels of dependence on the US. \\u201cOur strength is the size of our market and our unity. Our weakness is our lack of geostrategic consistency and our disunity.\\u201dUkraineTrump\\u2019s true existential threat to Europe lies in Ukraine. Without having revealed a detailed peace plan, Trump seems to want to threaten both sides \\u2013 Vladimir Putin with rearmament in Ukraine, Volodymyr Zelenskyy with withdrawal of support \\u2013 to force an end to the war.Asked recently if he was concerned about Trump\\u2019s intentions, the outgoing head of the EU\\u2019s foreign service, Josep Borrell, said: \\u201cHow could I not be worried? Certainly I am. This is the big elephant in the room; this is the question. What will Europeans do if the new American administration is no longer supporting Ukraine? This is the question the Ukrainians were asking me when I was visiting Kyiv. It came from the last soldier to the president of Ukraine. I don\\u2019t think anyone knows the answer.\\u201dTrump complained: \\u201cWe are in for $350bn. Europe is in for $150bn. That needs to be equalised. The war with Russia is important for everyone, but it\\u2019s more important for Europe than us. We have a little thing called an ocean between us.\\u201dFaced by the risk Trump will agree a deal with Putin over his head, Zelenskyy at the end of November took pre-emptive action. He proposed a ceasefire in which Ukraine would solely rely on diplomacy \\u2013 not armed conflict \\u2013 to regain the territory lost to Russia in the east since 2014, but in return the remaining part of Ukraine would be offered Nato membership, and not just the \\u201cwell-lit bridge\\u201d to membership at some point in the future.But Rutte has already rejected his plan, arguing that none of the key players, including Russia or the US, would accept Ukrainian membership of Nato now. Nato membership includes the key commitment that an attack on one member is an attack on all.That leaves Europe facing some fateful decisions and not much time in which to take them.Norbert R\\u00f6ttgen, the German CDU foreign affairs specialist, said: \\u201cEurope squandered the time it should have spent investing more heavily into the relationship [with the US] \\u2013 including by building up its own defences \\u2026 European leaders cannot simply shift the blame for their predicament to Washington.\\u201dBorrell insists he did try to make Europe learn to speak \\u201cthe language of power\\u201d, and so be capable of acting more independently from the US. This required not just an increase in European defence spending, but a change in mindset that he admits has only just started. He recalls when he was asked how Europe would respond to the Russian attack on Ukraine in 2022, he instructed his officials to work up an option, and they came up with a plan to spend \\u20ac50m (\\u00a341m). \\u201cI said \\u201cAre you crazy? Put three 0s behind that. We are talking about a real war with bombs falling inside a European city.\\u2019\\u201dThe use of the European peace facility \\u2013 an EU military aid fund \\u2013 to help Ukraine, which was advocated by Borrell, was a significant step. Overall progress towards creating a European defence capability has been glacial, however. He blames a lack of political will, symbolised by the opposition within the EU to ending the national veto in all foreign policy decisions. Borrell explained: \\u201cWe live in an ecosystem where you cannot speak, you cannot open your mouth if there is no unity. How many times did I have to say \\u2018there is no European position on this\\u2019? Everyone wants to keep their right to a veto, that is the reality.\\u201dBorrell also found Europe\\u2019s industrial defence base hollowed out. \\u201cI have been begging for arms. It took three months just to ask for 1m rounds of ammunition. Russia is shooting 800,000 in a month.\\u201d Since the Ukraine war started, he said, nearly 45% of all the equipment provided by EU nations came from outside the bloc.So a European plan to protect Ukraine is still needed, but Trump is having a galvanising impact.A statement issued earlier this month by foreign ministers from Germany, France, Poland, Italy and the UK after a meeting in Berlin contained a warning to Trump not to strike a deal with Putin behind Europe\\u2019s back: \\u201cThere can be no negotiations about peace in Ukraine without Ukrainians and without Europeans by their side.\\u201dThe question is, given the shortfalls described by Borrell: can Europe realistically fill the gap if Trump ends US support? The plan is a European coalition of the willing, cooperating outside EU structures, providing security guarantees to Ukraine by stationing peacekeeping troops inside Ukraine along an as yet unnegotiated demarcation line. Unconfirmed leaks suggest the package includes as many as 40,000 troops, and a novel means to fund boosts to defence spending. The plan based on the model of postwar North and South Korea is so sensitive that no one yet wishes to discuss it in public.The key drivers are Poland\\u2019s prime minister, Donald Tusk, in an alliance with the probable next German chancellor, Friedrich Merz, and the French president, Emmanuel Macron. The coalition needs to be credible enough both to convince Putin total victory is unachievable and to persuade Trump that Europe is reforming, and deserves American backing.The Middle East and ChinaBut just as Trump\\u2019s victory has forced the principals in Europe to rethink their war, Middle Eastern leaders wonder how their region\\u2019s proliferating and interconnected conflicts will be affected by Trump. Will he vacate the area, leaving the chaos to deepen, and allow other actors such as Turkey to regain their dominance and influence?Even Trump\\u2019s closest allies seem divided on how he will react. Some US diplomats brief: \\u201cTrump is not going to be like Bush or Obama. Sure, he\\u2019ll take calls from Gulf leaders, but he is going to respond: \\u2018That\\u2019s your problem.\\u2019\\u201dOthers such as Mike Waltz, the president-elect\\u2019s choice for national security adviser, say Trump is ready to make \\u201cbig transformative deals\\u201d. Waltz is already claiming credit for the Lebanon ceasefire agreed before the inauguration. \\u201cEveryone\\u2019s coming to the table because of President Trump,\\u201d he claimed.Yet Trump\\u2019s previous Middle East envoy Jason Greenblatt at the recent Doha forum for political dialogue said Trump saw no need to solve the Palestinian issue. \\u201cMany of you think the Palestinian issue is the be-all and end-all. Not true. What the Trump administration did, and I think they will try to do again, is to decouple the Palestinian issue from everything else.\\u201d He said that after the 7 October 2023 Hamas attacks on Israel \\u201cthe Palestinian issue is so complicated and deeply entrenched, it is going to be hard to fix now\\u201d.But that means the biggest deal \\u2013 the one between Saudi Arabia and Israel \\u2013 looks impossible for the moment. The Saudi crown prince, Mohammed bin Salman, has described what Israel has done in Gaza as a \\u201cgenocide\\u201d, and his diplomats have said normalisation with Israel and an expansion of the Abraham accords \\u2013 bilateral agreements signed by Israel, the UAE and Bahrain during Trump\\u2019s first term \\u2013 is \\u201coff the table without a clear pathway to a Palestinian state\\u201d.Moreover, just like Europe, the Gulf states are looking to reduce their reliance on the US.Fawaz Gerges, a professor of the Middle East at the London School of Economics, pointed out: \\u201cSaudi Arabia, one of the most important Middle Eastern powers dependent on the US, is positioning itself for the Trump administration by diversifying its foreign policy, deepening its relations with China and normalising with Iran.\\u201dHe argued: \\u201cThe Biden administration has insulted and humiliated its own Arab allies, all of which have been begging him to use leverage with the Israeli prime minister.\\u201dThe US, he contended, by \\u201cturning Israel into a military fortress, has prevented Israel from coming to terms with its neighbours. The US has not been a true friend of Israel since it has not sought to answer the question of: how do you anchor and integrate Israel into the social fabric in the region?\\u201dA self-confident Israel sees no need to answer such questions. The \\u201cmilitary fortress\\u201d, after its display of dominance in 2024, regards 2025 as the year to complete the remaking of the Middle East that it has begun in Gaza, Lebanon and Syria.Within a week of the US election, the extremist Israeli cabinet member Bezalel Smotrich proclaimed that Trump\\u2019s return meant that \\u201c2025 will, with God\\u2019s help, be the year of [Israeli] sovereignty in Judea and Samaria\\u201d \\u2013 the Israeli name for the West Bank. Annexation, an issue hotly contested within the first Trump administration, is back on the agenda, a prospect that terrifies the Gulf states.More importantly, the stars may finally have aligned for Netanyahu to attack Iran\\u2019s nuclear sites, his objective for more than a decade. Anti-Tehran hawks will run Washington, Iranian air defences are weakened due to Israel\\u2019s previous attack in 26 October, the \\u201caxis of resistance\\u201d is in even worse disrepair, Syria no longer exists as a military force, and Netanyahu claims after three conversations since the election he and Trump \\u201csee eye to eye on the Iranian threat in all its components, and the danger posed by it\\u201d.But Trump may not give Netanyahu the blank cheque he wants. He has sold himself to the American people as a leader that carries a big stick, but does not start wars. Iran\\u2019s leadership, despite the internal divisions, has also been sending signals to prove that it wants to get back to the negotiating table with the US and have sanctions lifted.On the campaign trail Trump revealed that he had been prepared to make a deal with Iran \\u201cwithin one week after the election\\u201d if he had won in 2020. \\u201cIt would have been a great deal for them. The only thing they cannot have is nuclear weapons.\\u201dTrump may also not behave as many predict with China, focusing on the trade surplus, as opposed to an existential ideological war with the Chinese Communist party that does not animate him. China\\u2019s president, Xi Jinping, has already been manoeuvring in Europe, in the global south and with business opinion to portray himself as a free trading stable partner committed to green energy.The contrast between the idiosyncratic decision-making in the White House and the predictability of China\\u2019s modus operandi is also being promoted globally. This narrative may conceal more than it reveals, but it finds a ready reception in bodies such as the UN.It is also in stark contrast to the bleak description of Trump\\u2019s vision set out by the incoming vice-president, JD Vance: \\u201cPeople are genuinely afraid that if they don\\u2019t listen to him, bad things can happen, and there are consequences for disregarding him.\\u201d\",\n",
    "    \"Labour urged to lead global debt relief effort as cost of repayments soars - Labour urged to lead global debt relief effort as cost of repayments soars\\n\\nCampaigners call for action in 2025, as crippling repayments prevent spending to cut poverty and tackle climate crisis\\n\\nCampaigners are urging Labour to lead the charge for global debt relief in 2025, as new analysis shows lower-income countries spent 15% of their revenue on repayments this year \\u2013 the highest level for three decades.Calculations by the charity Debt Justice, based on data from the World Bank, show repayments from poorer countries bottomed out at 4.4% of income in 2011 but have since trebled.\\u201cHigh debt payments are preventing the public spending needed to cut poverty and tackle the climate emergency,\\u201d said Debt Justice\\u2019s policy director Tim Jones.Gideon Rabinowitz, director of policy and advocacy at Bond, the anti-poverty coalition, said: \\u201cLower-income countries are being crushed by unsustainable debt, therefore debt cancellation must be on the international agenda next year. This debt crisis is a symptom of a broken global financial system which reproduces this recurring cycle of debt crises.\\u201dInteractiveAmong the countries facing the highest repayments as a share of income in 2024 were Angola (65%), Laos (52%), Pakistan (43%) and Egypt (43%).The International Monetary Fund (IMF) recentlyagreed a fresh $7bn loan to Pakistan\\u2013 the latest of a string of bailouts \\u2013 despite warning that the country faced \\u201chigh risks and a narrow path\\u201d to debt sustainability.Angola struck a deal earlier this year with the state-backed China Development Bank \\u2013 its largest creditor \\u2013 to avert a debt crunch. Chinese lenders, state and private, account for 13% of low-income countries\\u2019 repayments.Writing in the World Bank\\u2019s recentInternational Debt Report, its chief economist, Indermit Gill, warned: \\u201cit\\u2019s time to face the reality: the poorest countries facing debt distress need debt relief if they are to have a shot at lasting prosperity.\\u201dLabour\\u2019s manifesto at the general election cited \\u201ctackling unsustainable debt\\u201d as a priority for its global development agenda.With many global debt contracts governed by UK law, Debt Justice is also calling on the Labour government to pass legislation to ensure private sector bondholders are forced to take a loss, as part of future debt relief deals. Development minister Anneliese Dodds backed such a law in opposition.\\u201cThe government needs to turn words into action in 2025 by pushing for an effective debt cancellation scheme and passing a law to ensure private lenders take part in debt relief,\\u201d Jones said.Debt outlays for lower-income countries are expected to remain high in 2025, at 14%.With some of it denominated in dollars, repayments would increase further in countries\\u2019 domestic currencies, if the greenback surges on foreign exchange markets as a result of Donald Trump\\u2019s policies as many analysts predict.Pope Francis has called for debt relief as part of a jubilee year for Catholics, in 2025 \\u2013 the first since 2000. He said this month: \\u201cIn the spirit of this jubilee year, I urge the international community to work towards forgiving foreign debt in recognition of the ecological debt existing between the North and the South of this world. This is an appeal for solidarity, but above all for justice.\\u201dThe crippling financial burden for developing countries in the late 1990s prompted the successful Jubilee 2000 campaign for debt forgiveness, which ultimately resulted in $130bn (\\u00a3102bn) of debt being written off. As chancellor, Gordon Brown took a leading role in that campaign.Since coming to power in July, Keir Starmer\\u2019s government has opted not to reverse the Tories\\u2019 decision to dismantle the Department for International Development (DfID), which was set up by Labour in 1997, but abolished by Boris Johnson.Nor has Labour said when it will reverse cuts to overseas aid made by Johnson\\u2019s government, whichditched the pledge of spending 0.7% of national income on development. Rachel Reeves did not mention overseas aid or development in her budget speech in October.A UK government spokesperson said: \\u201cWe are highly concerned about the debt challenges facing low-income countries. Supporting developing countries to tackle unsustainable debt is a key development priority of this government.\\u201cThe UK is playing its full part alongside international partners to support countries who face debt distress, through international fora, as well as looking to strengthen the system for the future.\\u201dThe World Bank data covers 84 countries categorised as low income, or lower-middle income, as well as upper middle-income countries classified as small island developing states.\",\n",
    "]\n",
    "\n",
    "from agentic_search.capabilities.text import get_running_summary\n"
   ]
  },
  {
   "cell_type": "code",
   "execution_count": 12,
   "metadata": {},
   "outputs": [
    {
     "data": {
      "text/plain": [
       "{'summary': '## UK Gambling with Climate Targets\\n- Campaigners warn the UK government risks its climate targets by relying on carbon capture claims from Drax power plant.\\n- Drax plans to capture carbon emissions from burning US wood pellets, claiming it will create \"negative emissions\" for the UK.\\n- A UN working group is drafting new rules for carbon accounting that may attribute carbon savings to the exporting country (US) rather than the importing country (UK).\\n- Biofuelwatch argues the UK could benefit the greenhouse gas accounts of the US and Canada instead of its own.\\n- Drax has received over £7 billion in subsidies since converting from coal to biomass and seeks to extend its subsidy scheme beyond 2027.\\n- Concerns exist about the carbon debt created by the time lag between emissions and tree growth.\\n- The UK government claims it follows international guidelines for greenhouse gas emissions reporting.\\n\\n## Weight-Loss Drug Boom\\n- Prescription-only weight-loss medications like Wegovy and Mounjaro are heavily marketed online, raising expert concerns.\\n- Pharmacies are offering discounts and promotions for these medications, which is uncommon for other prescription drugs.\\n- Boots and Pharmacy2U are among pharmacies promoting weight-loss drugs with discounts, despite regulations.\\n- The MHRA and ASA are assessing the marketing practices of these pharmacies.\\n- Novo Nordisk, the manufacturer of these drugs, faced scrutiny for its marketing practices and was suspended from the Association of the British Pharmaceutical Industry in 2023.\\n- High demand for weight-loss medications could yield significant profits for pharmacies annually.\\n- Ongoing use of these medications is necessary for maintaining weight loss, enhancing their attractiveness for pharmacies.\\n\\n## Global Debt Relief Effort\\n- Campaigners urge Labour to lead a global debt relief effort in 2025 as lower-income countries spent 15% of their revenue on repayments, the highest level in three decades.\\n- Debt Justice reports that repayments from poorer countries have tripled since 2011.\\n- High debt payments hinder public spending needed to reduce poverty and address the climate crisis.\\n- Countries facing the highest repayments as a share of income in 2024 include Angola (65%), Laos (52%), Pakistan (43%), and Egypt (43%).\\n- The IMF recently agreed to a $7bn loan to Pakistan despite warnings of high risks to debt sustainability.\\n- Debt Justice calls for legislation to ensure private sector bondholders take a loss in future debt relief deals.\\n- Debt outlays for lower-income countries are expected to remain high in 2025 at 14%.\\n- Pope Francis has called for debt relief in 2025, urging the international community to forgive foreign debt.\\n- The UK government expresses concern about the debt challenges facing low-income countries and emphasizes its commitment to support them.'}"
      ]
     },
     "execution_count": 12,
     "metadata": {},
     "output_type": "execute_result"
    }
   ],
   "source": [
    "res_openai = get_running_summary(input_headlines, \"openai\")\n",
    "res_openai"
   ]
  },
  {
   "cell_type": "code",
   "execution_count": 4,
   "metadata": {},
   "outputs": [
    {
     "data": {
      "text/plain": [
       "{'summary': \"The UK government is considering extending a subsidy scheme for Drax's biomass power plant, which could benefit the US and other countries exporting wood pellets. Campaigners warn that this would attribute negative emissions to the wrong country.\\n\\nDonald Trump's presidency has caused concern globally, as his administration contests every element of the liberal international order – trade, alliances, migration, multilateralism, democratic solidarity, and human rights.\\n\\nThree distinct forms of response to Trump are emerging: an 'ideologically aligned' group emboldened by populists in Europe, Latin America, and Israel; a second group led by China, foreseeing a diplomatic shake-up where America becomes an agent of instability; and a third, more phlegmatic group made up of America's 'legacy partners' in Europe and the G7 group of liberal democracies.\\n\\nEurope faces fateful decisions regarding Ukraine, with Trump threatening to withdraw support. A European coalition of the willing is being formed to provide security guarantees to Ukraine by stationing peacekeeping troops inside Ukraine along an as-yet-unnegotiated demarcation line.\\n\\nThe Middle East and China are also affected by Trump's presidency. The US may vacate the area, allowing other actors like Turkey to regain dominance. Trump has decoupled the Palestinian issue from everything else, making a deal between Saudi Arabia and Israel impossible for now.\\n\\nSaudi Arabia is diversifying its foreign policy, deepening relations with China, and normalizing with Iran. The Biden administration has insulted and humiliated Arab allies, preventing Israel from coming to terms with its neighbors.\\n\\nIsrael sees no need to answer questions about how it will anchor and integrate into the social fabric in the region. Annexation is back on the agenda, a prospect that terrifies Gulf states. Netanyahu may attack Iran's nuclear sites, but Trump may not give him a blank cheque.\\n\\nLabour urged to lead global debt relief effort as cost of repayments soars - Campaigners call for action in 2025, as crippling repayments prevent spending to cut poverty and tackle climate crisis.\\n\\nCalculations by the charity Debt Justice, based on data from the World Bank, show repayments from poorer countries bottomed out at 4.4% of income in 2011 but have since trebled.\\n\\nHigh debt payments are preventing the public spending needed to cut poverty and tackle the climate emergency,\\n\\nLower-income countries are being crushed by unsustainable debt, therefore debt cancellation must be on the international agenda next year. This debt crisis is a symptom of a broken global financial system which reproduces this recurring cycle of debt crises.\\n\\nAmong the countries facing the highest repayments as a share of income in 2024 were Angola (65%), Laos (52%), Pakistan (43%) and Egypt (43%).\\n\\nThe International Monetary Fund (IMF) recently agreed a fresh $7bn loan to Pakistan– the latest of a string of bailouts – despite warning that the country faced “high risks and a narrow path” to debt sustainability.\\n\\nAngola struck a deal earlier this year with the state-backed China Development Bank – its largest creditor – to avert a debt crunch. Chinese lenders, state and private, account for 13% of low-income countries’ repayments.\\n\\nWriting in the World Bank’s recent International Debt Report, its chief economist, Indermit Gill, warned: “it’s time to face the reality: the poorest countries facing debt distress need debt relief if they are to have a shot at lasting prosperity.”\\n\\nLabour’s manifesto at the general election cited “tackling unsustainable debt” as a priority for its global development agenda.\\n\\nWith many global debt contracts governed by UK law, Debt Justice is also calling on the Labour government to pass legislation to ensure private sector bondholders are forced to take a loss, as part of future debt relief deals. Development minister Anneliese Dodds backed such a law in opposition.\\n\\nThe government needs to turn words into action in 2025 by pushing for an effective debt cancellation scheme and passing a law to ensure private lenders take part in debt relief,\\n\\nDebt outlays for lower-income countries are expected to remain high in 2025, at 14%.\\n\\nWith some of it denominated in dollars, repayments would increase further in countries’ domestic currencies, if the greenback surges on foreign exchange markets as a result of Donald Trump’s policies as many analysts predict.\\n\\nPope Francis has called for debt relief as part of a jubilee year for Catholics, in 2025 – the first since 2000. He said this month: “In the spirit of this jubilee year, I urge the international community to work towards forgiving foreign debt in recognition of the ecological debt existing between the North and the South of this world. This is an appeal for solidarity, but above all for justice.”\\n\\nThe crippling financial burden for developing countries in the late 1990s prompted the successful Jubilee 2000 campaign for debt forgiveness, which ultimately resulted in $130bn (£102bn) of debt being written off.\\n\\nAs chancellor, Gordon Brown took a leading role in that campaign.\\n\\nSince coming to power in July, Keir Starmer’s government has opted not to reverse the Tories’ decision to dismantle the Department for International Development (DfID), which was set up by Labour in 1997, but abolished by Boris Johnson.\\n\\nNor has Labour said when it will reverse cuts to overseas aid made by Johnson’s government, which ditched the pledge of spending 0.7% of national income on development. Rachel Reeves did not mention overseas aid or development in her budget speech in October.\\n\\nA UK government spokesperson said: “We are highly concerned about the debt challenges facing low-income countries. Supporting developing countries to tackle unsustainable debt is a key development priority of this government.\\n\\nThe UK is playing its full part alongside international partners to support countries who face debt distress, through international fora, as well as looking to strengthen the system for the future.”\\n\\nThe World Bank data covers 84 countries categorised as low income, or lower-middle income, as well as upper middle-income countries classified as small island developing states.\"}"
      ]
     },
     "execution_count": 4,
     "metadata": {},
     "output_type": "execute_result"
    }
   ],
   "source": [
    "res = get_running_summary(input_headlines)\n",
    "res"
   ]
  }
 ],
 "metadata": {
  "kernelspec": {
   "display_name": "venv",
   "language": "python",
   "name": "python3"
  },
  "language_info": {
   "codemirror_mode": {
    "name": "ipython",
    "version": 3
   },
   "file_extension": ".py",
   "mimetype": "text/x-python",
   "name": "python",
   "nbconvert_exporter": "python",
   "pygments_lexer": "ipython3",
   "version": "3.12.3"
  }
 },
 "nbformat": 4,
 "nbformat_minor": 2
}
