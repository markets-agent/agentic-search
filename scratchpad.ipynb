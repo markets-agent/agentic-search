{
 "cells": [
  {
   "cell_type": "markdown",
   "metadata": {},
   "source": [
    "# cooking the best possible web search result (in termes of relevance and speed)"
   ]
  },
  {
   "cell_type": "code",
   "execution_count": 1,
   "metadata": {},
   "outputs": [],
   "source": [
    "user_query = \"what is the latest top loser in the American stock market\""
   ]
  },
  {
   "cell_type": "markdown",
   "metadata": {},
   "source": [
    "## test functions"
   ]
  },
  {
   "cell_type": "code",
   "execution_count": 2,
   "metadata": {},
   "outputs": [
    {
     "name": "stdout",
     "output_type": "stream",
     "text": [
      "\u001b[36m[DEBUG] \n",
      "Search attempt failed: https://links.duckduckgo.com/d.js?q=what+is+the+latest+top+loser+in+the+American+stock+market&kl=wt-wt&l=wt-wt&p=&s=0&df=&vqd=4-239486342561861546383801232217474114748&bing_market=wt-WT&ex=-1 202 Ratelimit\n",
      "\u001b[0m\n",
      "\u001b[36m[DEBUG] \n",
      "serp results for query what is the latest top loser in the American stock market: []\n",
      "\u001b[0m\n"
     ]
    },
    {
     "data": {
      "text/plain": [
       "[]"
      ]
     },
     "execution_count": 2,
     "metadata": {},
     "output_type": "execute_result"
    }
   ],
   "source": [
    "from agentic_search.functions.web import get_serp_links\n",
    "\n",
    "links = await get_serp_links(user_query)\n",
    "links\n"
   ]
  },
  {
   "cell_type": "code",
   "execution_count": 3,
   "metadata": {},
   "outputs": [
    {
     "data": {
      "text/plain": [
       "[]"
      ]
     },
     "execution_count": 3,
     "metadata": {},
     "output_type": "execute_result"
    }
   ],
   "source": [
    "from agentic_search.functions.web import get_webpages_soups_text_async\n",
    "\n",
    "res = await get_webpages_soups_text_async([x[\"href\"] for x in links])\n",
    "res"
   ]
  },
  {
   "cell_type": "markdown",
   "metadata": {},
   "source": [
    "## test chains"
   ]
  },
  {
   "cell_type": "code",
   "execution_count": 4,
   "metadata": {},
   "outputs": [
    {
     "data": {
      "text/plain": [
       "{'queries': ['latest top loser stock market American',\n",
       "  'worst performing stocks in US market today 2024-12-14',\n",
       "  'stock market losers December 2024',\n",
       "  'top losing stocks in the S&P 500 index',\n",
       "  'American stock market worst performers this year',\n",
       "  'stocks with highest percentage loss in 2024',\n",
       "  'latest stock market news and updates on top losers',\n",
       "  'US stock market performance by sector',\n",
       "  'sector analysis of American stock market losses']}"
      ]
     },
     "execution_count": 4,
     "metadata": {},
     "output_type": "execute_result"
    }
   ],
   "source": [
    "from agentic_search.chains.web import get_web_search_queries_chain\n",
    "\n",
    "chain = get_web_search_queries_chain()\n",
    "res = chain.invoke({\"query\": user_query})\n",
    "res\n"
   ]
  },
  {
   "cell_type": "code",
   "execution_count": 5,
   "metadata": {},
   "outputs": [
    {
     "data": {
      "text/plain": [
       "{'query': 'latest worst performing stocks in US market'}"
      ]
     },
     "execution_count": 5,
     "metadata": {},
     "output_type": "execute_result"
    }
   ],
   "source": [
    "from agentic_search.chains.web import get_web_search_query_chain\n",
    "\n",
    "chain = get_web_search_query_chain()\n",
    "res = chain.invoke({\"query\": user_query})\n",
    "res"
   ]
  },
  {
   "cell_type": "markdown",
   "metadata": {},
   "source": [
    "## test tools"
   ]
  },
  {
   "cell_type": "code",
   "execution_count": 6,
   "metadata": {},
   "outputs": [
    {
     "name": "stdout",
     "output_type": "stream",
     "text": [
      "\u001b[36m[DEBUG] \n",
      "invoking thorough web search tool with query: what is the latest top loser in the American stock market\n",
      "\u001b[0m\n",
      "\u001b[36m[DEBUG] \n",
      "serp results for query latest top loser stock market American: [{'title': 'Top Stock Losers Today - Yahoo Finance', 'href': 'https://finance.yahoo.com/screener/predefined/day_losers/', 'body': 'See the list of the top losing stocks today, including share price change and percentage, trading volume, intraday highs and lows, and day charts.'}, {'title': 'Top Daily Losses: US stocks posting the largest losses today - Yahoo ...', 'href': 'https://finance.yahoo.com/markets/stocks/losers/', 'body': \"Yahoo Finance's list of top losing stocks, includes share price changes, trading volume, intraday highs and lows, and day charts for stocks posting the largest losses today\"}, {'title': 'Biggest Stock Losers in USA — TradingView', 'href': 'https://www.tradingview.com/markets/stocks-usa/market-movers-losers/', 'body': 'All stocks Top gainers Biggest losers Large-cap Small-cap Largest employers High-dividend Highest net income Highest cash Highest profit per employee Highest revenue per employee Most active Pre-market gainers Pre-market losers Pre-market most active Pre-market gap After-hours gainers After-hours losers After-hours most active Unusual volume ...'}]\n",
      "\u001b[0m\n"
     ]
    }
   ],
   "source": [
    "from agentic_search.tools.web import get_agentic_thorough_web_search_results_tool\n",
    "\n",
    "res = await get_agentic_thorough_web_search_results_tool(user_query, 2)\n",
    "# write results to file for consultation\n",
    "with open(\"scratchpad.md\", \"w\") as f:\n",
    "    f.write(res)"
   ]
  },
  {
   "cell_type": "code",
   "execution_count": 7,
   "metadata": {},
   "outputs": [
    {
     "name": "stdout",
     "output_type": "stream",
     "text": [
      "\u001b[36m[DEBUG] \n",
      "invoking quickweb search tool with query: what is the latest top loser in the American stock market\n",
      "\u001b[0m\n",
      "\u001b[36m[DEBUG] \n",
      "serp results for query latest worst performing stocks in US market: [{'title': 'These Are the 5 Worst-Performing Stocks in the S&P 500 With 2024 Almost ...', 'href': 'https://finance.yahoo.com/news/5-worst-performing-stocks-p-120300763.html', 'body': \"Here are the five worst-performing stocks in the S&P 500 in 2024, and what to keep in mind before you buy any of them. Data source: yCharts. Performance as of 12/11/2024. Should you buy these while they're cheap? First, it's important to note that all of these are down for a reason.\"}, {'title': 'These Are the 5 Worst-Performing Stocks in the Dow Jones Industrial ...', 'href': 'https://www.fool.com/investing/2024/12/12/these-are-the-5-worst-performing-stocks-in-the-dow/', 'body': '2. Nike (down 27.5%) Nike (NKE-0.91%) struggled this year as missteps under former CEO John Donahoe (also ousted this year) led to declining sales and profits and market share losses to upstart ...'}, {'title': 'Top Stock Losers Today - Yahoo Finance', 'href': 'https://finance.yahoo.com/screener/predefined/day_losers/', 'body': 'See the list of the top losing stocks today, including share price change and percentage, trading volume, intraday highs and lows, and day charts.'}]\n",
      "\u001b[0m\n"
     ]
    }
   ],
   "source": [
    "from agentic_search.tools.web import get_agentic_quick_web_search_results_tool\n",
    "\n",
    "res = await get_agentic_quick_web_search_results_tool(user_query, 6)\n",
    "# write results to file for consultation\n",
    "with open(\"scratchpad.md\", \"w\") as f:\n",
    "    f.write(res)"
   ]
  },
  {
   "cell_type": "markdown",
   "metadata": {},
   "source": [
    "## test capabilities"
   ]
  },
  {
   "cell_type": "code",
   "execution_count": 8,
   "metadata": {},
   "outputs": [
    {
     "name": "stdout",
     "output_type": "stream",
     "text": [
      "\u001b[36m[DEBUG] \n",
      "invoking web search agent with messages: [SystemMessage(content='You are a precise research assistant with web search capabilities. Your tasks:\\n1. Provide accurate, current information\\n2. Synthesize multi-source information concisely\\n3. Include citations and maintain objectivity\\n\\nFocus on authoritative, verifiable sources only.\\n\\nSkip web search if you are completely certain of information.\\nOtherwise, perform targeted searches as needed.\\nToday is 2024-12-14.', additional_kwargs={}, response_metadata={}), HumanMessage(content='what is the ticker symbol of the biggest yoghurt company in the world', additional_kwargs={}, response_metadata={}, id='1d2ade4f-8774-4f54-80ca-4f60c64ccec2')]\n",
      "\u001b[0m\n",
      "\u001b[36m[DEBUG] \n",
      "invoking quickweb search tool with query: biggest yoghurt company in the world ticker symbol\n",
      "\u001b[0m\n",
      "\u001b[36m[DEBUG] \n",
      "serp results for query largest yogurt manufacturers by market share and stock ticker: [{'title': 'US Yogurt Companies - Top Company List - Mordor Intelligence', 'href': 'https://www.mordorintelligence.com/industry-reports/united-states-yogurt-market/companies', 'body': 'This report lists the top US Yogurt companies based on the 2023 & 2024 market share reports. Mordor Intelligence expert advisors conducted extensive research and identified these brands to be the leaders in the US Yogurt industry.'}, {'title': '15 Biggest Yogurt Companies in the World - Yahoo Finance', 'href': 'https://finance.yahoo.com/news/15-biggest-yogurt-companies-world-082724518.html', 'body': 'In 2019, the global yogurt industry was valued at $112.8 billion and it is expected to grow at a compound annual growth rate (CAGR) of 6.41% to hit an astounding $163.7 billion.'}, {'title': 'Yogurt Market Size & Share Analysis - Industry Research Report - Growth ...', 'href': 'https://www.mordorintelligence.com/industry-reports/yogurt-market', 'body': 'Asia-Pacific is the largest yogurt market, with a value share of 44.55% in 2022. Yogurt is consumed mainly through the off-trade channel. The market is estimated to witness a growth of 10.68% in 2023 compared to 2022. ... Yogurt Industry Segmentation Flavored Yogurt, Unflavored Yogurt are covered as segments by Product Type. Off-Trade, On-Trade ...'}]\n",
      "\u001b[0m\n",
      "\u001b[36m[DEBUG] \n",
      "invoking web search agent with messages: [SystemMessage(content='You are a precise research assistant with web search capabilities. Your tasks:\\n1. Provide accurate, current information\\n2. Synthesize multi-source information concisely\\n3. Include citations and maintain objectivity\\n\\nFocus on authoritative, verifiable sources only.\\n\\nSkip web search if you are completely certain of information.\\nOtherwise, perform targeted searches as needed.\\nToday is 2024-12-14.', additional_kwargs={}, response_metadata={}), HumanMessage(content='what is the ticker symbol of the biggest yoghurt company in the world', additional_kwargs={}, response_metadata={}, id='1d2ade4f-8774-4f54-80ca-4f60c64ccec2'), AIMessage(content='', additional_kwargs={}, response_metadata={'model': 'llama3.1', 'created_at': '2024-12-14T21:33:49.392617367Z', 'done': True, 'done_reason': 'stop', 'total_duration': 2029271232, 'load_duration': 10160083, 'prompt_eval_count': 402, 'prompt_eval_duration': 282000000, 'eval_count': 43, 'eval_duration': 1350000000, 'message': Message(role='assistant', content='', images=None, tool_calls=[ToolCall(function=Function(name='get_agentic_quick_web_search_results_tool', arguments={'estimated_number_of_searches': '1', 'query': 'biggest yoghurt company in the world ticker symbol'}))])}, id='run-d9a33f1a-b17a-4f1c-a676-979a9d60e6a5-0', tool_calls=[{'name': 'get_agentic_quick_web_search_results_tool', 'args': {'estimated_number_of_searches': 1, 'query': 'biggest yoghurt company in the world ticker symbol'}, 'id': '45a47799-0910-4794-8119-53c8e1d24ef7', 'type': 'tool_call'}], usage_metadata={'input_tokens': 402, 'output_tokens': 43, 'total_tokens': 445}), ToolMessage(content='**US Yogurt Market Companies**\\n\\n* Danone: Strong brand equity, diversified product portfolio, and global presence.\\n* Chobani LLC: Disruptive positioning with Greek yogurt leadership, strong customer engagement, and growing national presence.\\n* General Mills Inc.: Extensive product range, legacy brand Yoplait leading in mainstream yogurt, and solid regional influence.\\n* FAGE USA Dairy Industry Inc.: Strong Greek yogurt brand, focused portfolio, high customer loyalty, and moderate national presence.\\n* Lactalis: Large global dairy player with consistent product range, good customer base, and steady market share in the US.\\n\\n**Other Companies**\\n\\n* Dairy Farmers of America Inc.: Cooperative structure offers broad production, products cover a wide array of dairy categories, and decent national presence.\\n* Anderson Erickson Dairy: Regional player with a focus on Midwest, limited product range and competitive presence, loyal but small customer base.\\n* Tillamook County Creamery Assoc.: Popular for cheese and other dairy but smaller in yogurt category, moderate product portfolio, regional presence.\\n* Hain Celestial Group: Strong in organic segment but limited range of yogurt offerings, struggles with differentiation in competitive US market.\\n* Dean Foods: Limited presence in the yogurt space, struggling financially, competitive edge weakened by larger players.', name='get_agentic_quick_web_search_results_tool', id='76a88c59-8c92-4f20-b09e-37b99de18c56', tool_call_id='45a47799-0910-4794-8119-53c8e1d24ef7')]\n",
      "\u001b[0m\n",
      "\u001b[36m[DEBUG] \n",
      "Web search capability result: {'messages': [HumanMessage(content='what is the ticker symbol of the biggest yoghurt company in the world', additional_kwargs={}, response_metadata={}, id='1d2ade4f-8774-4f54-80ca-4f60c64ccec2'), AIMessage(content='', additional_kwargs={}, response_metadata={'model': 'llama3.1', 'created_at': '2024-12-14T21:33:49.392617367Z', 'done': True, 'done_reason': 'stop', 'total_duration': 2029271232, 'load_duration': 10160083, 'prompt_eval_count': 402, 'prompt_eval_duration': 282000000, 'eval_count': 43, 'eval_duration': 1350000000, 'message': Message(role='assistant', content='', images=None, tool_calls=[ToolCall(function=Function(name='get_agentic_quick_web_search_results_tool', arguments={'estimated_number_of_searches': '1', 'query': 'biggest yoghurt company in the world ticker symbol'}))])}, id='run-d9a33f1a-b17a-4f1c-a676-979a9d60e6a5-0', tool_calls=[{'name': 'get_agentic_quick_web_search_results_tool', 'args': {'estimated_number_of_searches': 1, 'query': 'biggest yoghurt company in the world ticker symbol'}, 'id': '45a47799-0910-4794-8119-53c8e1d24ef7', 'type': 'tool_call'}], usage_metadata={'input_tokens': 402, 'output_tokens': 43, 'total_tokens': 445}), ToolMessage(content='**US Yogurt Market Companies**\\n\\n* Danone: Strong brand equity, diversified product portfolio, and global presence.\\n* Chobani LLC: Disruptive positioning with Greek yogurt leadership, strong customer engagement, and growing national presence.\\n* General Mills Inc.: Extensive product range, legacy brand Yoplait leading in mainstream yogurt, and solid regional influence.\\n* FAGE USA Dairy Industry Inc.: Strong Greek yogurt brand, focused portfolio, high customer loyalty, and moderate national presence.\\n* Lactalis: Large global dairy player with consistent product range, good customer base, and steady market share in the US.\\n\\n**Other Companies**\\n\\n* Dairy Farmers of America Inc.: Cooperative structure offers broad production, products cover a wide array of dairy categories, and decent national presence.\\n* Anderson Erickson Dairy: Regional player with a focus on Midwest, limited product range and competitive presence, loyal but small customer base.\\n* Tillamook County Creamery Assoc.: Popular for cheese and other dairy but smaller in yogurt category, moderate product portfolio, regional presence.\\n* Hain Celestial Group: Strong in organic segment but limited range of yogurt offerings, struggles with differentiation in competitive US market.\\n* Dean Foods: Limited presence in the yogurt space, struggling financially, competitive edge weakened by larger players.', name='get_agentic_quick_web_search_results_tool', id='76a88c59-8c92-4f20-b09e-37b99de18c56', tool_call_id='45a47799-0910-4794-8119-53c8e1d24ef7'), AIMessage(content='Based on the search results, I could not find a single ticker symbol for the biggest yoghurt company in the world. However, Danone is one of the largest and most well-known yoghurt companies globally, with a ticker symbol of BN (Paris: FR0000120644) or DANOY (OTCQX).', additional_kwargs={}, response_metadata={'model': 'llama3.1', 'created_at': '2024-12-14T21:34:21.067991628Z', 'done': True, 'done_reason': 'stop', 'total_duration': 3838788209, 'load_duration': 10116958, 'prompt_eval_count': 458, 'prompt_eval_duration': 354000000, 'eval_count': 70, 'eval_duration': 3471000000, 'message': Message(role='assistant', content='Based on the search results, I could not find a single ticker symbol for the biggest yoghurt company in the world. However, Danone is one of the largest and most well-known yoghurt companies globally, with a ticker symbol of BN (Paris: FR0000120644) or DANOY (OTCQX).', images=None, tool_calls=None)}, id='run-38876ac6-9885-454d-8f87-b98206b33e90-0', usage_metadata={'input_tokens': 458, 'output_tokens': 70, 'total_tokens': 528})]}\n",
      "\u001b[0m\n"
     ]
    }
   ],
   "source": [
    "from agentic_search.capabilities.web import get_web_search_results\n",
    "\n",
    "res = await get_web_search_results(\"what is the ticker symbol of the biggest yoghurt company in the world\")\n",
    "res\n",
    "# write results to file for consultation\n",
    "with open(\"scratchpad.md\", \"w\") as f:\n",
    "    f.write(res)"
   ]
  }
 ],
 "metadata": {
  "kernelspec": {
   "display_name": "venv",
   "language": "python",
   "name": "python3"
  },
  "language_info": {
   "codemirror_mode": {
    "name": "ipython",
    "version": 3
   },
   "file_extension": ".py",
   "mimetype": "text/x-python",
   "name": "python",
   "nbconvert_exporter": "python",
   "pygments_lexer": "ipython3",
   "version": "3.12.3"
  }
 },
 "nbformat": 4,
 "nbformat_minor": 2
}
