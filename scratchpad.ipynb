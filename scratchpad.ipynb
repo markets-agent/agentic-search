{
 "cells": [
  {
   "cell_type": "markdown",
   "metadata": {},
   "source": [
    "# cooking the best possible web search result (in termes of relevance and speed)"
   ]
  },
  {
   "cell_type": "code",
   "execution_count": 1,
   "metadata": {},
   "outputs": [],
   "source": [
    "user_query = \"what is the latest top loser in the American stock market\""
   ]
  },
  {
   "cell_type": "markdown",
   "metadata": {},
   "source": [
    "## test functions"
   ]
  },
  {
   "cell_type": "code",
   "execution_count": 2,
   "metadata": {},
   "outputs": [
    {
     "data": {
      "text/plain": [
       "True"
      ]
     },
     "execution_count": 2,
     "metadata": {},
     "output_type": "execute_result"
    }
   ],
   "source": [
    "from dotenv import load_dotenv\n",
    "\n",
    "load_dotenv()\n"
   ]
  },
  {
   "cell_type": "code",
   "execution_count": 3,
   "metadata": {},
   "outputs": [
    {
     "name": "stdout",
     "output_type": "stream",
     "text": [
      "\u001b[36m[DEBUG] \n",
      "serp results for query what is the latest top loser in the American stock market: [{'title': 'Top Losers Today - Largest Stock Losses in the US Stock Market - Finsuba', 'href': 'https://www.finsuba.com/leaderboards/us-stocks/today/top-losers/', 'body': 'Top Losers Today (US Stock Market) Below we list the top losers of the day sorted by largest price percentage decrease for the US stock market. This includes stocks from the NYSE, Nasdaq and AMEX stock exchanges. Rankings include all day volume including pre and post market hours (4:00am to 8:00pm in New York, NY, USA).'}, {'title': 'Top Daily Losses: US stocks posting the largest losses today - Yahoo ...', 'href': 'https://finance.yahoo.com/markets/stocks/losers/', 'body': \"Yahoo Finance's list of top losing stocks, includes share price changes, trading volume, intraday highs and lows, and day charts for stocks posting the largest losses today\"}, {'title': \"Today's Top Stock Losers - Stock Analysis\", 'href': 'https://stockanalysis.com/markets/losers/', 'body': 'A list of the stocks with the highest percentage loss today. See stock price, volume, market cap and more.'}]\n",
      "\u001b[0m\n"
     ]
    },
    {
     "data": {
      "text/plain": [
       "[{'title': 'Top Losers Today - Largest Stock Losses in the US Stock Market - Finsuba',\n",
       "  'href': 'https://www.finsuba.com/leaderboards/us-stocks/today/top-losers/',\n",
       "  'body': 'Top Losers Today (US Stock Market) Below we list the top losers of the day sorted by largest price percentage decrease for the US stock market. This includes stocks from the NYSE, Nasdaq and AMEX stock exchanges. Rankings include all day volume including pre and post market hours (4:00am to 8:00pm in New York, NY, USA).'},\n",
       " {'title': 'Top Daily Losses: US stocks posting the largest losses today - Yahoo ...',\n",
       "  'href': 'https://finance.yahoo.com/markets/stocks/losers/',\n",
       "  'body': \"Yahoo Finance's list of top losing stocks, includes share price changes, trading volume, intraday highs and lows, and day charts for stocks posting the largest losses today\"},\n",
       " {'title': \"Today's Top Stock Losers - Stock Analysis\",\n",
       "  'href': 'https://stockanalysis.com/markets/losers/',\n",
       "  'body': 'A list of the stocks with the highest percentage loss today. See stock price, volume, market cap and more.'}]"
      ]
     },
     "execution_count": 3,
     "metadata": {},
     "output_type": "execute_result"
    }
   ],
   "source": [
    "from agentic_search.functions.web import get_serp_links\n",
    "\n",
    "links = await get_serp_links(user_query)\n",
    "links\n"
   ]
  },
  {
   "cell_type": "code",
   "execution_count": 4,
   "metadata": {},
   "outputs": [
    {
     "data": {
      "text/plain": [
       "['Top Losers Today - Largest Stock Losses in the US Stock Market Clear News News Cryptocurrencies Stocks Crypto Crypto News Leaderboards Rankings Stocks Stocks News Leaderboards Rankings Top Losers Today (US Stock Market) Below we list the top losers of the day sorted by largest price percentage decrease for the US stock market. This includes stocks from the NYSE, Nasdaq and AMEX stock exchanges. Rankings include all day volume including pre and post market hours (4:00am to 8:00pm in New York, NY, USA). Most Active Top Gainers Top Losers All Stocks Stocks Under $1 Stocks Under $2 Stocks Under $5 Stocks Under $10 Nasdaq Stocks NYSE Stocks NYSE American Stocks Premarket: Premarket Most Active Premarket Gainers Premarket Losers Regular Trading Hours: Trading Hours Most Active Trading Hours Gainers Trading Hours Losers After Hours: After Hours Most Active After Hours Gainers After Hours Losers Timeframe: Today Yesterday This Week Last Week This Month Last Month This Quarter Last Quarter This Year Symbol Change % Change Price Volume Vol * Price MYNA Mynaric AG American Depository Shares -34.68% -0.2497 $0.4703 1.693M $931.74K CHEK Check-Cap Ltd. -32.00% -0.80 $1.70 232.007K $448.45K SLGL Sol-Gel Technologies Ltd. Ordinary Shares -27.00% -0.3375 $0.9125 352.67K $342.58K NCRA Nocera, Inc. Common Stock -24.83% -0.36 $1.09 255.105K $311.90K CREV Carbon Revolution Public Limited Ordinary Shares -22.99% -1.77 $5.93 962.149K $6.82M CRD.B Crawford & Company Class B -22.46% -3.10 $10.70 263 $3.13K EDBL Edible Garden AG Incorporated Common Stock -22.27% -0.0888 $0.3100 2.366M $805.93K TIRX TIAN RUIXIANG Holdings Ltd Class A Ordinary Shares -20.62% -0.40 $1.54 1.182M $2.72M DRCT Direct Digital Holdings, Inc. Class A Common Stock -19.06% -1.30 $5.52 3.107M $20.69M UBFO United Security Bancshares -16.74% -2.01 $10.00 216 $2.36K MKDW MKDWELL Tech Inc. Ordinary Share -16.66% -0.1899 $0.9501 200 $209.00 ATCH AtlasClear Holdings, Inc. -16.53% -0.0326 $0.1646 2.372K $397.00 TOVX Theriva Biologics, Inc. -15.64% -0.33 $1.78 1.564M $3.00M AVNS Avanos Medical, Inc. -14.53% -2.60 $15.30 341 $5.48K JDZG JIADE LIMITED Common stock -14.08% -0.1000 $0.6100 88.556K $56.42K RAPT RAPT Therapeutics, Inc. Common Stock -13.22% -0.23 $1.51 201.142K $314.56K LATG Chenghe Acquisition I Co. Class A Ordinary Shares -12.66% -2.03 $14.00 2.271K $35.84K IVP Inspire Veterinary Partners, Inc. Class A Common Stock -12.45% -0.0256 $0.1800 5.912K $1.08K MTNB Matinas BioPharma Holdings, Inc. -11.85% -0.0699 $0.5201 1.975K $1.10K EVCM EverCommerce Inc. Common Stock -10.83% -1.30 $10.70 211 $2.40K CNTX Context Therapeutics Inc. Common Stock -10.83% -0.13 $1.07 6.968K $7.64K SFHG Samfine Creation Holdings Group Limited Ordinary Share -10.74% -0.0945 $0.7855 19.929K $17.16K ADTX Aditxt, Inc. Common Stock -10.60% -0.0228 $0.1923 368.831K $76.62K WMK Weis Markets, Inc. -10.53% -7.80 $66.21 303 $20.85K ADGM Adagio Medical Holdings, Inc Common Stock -10.38% -0.1100 $0.9500 25.984K $24.93K GITS Global Interactive Technologies, Inc. Common Stock -10.26% -0.0318 $0.2782 141.848K $42.10K BNRG Brenmiller Energy Ltd Ordinary Shares -10.13% -0.0970 $0.8610 96.874K $85.50K KRUS Kura Sushi USA, Inc. Class A Common Stock -10.10% -10.00 $89.00 200 $18.80K BENF Beneficient Class A Common Stock -9.87% -0.0683 $0.6236 7.762K $5.21K NVNI Nvni Group Limited Ordinary Shares -9.84% -0.56 $5.13 27.799K $142.72K LTRY Lottery.com, Inc. Common Stock -9.84% -0.0455 $0.4170 57.509K $24.71K HLIO Helios Technologies, Inc. -9.84% -4.92 $45.08 211 $10.02K PWM Prestige Wealth Inc. Class A Ordinary Shares -9.48% -0.11 $1.05 8.327K $8.72K BHAT Blue Hat Interactive Entertainment Technology Ordinary Shares -9.35% -0.0130 $0.1261 62.07K $8.24K RELL Richardson Electronics Ltd -9.27% -1.39 $13.61 201 $2.88K RELI Reliance Global Group, Inc. Common Stock -9.03% -0.28 $2.82 168.139K $462.97K CRKN Crown Electrokinetics Corp. Common Stock -8.65% -0.0126 $0.1331 319.162K $43.33K APTO Aptose Biosciences, Inc. -8.31% -0.0205 $0.2263 110.657K $25.60K ICCT iCoreConnect Inc. Common stock -8.24% -0.23 $2.56 1.373K $3.66K PHIO Phio Pharmaceuticals Corp. Common Stock -8.22% -0.18 $2.01 19.668K $41.51K FRSX Foresight Autonomous Holdings Ltd. American Depositary Shares -8.05% -0.14 $1.60 20.179K $32.94K KULR KULR Technology Group, Inc. -7.96% -0.23 $2.66 681.175K $1.85M UCL uCloudlink Group Inc. American Depositary Shares -7.87% -0.17 $1.99 353 $725.00 DMN Damon Inc. Common Stock -7.79% -0.0590 $0.6980 1.302K $965.00 HOVR New Horizon Aircraft Ltd. Class A Ordinary Share -7.56% -0.0590 $0.7210 116.451K $86.49K AADI Aadi Bioscience, Inc. Common Stock -7.53% -0.21 $2.58 2.561K $6.86K TRAW Traws Pharma, Inc. Common Stock -7.50% -0.90 $11.10 14.807K $168.49K ONFO Onfolio Holdings Inc. Common Stock -7.38% -0.09 $1.13 497 $606.00 RGTI Rigetti Computing, Inc. Common Stock -7.35% -0.83 $10.47 3.809M $40.35M GLRE Greenlight Captial RE, LTD. Class A -7.33% -1.10 $13.90 208 $3.00K PBM Psyence Biomedical Ltd. Common Shares -7.17% -0.17 $2.20 43.454K $96.10K PIK Kidpik Corp. Common Stock -7.14% -0.20 $2.60 14.369K $37.07K SIDU Sidus Space, Inc. Class A Common Stock -7.13% -0.31 $4.04 144.44K $590.67K TPIC TPI Composites, Inc. Common Stock -7.03% -0.13 $1.72 18.702K $32.33K QBTS D-Wave Quantum Inc. -6.92% -0.60 $8.07 1.337M $10.98M LUXH LuxUrban Hotels Inc. Common Stock -6.91% -0.0677 $0.9123 300 $287.00 IVVD Invivyd, Inc. Common Stock -6.69% -0.0338 $0.4712 451 $219.00 TNXP Tonix Pharmaceuticals Holding Corp. -6.67% -0.0288 $0.4028 2.198M $908.83K EVC Entravision Communication -6.56% -0.17 $2.42 2.074K $5.09K AUTL Autolus Therapeutics plc American Depositary Share -6.52% -0.15 $2.15 1.29K $2.93K CTGO Contango ORE, Inc. -6.42% -0.70 $10.20 206 $2.17K AUUD Auddia Inc. Common Stock -6.34% -0.0349 $0.5158 9.661M $6.86M ABP Abpro Holdings, Inc Common Stock -6.33% -0.14 $2.07 4.532K $9.63K KTB Kontoor Brands, Inc. Common Stock -6.14% -5.71 $87.30 303 $27.61K CZNC Citizens & Northern Corporation -6.08% -1.18 $18.22 415 $7.81K OPTX Syntec Optics Holdings, Inc. Class A Common Stock -6.07% -0.19 $2.94 41.214K $123.72K LDTC LeddarTech Holdings Inc. Common Shares -6.06% -0.0503 $0.7797 15.132K $11.73K FA First Advantage Corporation Common Stock -6.06% -1.20 $18.60 208 $3.99K HTOO Fusion Fuel Green PLC Class A Ordinary Shares -5.97% -0.0349 $0.5500 9.715K $5.56K MYSZ My Size, Inc -5.84% -0.25 $4.03 8.421K $35.19K LGHL Lion Group Holding Ltd. American Depositary Share -5.71% -0.0100 $0.1650 7.9K $1.38K AEMD AETHLON MEDICAL INC -5.63% -0.0312 $0.5226 63.098K $34.42K GPRO GoPro, Inc. -5.56% -0.06 $1.02 15.017K $15.67K JFIN Jiayin Group Inc. American Depositary Shares -5.56% -0.35 $5.95 1.457M $8.75M DRMA Dermata Therapeutics, Inc. Common Stock -5.51% -0.07 $1.20 10.332K $12.61K GTI Graphjet Technology Class A Ordinary Shares -5.51% -0.0125 $0.2145 24.056K $5.02K AAT AMERICAN ASSETS TRUST, INC. -5.50% -1.54 $26.46 201 $5.63K SLDP Solid Power, Inc. Class A Common Stock -5.33% -0.08 $1.42 32.622K $46.25K RBCAA Republic Bancorp Inc/KY -5.26% -4.00 $72.00 240 $17.68K POAI Predictive Oncology Inc. Common Stock -5.25% -0.0360 $0.6500 427 $293.00 QTI QT Imaging Holdings, Inc. Common Stock -5.23% -0.0218 $0.3953 7.824K $3.28K QSI Quantum-Si Incorporated Class A Common Stock -5.15% -0.07 $1.29 395.712K $510.47K ANTX AN2 Therapeutics, Inc. Common Stock -5.00% -0.07 $1.33 205 $280.00 MGOL MGO Global Inc. Common Stock -5.00% -0.0242 $0.4599 149.604K $69.04K TWG Top Wealth Group Holding Limited Ordinary Shares -4.87% -0.0098 $0.1913 17.417K $3.48K KWR Quaker Houghton -4.86% -7.00 $137.01 405 $56.21K EVRG Evergy, Inc. -4.84% -3.05 $60.00 211 $12.99K FWRD Forward Air Corp -4.83% -1.41 $27.80 205 $5.84K VFF Village Farms International, Inc. Common Shares -4.76% -0.0325 $0.6500 500 $341.00 BMR Beamr Imaging Ltd. Ordinary Share -4.74% -0.18 $3.62 1.382K $5.02K WKEY WISeKey International Holding AG American Depositary Shares -4.71% -0.48 $9.72 83.873K $827.41K BSLK Bolt Projects Holdings, Inc. Common Stock -4.68% -0.0159 $0.3241 404 $134.00 NXU Nxu, Inc. Class A Common Stock -4.63% -0.0110 $0.2265 15.164K $3.59K LIVN LivaNova PLC Ordinary Shares -4.60% -2.30 $47.70 306 $14.83K ATPC Agape ATP Corporation Common Stock -4.58% -0.06 $1.25 7.856K $9.50K LICY Li-Cycle Holdings Corp. -4.40% -0.07 $1.52 6.364K $9.79K CVLG Covenant Logistics Group, Inc. Class A Common Stock -4.34% -2.42 $53.40 203 $11.08K QMCO Quantum Corporation -4.34% -2.04 $45.00 18.916K $847.31K SGBX Safe & Green Holdings Corp. Common Stock -4.27% -0.0181 $0.4060 913 $380.00 TNL Travel + Leisure Co. -4.25% -2.19 $49.30 211 $10.63K Made for Traders & Investors. Popular Leaderboards Top Gainers All Stocks Nasdaq Stocks Top Losers Stocks Under $1 NYSE Stocks Most Active Premarket Most Active Premarket Gainers After Hours Gainers News Stock Market News Crypto News Stocks Stock Market News Leaderboards Rankings Follow Us Twitter Facebook Youtube Linkedin Crypto Crypto News Leaderboards Rankings © 2024 Temperature Labs Pty. Ltd. All rights reserved. Terms of Service Privacy Policy Contact Us\\n\\nSOURCE: https://www.finsuba.com/leaderboards/us-stocks/today/top-losers/\\n\\n',\n",
       " 'Yahooist Teil der Yahoo Markenfamilie guce guce Yahoo ist Teil der Yahoo Markenfamilie Die Websites und Apps, die wir betreiben und verwalten, einschließlich Yahoo und AOL, sowie unser digitaler Werbedienst Yahoo Advertising. Yahoo Markenfamilie. Bei der Nutzung unserer Websites und Apps verwenden wir Cookies Mithilfe von Cookies (einschließlich ähnlicher Technologien wie der Webspeicherung) können die Betreiber von Websites und Apps Informationen auf Ihrem Gerät speichern und ablesen. Weitere Informationen finden Sie in unserer Cookie-Richtlinie . Cookies , um: unsere Websites und Apps für Sie bereitzustellen Nutzer zu authentifizieren, Sicherheitsmaßnahmen anzuwenden und Spam und Missbrauch zu verhindern, und Ihre Nutzung unserer Websites und Apps zu messen Wenn Sie auf „ Alle akzeptieren “ klicken, speichern wir und unsere Partner , einschließlich der 238 Partner, die dem IAB Transparency & Consent Framework angehören, Informationen auf einem Gerät (d.\\xa0h. wir verwenden Cookies) und können auf diese zugreifen. Wir verwenden genaue Standortdaten und andere personenbezogene Daten wie IP-Adressen, Browsing- und Suchdaten für personalisierte Werbung und Inhalte, zur Messung von Werbung und Inhalten, zur Zielgruppenforschung und zur Weiterentwicklung von Diensten. Klicken Sie auf „ Alle ablehnen “, wenn Sie nicht möchten, dass wir und unsere Partner Cookies und personenbezogene Daten für diese zusätzlichen Zwecke verwenden. Wenn Sie Ihre Auswahl anpassen möchten, klicken Sie auf „ Datenschutzeinstellungen verwalten “. Sie können Ihre Einstellungen jederzeit ändern, indem Sie auf unseren Websites und Apps auf den Link „Datenschutz- und Cookie-Einstellungen“ oder „Datenschutz-Dashboard“ klicken. Weitere Informationen darüber, wie wir Ihre personenbezogenen Daten nutzen, finden Sie in unserer Datenschutzerklärung und unserer Cookie-Richtlinie . Alle akzeptieren Alle ablehnen Datenschutzeinstellungen verwalten Zum Ende\\n\\nSOURCE: https://finance.yahoo.com/markets/stocks/losers/\\n\\n',\n",
       " \"Today's Top Stock Losers - Stock Analysis Skip to main content Log In Sign Up Home Stocks Stock Screener Stock Exchanges Comparison Tool Earnings Calendar By Industry Stock Lists Top Analysts Top Stocks Corporate Actions IPOs Recent IPOs IPO Calendar IPO Statistics IPO News IPO Screener ETFs ETF Screener Comparison Tool New Launches ETF Providers News Trending Articles Market Movers Top Gainers Top Losers Most Active Premarket After Hours Market Newsletter Stock Analysis Pro Watchlist Collapse Market Movers Gainers Losers Active Premarket After Hours Today Week Month YTD Year 3 Years 5 Years Stock Indexes - Dec 23, 2024 S&P500 0.60% Nasdaq 100 0.81% Dow Jones 0.08% Russell 2000 -0.23% Losers Today Updated Dec 23, 2024 20 Rows Download Indicators No. Symbol Company Name % Change Stock Price Volume Market Cap 1 YHC LQR House Inc. -36.57% 1.11 1,271,333 7.80M 2 ADGM Adagio Medical Holdings, Inc. -33.94% 1.09 4,751,067 15.84M 3 NVNI Nvni Group Limited -33.57% 5.70 5,143,485 163.15M 4 MOBX Mobix Labs, Inc. -32.09% 1.27 1,721,490 38.85M 5 RENB Renovaro Inc. -31.71% 1.12 1,271,755 177.76M 6 HTLM HomesToLife Ltd -31.55% 8.59 201,944 126.17M 7 XBIT XBiotech Inc. -29.47% 4.50 472,629 137.18M 8 MYNZ Mainz Biomed N.V. -25.75% 4.96 188,240 3.17M 9 PBM Psyence Biomedical Ltd. -25.16% 2.38 1,566,528 2.37M 10 TPIC TPI Composites, Inc. -24.58% 1.81 4,996,032 86.09M 11 FRES Fresh2 Group Limited -23.42% 0.85 143,779 1.89M 12 BEDU Bright Scholar Education Holdings Limited -22.70% 1.43 149,111 42.51M 13 YSXT YSX Tech. Co., Ltd -22.22% 3.50 225,361 81.38M 14 WHLM Wilhelmina International, Inc. -21.55% 3.24 111,196 16.71M 15 MGLD The Marygold Companies, Inc. -19.51% 1.65 46,550 66.54M 16 SIF SIFCO Industries, Inc. -18.75% 3.25 21,384 20.08M 17 ICG Intchains Group Limited -18.13% 7.18 234,284 430.35M 18 DMAC DiaMedica Therapeutics Inc. -16.15% 5.38 201,722 229.84M 19 DM Desktop Metal, Inc. -16.14% 2.39 1,260,692 79.69M 20 CNCK Coincheck Group N.V. -15.87% 6.89 139,500 893.65M Previous Page 1 of 118 20 Rows Next Sections Stocks IPOs ETFs Blog Services Stock Analysis Pro Free Newsletter Get Support Website Login FAQ Changelog Sitemap Advertise Company About Contact Us Terms of Use Privacy Policy Data Disclaimer Market Newsletter Daily market news in bullet point format. Subscribe © 2024 Stock Analysis. All rights reserved.\\n\\nSOURCE: https://stockanalysis.com/markets/losers/\\n\\n\"]"
      ]
     },
     "execution_count": 4,
     "metadata": {},
     "output_type": "execute_result"
    }
   ],
   "source": [
    "from agentic_search.functions.web import get_webpages_soups_text_async\n",
    "\n",
    "res = await get_webpages_soups_text_async([x[\"href\"] for x in links])\n",
    "res"
   ]
  },
  {
   "cell_type": "markdown",
   "metadata": {},
   "source": [
    "## test chains"
   ]
  },
  {
   "cell_type": "code",
   "execution_count": 5,
   "metadata": {},
   "outputs": [
    {
     "data": {
      "text/plain": [
       "{'queries': ['latest top loser in the American stock market December 2024',\n",
       "  'biggest stock market losers USA December 2024',\n",
       "  'worst performing stocks in the US market December 2024',\n",
       "  'largest stock declines in the American market December 2024',\n",
       "  'top losing stocks on NYSE and NASDAQ December 2024',\n",
       "  'recent stock market losers USA December 2024',\n",
       "  'biggest stock drops in the US market December 2024']}"
      ]
     },
     "execution_count": 5,
     "metadata": {},
     "output_type": "execute_result"
    }
   ],
   "source": [
    "from agentic_search.chains.web import get_web_search_queries_chain\n",
    "\n",
    "chain = get_web_search_queries_chain()\n",
    "res = chain.invoke({\"query\": user_query})\n",
    "res\n"
   ]
  },
  {
   "cell_type": "code",
   "execution_count": 6,
   "metadata": {},
   "outputs": [
    {
     "data": {
      "text/plain": [
       "{'query': 'latest top loser American stock market December 2024'}"
      ]
     },
     "execution_count": 6,
     "metadata": {},
     "output_type": "execute_result"
    }
   ],
   "source": [
    "from agentic_search.chains.web import get_web_search_query_chain\n",
    "\n",
    "chain = get_web_search_query_chain()\n",
    "res = chain.invoke({\"query\": user_query})\n",
    "res"
   ]
  },
  {
   "cell_type": "markdown",
   "metadata": {},
   "source": [
    "## test tools"
   ]
  },
  {
   "cell_type": "code",
   "execution_count": 7,
   "metadata": {},
   "outputs": [
    {
     "name": "stdout",
     "output_type": "stream",
     "text": [
      "\u001b[36m[DEBUG] \n",
      "invoking thorough web search tool with query: what is the latest top loser in the American stock market\n",
      "\u001b[0m\n",
      "\u001b[36m[DEBUG] \n",
      "serp results for query latest top loser in the American stock market December 2024: [{'title': 'Top Stock Losers In The Past Week - Stock Analysis', 'href': 'https://stockanalysis.com/markets/losers/week/', 'body': 'Top Gainers; Top Losers; Most Active; Premarket; After Hours; Market Newsletter. Stock Analysis Pro. Watchlist. ... 5 Years; Stock Indexes - 1 Week. S&P500-3.35%. Nasdaq 100-3.07%. Dow Jones-3.70%. Russell 2000-6.18%. Week Losers. Updated Dec 19, 2024. 20 Rows. Download. Indicators. No. Symbol Company Name Change 1W Stock Price Volume Market ...'}, {'title': 'Top Losing Stocks Today | Biggest Market Declines - Public.com', 'href': 'https://public.com/markets/top-losers', 'body': \"Top Losers. Last updated Dec 23, 2024 at 1:05 AM. Discover today's top-losing stocks with real-time data to help investors and traders stay informed on the latest market shifts. This data includes the 50 US-listed stocks with the steepest losses, with key financial metrics like daily change, market cap, trading volume, and daily highs and ...\"}, {'title': '10 Stocks That Are the Biggest Losers of 2024 | Money', 'href': 'https://money.com/stocks-underperforming-the-market-2024/', 'body': 'The S&P 500, a benchmark index commonly used to measure the performance of the broad U.S. stock market, has hit record high after record high this year as companies posted record earnings and investors anticipated the current lower-interest-rate environment. As of Monday, the index is up more than 20% in 2024.'}]\n",
      "\u001b[0m\n"
     ]
    }
   ],
   "source": [
    "from agentic_search.tools.web import get_agentic_thorough_web_search_results_tool\n",
    "\n",
    "res = await get_agentic_thorough_web_search_results_tool(user_query, 2)\n",
    "# write results to file for consultation\n",
    "with open(\"scratchpad.md\", \"w\") as f:\n",
    "    f.write(res)"
   ]
  },
  {
   "cell_type": "code",
   "execution_count": 8,
   "metadata": {},
   "outputs": [
    {
     "name": "stdout",
     "output_type": "stream",
     "text": [
      "\u001b[36m[DEBUG] \n",
      "invoking quickweb search tool with query: what is the latest top loser in the American stock market\n",
      "\u001b[0m\n",
      "\u001b[36m[DEBUG] \n",
      "serp results for query latest top loser American stock market December 2024: [{'title': 'Top Losing Stocks Today | Biggest Market Declines - Public.com', 'href': 'https://public.com/markets/top-losers', 'body': \"Top Losers. Last updated Dec 23, 2024 at 1:05 AM. Discover today's top-losing stocks with real-time data to help investors and traders stay informed on the latest market shifts. This data includes the 50 US-listed stocks with the steepest losses, with key financial metrics like daily change, market cap, trading volume, and daily highs and ...\"}, {'title': 'Top Stock Losers In The Past Week - Stock Analysis', 'href': 'https://stockanalysis.com/markets/losers/week/', 'body': 'Top Gainers; Top Losers; Most Active; Premarket; After Hours; Market Newsletter. Stock Analysis Pro. Watchlist. ... 5 Years; Stock Indexes - 1 Week. S&P500-3.35%. Nasdaq 100-3.07%. Dow Jones-3.70%. Russell 2000-6.18%. Week Losers. Updated Dec 19, 2024. 20 Rows. Download. Indicators. No. Symbol Company Name Change 1W Stock Price Volume Market ...'}, {'title': '10 Stocks That Are the Biggest Losers of 2024 | Money', 'href': 'https://money.com/stocks-underperforming-the-market-2024/', 'body': 'The S&P 500, a benchmark index commonly used to measure the performance of the broad U.S. stock market, has hit record high after record high this year as companies posted record earnings and investors anticipated the current lower-interest-rate environment. As of Monday, the index is up more than 20% in 2024.'}]\n",
      "\u001b[0m\n"
     ]
    }
   ],
   "source": [
    "from agentic_search.tools.web import get_agentic_quick_web_search_results_tool\n",
    "\n",
    "res = await get_agentic_quick_web_search_results_tool(user_query, 6)\n",
    "# write results to file for consultation\n",
    "with open(\"scratchpad.md\", \"w\") as f:\n",
    "    f.write(res)"
   ]
  },
  {
   "cell_type": "markdown",
   "metadata": {},
   "source": [
    "## test capabilities"
   ]
  },
  {
   "cell_type": "code",
   "execution_count": 1,
   "metadata": {},
   "outputs": [
    {
     "name": "stdout",
     "output_type": "stream",
     "text": [
      "\u001b[36m[DEBUG] \n",
      "invoking web search agent with messages: [SystemMessage(content='You are a precise research assistant with web search capabilities. Your tasks:\\n1. Provide accurate, current information\\n2. Synthesize multi-source information concisely\\n3. Include citations and maintain objectivity\\n\\nFocus on authoritative, verifiable sources only.\\n\\nSkip web search if you are completely certain of information.\\nOtherwise, perform targeted searches as needed.\\nToday is 2024-12-24.', additional_kwargs={}, response_metadata={}), HumanMessage(content='what is the ticker symbol of the biggest yoghurt company in the worldAnswer in JSON format: {\"content\": \"your results\"}', additional_kwargs={}, response_metadata={}, id='449627b9-c753-4620-80b1-3fa4f71d37d5')]\n",
      "\u001b[0m\n",
      "\u001b[36m[DEBUG] \n",
      "invoking quickweb search tool with query: biggest yogurt company in the world 2024\n",
      "\u001b[0m\n",
      "\u001b[36m[DEBUG] \n",
      "serp results for query largest yogurt company in the world 2024: [{'title': '15 Largest Yogurt Companies And Brands In The World - Zippia', 'href': 'https://www.zippia.com/advice/largest-yogurt-companies/', 'body': 'The 15 Largest Yogurt Companies and Brands in the World: A Closer Look. Dannon. Headquarters: Horsham, Pennsylvania. Dannon, or Danone internationally, is a yogurt company with 100 years of history. Isaac Carasso originally kickstarted the brand in 1919, naming the business after his son Daniel.'}, {'title': '15 Biggest Yogurt Companies in the World - Insider Monkey', 'href': 'https://www.insidermonkey.com/blog/15-biggest-yogurt-companies-in-the-world-918815/', 'body': \"The world's largest yogurt companies primarily distribute in the European and American markets. ... In August 2024, news outlets around the world revealed one of the most shocking data breaches ...\"}, {'title': 'Yogurt Market Size & Share Analysis - Industry Research Report - Growth ...', 'href': 'https://www.mordorintelligence.com/industry-reports/yogurt-market', 'body': 'The Global Yogurt Market is expected to reach USD 105.61 billion in 2024 and grow at a CAGR of 5.16% to reach USD 135.84 billion by 2029. China Mengniu Dairy Company Ltd, Danone SA, Inner Mongolia Yili Industrial Group Co. Ltd, Nestlé SA and Yakult Honsha Co. Ltd are the major companies operating in the market.'}]\n",
      "\u001b[0m\n",
      "\u001b[36m[DEBUG] \n",
      "invoking web search agent with messages: [SystemMessage(content='You are a precise research assistant with web search capabilities. Your tasks:\\n1. Provide accurate, current information\\n2. Synthesize multi-source information concisely\\n3. Include citations and maintain objectivity\\n\\nFocus on authoritative, verifiable sources only.\\n\\nSkip web search if you are completely certain of information.\\nOtherwise, perform targeted searches as needed.\\nToday is 2024-12-24.', additional_kwargs={}, response_metadata={}), HumanMessage(content='what is the ticker symbol of the biggest yoghurt company in the worldAnswer in JSON format: {\"content\": \"your results\"}', additional_kwargs={}, response_metadata={}, id='449627b9-c753-4620-80b1-3fa4f71d37d5'), AIMessage(content='', additional_kwargs={'tool_calls': [{'index': 0, 'id': 'call_MTQ4o43JOe1bogRBCcKHvlYh', 'function': {'arguments': '{\"query\":\"biggest yogurt company in the world 2024\",\"estimated_number_of_searches\":2}', 'name': 'get_agentic_quick_web_search_results_tool'}, 'type': 'function'}]}, response_metadata={'finish_reason': 'tool_calls', 'model_name': 'gpt-4o-2024-08-06', 'system_fingerprint': 'fp_5f20662549'}, id='run-fcd75202-e457-4cb4-b6ee-738a68330d4d-0', tool_calls=[{'name': 'get_agentic_quick_web_search_results_tool', 'args': {'query': 'biggest yogurt company in the world 2024', 'estimated_number_of_searches': 2}, 'id': 'call_MTQ4o43JOe1bogRBCcKHvlYh', 'type': 'tool_call'}], usage_metadata={'input_tokens': 264, 'output_tokens': 39, 'total_tokens': 303, 'input_token_details': {'audio': 0, 'cache_read': 0}, 'output_token_details': {'audio': 0, 'reasoning': 0}}), ToolMessage(content='{\"content\": \"The biggest yogurt company in the world in 2024 is Danone SA, with a market share of 12.96%.\"}', name='get_agentic_quick_web_search_results_tool', id='cfec84b9-3cb2-496c-8e16-5c81d5770b33', tool_call_id='call_MTQ4o43JOe1bogRBCcKHvlYh')]\n",
      "\u001b[0m\n",
      "\u001b[36m[DEBUG] \n",
      "invoking quickweb search tool with query: Danone SA ticker symbol\n",
      "\u001b[0m\n",
      "\u001b[36m[DEBUG] \n",
      "serp results for query Danone SA stock ticker symbol 2024: [{'title': 'Danone S.A. (BN.PA) Stock Price, News, Quote & History - Yahoo Finance', 'href': 'https://finance.yahoo.com/quote/BN.PA/', 'body': 'Find the latest Danone S.A. (BN.PA) stock quote, history, news and other vital information to help you with your stock trading and investing.'}, {'title': 'DANONE | FR0000120644 | Euronext exchange Live quotes', 'href': 'https://live.euronext.com/en/product/equities/FR0000120644-XPAR', 'body': 'Stock DANONE Common Stock FR0000120644 XPAR Euronext Paris Live Euronext quotes, realtime prices, ... 19/11/2024 Danone: Information on the total number of voting rights and shares 19/11/2024 ... Stock futures; Quote Vendor Codes; Company regulated news. Latest; Archive; Brussels. Cash products. Stocks.'}, {'title': 'BN Stock Price Quote - Morningstar', 'href': 'https://www.morningstar.com/stocks/xpar/bn/quote', 'body': 'See the latest Danone SA stock price (BN:XPAR), related news, ... 2024 1:07pm. Lifeway Foods Gets Higher Acquisition Offer From Danone — Update ... Danone SA ADR. DANOY Standard: Narrow: $43.5 Bil:'}]\n",
      "\u001b[0m\n",
      "\u001b[36m[DEBUG] \n",
      "invoking web search agent with messages: [SystemMessage(content='You are a precise research assistant with web search capabilities. Your tasks:\\n1. Provide accurate, current information\\n2. Synthesize multi-source information concisely\\n3. Include citations and maintain objectivity\\n\\nFocus on authoritative, verifiable sources only.\\n\\nSkip web search if you are completely certain of information.\\nOtherwise, perform targeted searches as needed.\\nToday is 2024-12-24.', additional_kwargs={}, response_metadata={}), HumanMessage(content='what is the ticker symbol of the biggest yoghurt company in the worldAnswer in JSON format: {\"content\": \"your results\"}', additional_kwargs={}, response_metadata={}, id='449627b9-c753-4620-80b1-3fa4f71d37d5'), AIMessage(content='', additional_kwargs={'tool_calls': [{'index': 0, 'id': 'call_MTQ4o43JOe1bogRBCcKHvlYh', 'function': {'arguments': '{\"query\":\"biggest yogurt company in the world 2024\",\"estimated_number_of_searches\":2}', 'name': 'get_agentic_quick_web_search_results_tool'}, 'type': 'function'}]}, response_metadata={'finish_reason': 'tool_calls', 'model_name': 'gpt-4o-2024-08-06', 'system_fingerprint': 'fp_5f20662549'}, id='run-fcd75202-e457-4cb4-b6ee-738a68330d4d-0', tool_calls=[{'name': 'get_agentic_quick_web_search_results_tool', 'args': {'query': 'biggest yogurt company in the world 2024', 'estimated_number_of_searches': 2}, 'id': 'call_MTQ4o43JOe1bogRBCcKHvlYh', 'type': 'tool_call'}], usage_metadata={'input_tokens': 264, 'output_tokens': 39, 'total_tokens': 303, 'input_token_details': {'audio': 0, 'cache_read': 0}, 'output_token_details': {'audio': 0, 'reasoning': 0}}), ToolMessage(content='{\"content\": \"The biggest yogurt company in the world in 2024 is Danone SA, with a market share of 12.96%.\"}', name='get_agentic_quick_web_search_results_tool', id='cfec84b9-3cb2-496c-8e16-5c81d5770b33', tool_call_id='call_MTQ4o43JOe1bogRBCcKHvlYh'), AIMessage(content='', additional_kwargs={'tool_calls': [{'index': 0, 'id': 'call_rs79Q9JobjMffmcy56ZTpsOZ', 'function': {'arguments': '{\"query\":\"Danone SA ticker symbol\",\"estimated_number_of_searches\":1}', 'name': 'get_agentic_quick_web_search_results_tool'}, 'type': 'function'}]}, response_metadata={'finish_reason': 'tool_calls', 'model_name': 'gpt-4o-2024-08-06', 'system_fingerprint': 'fp_5f20662549'}, id='run-ae44783e-5256-46a5-9d57-72ee516a6110-0', tool_calls=[{'name': 'get_agentic_quick_web_search_results_tool', 'args': {'query': 'Danone SA ticker symbol', 'estimated_number_of_searches': 1}, 'id': 'call_rs79Q9JobjMffmcy56ZTpsOZ', 'type': 'tool_call'}], usage_metadata={'input_tokens': 349, 'output_tokens': 34, 'total_tokens': 383, 'input_token_details': {'audio': 0, 'cache_read': 0}, 'output_token_details': {'audio': 0, 'reasoning': 0}}), ToolMessage(content='{\"content\": \"\"}', name='get_agentic_quick_web_search_results_tool', id='851208b2-be8e-4af5-804d-2950c1c06c39', tool_call_id='call_rs79Q9JobjMffmcy56ZTpsOZ')]\n",
      "\u001b[0m\n",
      "\u001b[36m[DEBUG] \n",
      "invoking quickweb search tool with query: Danone SA stock ticker symbol\n",
      "\u001b[0m\n",
      "\u001b[36m[DEBUG] \n",
      "serp results for query Danone SA stock ticker symbol 2024: [{'title': 'Danone S.A. (BN.PA) Stock Price, News, Quote & History - Yahoo Finance', 'href': 'https://finance.yahoo.com/quote/BN.PA/', 'body': 'Find the latest Danone S.A. (BN.PA) stock quote, history, news and other vital information to help you with your stock trading and investing.'}, {'title': 'DANONE | FR0000120644 | Euronext exchange Live quotes', 'href': 'https://live.euronext.com/en/product/equities/FR0000120644-XPAR', 'body': 'Stock DANONE Common Stock FR0000120644 XPAR Euronext Paris Live Euronext quotes, realtime prices, ... 19/11/2024 Danone: Information on the total number of voting rights and shares 19/11/2024 ... Stock futures; Quote Vendor Codes; Company regulated news. Latest; Archive; Brussels. Cash products. Stocks.'}, {'title': 'BN Stock Price Quote - Morningstar', 'href': 'https://www.morningstar.com/stocks/xpar/bn/quote', 'body': 'See the latest Danone SA stock price (BN:XPAR), related news, ... 2024 1:07pm. Lifeway Foods Gets Higher Acquisition Offer From Danone — Update ... Danone SA ADR. DANOY Standard: Narrow: $43.5 Bil:'}]\n",
      "\u001b[0m\n",
      "\u001b[36m[DEBUG] \n",
      "invoking web search agent with messages: [SystemMessage(content='You are a precise research assistant with web search capabilities. Your tasks:\\n1. Provide accurate, current information\\n2. Synthesize multi-source information concisely\\n3. Include citations and maintain objectivity\\n\\nFocus on authoritative, verifiable sources only.\\n\\nSkip web search if you are completely certain of information.\\nOtherwise, perform targeted searches as needed.\\nToday is 2024-12-24.', additional_kwargs={}, response_metadata={}), HumanMessage(content='what is the ticker symbol of the biggest yoghurt company in the worldAnswer in JSON format: {\"content\": \"your results\"}', additional_kwargs={}, response_metadata={}, id='449627b9-c753-4620-80b1-3fa4f71d37d5'), AIMessage(content='', additional_kwargs={'tool_calls': [{'index': 0, 'id': 'call_MTQ4o43JOe1bogRBCcKHvlYh', 'function': {'arguments': '{\"query\":\"biggest yogurt company in the world 2024\",\"estimated_number_of_searches\":2}', 'name': 'get_agentic_quick_web_search_results_tool'}, 'type': 'function'}]}, response_metadata={'finish_reason': 'tool_calls', 'model_name': 'gpt-4o-2024-08-06', 'system_fingerprint': 'fp_5f20662549'}, id='run-fcd75202-e457-4cb4-b6ee-738a68330d4d-0', tool_calls=[{'name': 'get_agentic_quick_web_search_results_tool', 'args': {'query': 'biggest yogurt company in the world 2024', 'estimated_number_of_searches': 2}, 'id': 'call_MTQ4o43JOe1bogRBCcKHvlYh', 'type': 'tool_call'}], usage_metadata={'input_tokens': 264, 'output_tokens': 39, 'total_tokens': 303, 'input_token_details': {'audio': 0, 'cache_read': 0}, 'output_token_details': {'audio': 0, 'reasoning': 0}}), ToolMessage(content='{\"content\": \"The biggest yogurt company in the world in 2024 is Danone SA, with a market share of 12.96%.\"}', name='get_agentic_quick_web_search_results_tool', id='cfec84b9-3cb2-496c-8e16-5c81d5770b33', tool_call_id='call_MTQ4o43JOe1bogRBCcKHvlYh'), AIMessage(content='', additional_kwargs={'tool_calls': [{'index': 0, 'id': 'call_rs79Q9JobjMffmcy56ZTpsOZ', 'function': {'arguments': '{\"query\":\"Danone SA ticker symbol\",\"estimated_number_of_searches\":1}', 'name': 'get_agentic_quick_web_search_results_tool'}, 'type': 'function'}]}, response_metadata={'finish_reason': 'tool_calls', 'model_name': 'gpt-4o-2024-08-06', 'system_fingerprint': 'fp_5f20662549'}, id='run-ae44783e-5256-46a5-9d57-72ee516a6110-0', tool_calls=[{'name': 'get_agentic_quick_web_search_results_tool', 'args': {'query': 'Danone SA ticker symbol', 'estimated_number_of_searches': 1}, 'id': 'call_rs79Q9JobjMffmcy56ZTpsOZ', 'type': 'tool_call'}], usage_metadata={'input_tokens': 349, 'output_tokens': 34, 'total_tokens': 383, 'input_token_details': {'audio': 0, 'cache_read': 0}, 'output_token_details': {'audio': 0, 'reasoning': 0}}), ToolMessage(content='{\"content\": \"\"}', name='get_agentic_quick_web_search_results_tool', id='851208b2-be8e-4af5-804d-2950c1c06c39', tool_call_id='call_rs79Q9JobjMffmcy56ZTpsOZ'), AIMessage(content='', additional_kwargs={'tool_calls': [{'index': 0, 'id': 'call_YVRUhVXWZAZv6btmitsIyHdH', 'function': {'arguments': '{\"query\":\"Danone SA stock ticker symbol\",\"estimated_number_of_searches\":1}', 'name': 'get_agentic_quick_web_search_results_tool'}, 'type': 'function'}]}, response_metadata={'finish_reason': 'tool_calls', 'model_name': 'gpt-4o-2024-08-06', 'system_fingerprint': 'fp_5f20662549'}, id='run-adc3b79c-5786-4595-9cf4-e33aeb6df91b-0', tool_calls=[{'name': 'get_agentic_quick_web_search_results_tool', 'args': {'query': 'Danone SA stock ticker symbol', 'estimated_number_of_searches': 1}, 'id': 'call_YVRUhVXWZAZv6btmitsIyHdH', 'type': 'tool_call'}], usage_metadata={'input_tokens': 402, 'output_tokens': 35, 'total_tokens': 437, 'input_token_details': {'audio': 0, 'cache_read': 0}, 'output_token_details': {'audio': 0, 'reasoning': 0}}), ToolMessage(content='{\"content\": \"The stock ticker symbol for Danone SA is BN.\"}', name='get_agentic_quick_web_search_results_tool', id='6f3fc3fe-a517-484c-a647-7c882b032e65', tool_call_id='call_YVRUhVXWZAZv6btmitsIyHdH')]\n",
      "\u001b[0m\n",
      "\u001b[36m[DEBUG] \n",
      "Web search capability result: {'messages': [HumanMessage(content='what is the ticker symbol of the biggest yoghurt company in the worldAnswer in JSON format: {\"content\": \"your results\"}', additional_kwargs={}, response_metadata={}, id='449627b9-c753-4620-80b1-3fa4f71d37d5'), AIMessage(content='', additional_kwargs={'tool_calls': [{'index': 0, 'id': 'call_MTQ4o43JOe1bogRBCcKHvlYh', 'function': {'arguments': '{\"query\":\"biggest yogurt company in the world 2024\",\"estimated_number_of_searches\":2}', 'name': 'get_agentic_quick_web_search_results_tool'}, 'type': 'function'}]}, response_metadata={'finish_reason': 'tool_calls', 'model_name': 'gpt-4o-2024-08-06', 'system_fingerprint': 'fp_5f20662549'}, id='run-fcd75202-e457-4cb4-b6ee-738a68330d4d-0', tool_calls=[{'name': 'get_agentic_quick_web_search_results_tool', 'args': {'query': 'biggest yogurt company in the world 2024', 'estimated_number_of_searches': 2}, 'id': 'call_MTQ4o43JOe1bogRBCcKHvlYh', 'type': 'tool_call'}], usage_metadata={'input_tokens': 264, 'output_tokens': 39, 'total_tokens': 303, 'input_token_details': {'audio': 0, 'cache_read': 0}, 'output_token_details': {'audio': 0, 'reasoning': 0}}), ToolMessage(content='{\"content\": \"The biggest yogurt company in the world in 2024 is Danone SA, with a market share of 12.96%.\"}', name='get_agentic_quick_web_search_results_tool', id='cfec84b9-3cb2-496c-8e16-5c81d5770b33', tool_call_id='call_MTQ4o43JOe1bogRBCcKHvlYh'), AIMessage(content='', additional_kwargs={'tool_calls': [{'index': 0, 'id': 'call_rs79Q9JobjMffmcy56ZTpsOZ', 'function': {'arguments': '{\"query\":\"Danone SA ticker symbol\",\"estimated_number_of_searches\":1}', 'name': 'get_agentic_quick_web_search_results_tool'}, 'type': 'function'}]}, response_metadata={'finish_reason': 'tool_calls', 'model_name': 'gpt-4o-2024-08-06', 'system_fingerprint': 'fp_5f20662549'}, id='run-ae44783e-5256-46a5-9d57-72ee516a6110-0', tool_calls=[{'name': 'get_agentic_quick_web_search_results_tool', 'args': {'query': 'Danone SA ticker symbol', 'estimated_number_of_searches': 1}, 'id': 'call_rs79Q9JobjMffmcy56ZTpsOZ', 'type': 'tool_call'}], usage_metadata={'input_tokens': 349, 'output_tokens': 34, 'total_tokens': 383, 'input_token_details': {'audio': 0, 'cache_read': 0}, 'output_token_details': {'audio': 0, 'reasoning': 0}}), ToolMessage(content='{\"content\": \"\"}', name='get_agentic_quick_web_search_results_tool', id='851208b2-be8e-4af5-804d-2950c1c06c39', tool_call_id='call_rs79Q9JobjMffmcy56ZTpsOZ'), AIMessage(content='', additional_kwargs={'tool_calls': [{'index': 0, 'id': 'call_YVRUhVXWZAZv6btmitsIyHdH', 'function': {'arguments': '{\"query\":\"Danone SA stock ticker symbol\",\"estimated_number_of_searches\":1}', 'name': 'get_agentic_quick_web_search_results_tool'}, 'type': 'function'}]}, response_metadata={'finish_reason': 'tool_calls', 'model_name': 'gpt-4o-2024-08-06', 'system_fingerprint': 'fp_5f20662549'}, id='run-adc3b79c-5786-4595-9cf4-e33aeb6df91b-0', tool_calls=[{'name': 'get_agentic_quick_web_search_results_tool', 'args': {'query': 'Danone SA stock ticker symbol', 'estimated_number_of_searches': 1}, 'id': 'call_YVRUhVXWZAZv6btmitsIyHdH', 'type': 'tool_call'}], usage_metadata={'input_tokens': 402, 'output_tokens': 35, 'total_tokens': 437, 'input_token_details': {'audio': 0, 'cache_read': 0}, 'output_token_details': {'audio': 0, 'reasoning': 0}}), ToolMessage(content='{\"content\": \"The stock ticker symbol for Danone SA is BN.\"}', name='get_agentic_quick_web_search_results_tool', id='6f3fc3fe-a517-484c-a647-7c882b032e65', tool_call_id='call_YVRUhVXWZAZv6btmitsIyHdH'), AIMessage(content='{\"content\": \"BN\"}', additional_kwargs={}, response_metadata={'finish_reason': 'stop', 'model_name': 'gpt-4o-2024-08-06', 'system_fingerprint': 'fp_5f20662549'}, id='run-107b1fec-521c-4985-a109-7640b00da05f-0', usage_metadata={'input_tokens': 467, 'output_tokens': 8, 'total_tokens': 475, 'input_token_details': {'audio': 0, 'cache_read': 0}, 'output_token_details': {'audio': 0, 'reasoning': 0}})]}\n",
      "\u001b[0m\n"
     ]
    }
   ],
   "source": [
    "from agentic_search.capabilities.web import get_web_search_results\n",
    "\n",
    "res = await get_web_search_results(\"what is the ticker symbol of the biggest yoghurt company in the world\")\n",
    "res\n",
    "# write results to file for consultation\n",
    "with open(\"scratchpad.md\", \"w\") as f:\n",
    "    f.write(res[\"results\"])"
   ]
  }
 ],
 "metadata": {
  "kernelspec": {
   "display_name": "venv",
   "language": "python",
   "name": "python3"
  },
  "language_info": {
   "codemirror_mode": {
    "name": "ipython",
    "version": 3
   },
   "file_extension": ".py",
   "mimetype": "text/x-python",
   "name": "python",
   "nbconvert_exporter": "python",
   "pygments_lexer": "ipython3",
   "version": "3.12.3"
  }
 },
 "nbformat": 4,
 "nbformat_minor": 2
}
